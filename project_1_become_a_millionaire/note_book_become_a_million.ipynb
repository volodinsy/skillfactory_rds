{
 "cells": [
  {
   "cell_type": "code",
   "execution_count": 0,
   "metadata": {
    "_cell_guid": "b1076dfc-b9ad-4769-8c92-a6c4dae69d19",
    "_uuid": "8f2839f25d086af736a60e9eeb907d3b93b6e0e5",
    "colab": {},
    "colab_type": "code",
    "id": "U2D2gTdJVp90"
   },
   "outputs": [],
   "source": [
    "import numpy as np\n",
    "import pandas as pd\n",
    "import seaborn as sns\n",
    "import matplotlib.pyplot as plt\n",
    "from collections import Counter"
   ]
  },
  {
   "cell_type": "code",
   "execution_count": 0,
   "metadata": {
    "_cell_guid": "79c7e3d0-c299-4dcb-8224-4455121ee9b0",
    "_uuid": "d629ff2d2480ee46fbb7e2d37f6b5fab8052498a",
    "colab": {},
    "colab_type": "code",
    "id": "oyGfxL3eVp9-"
   },
   "outputs": [],
   "source": [
    "data = pd.read_csv('movie_bd_v5.csv')\n",
    "data.sample(5)"
   ]
  },
  {
   "cell_type": "code",
   "execution_count": 0,
   "metadata": {
    "colab": {},
    "colab_type": "code",
    "id": "CoYUnagMVp-C"
   },
   "outputs": [],
   "source": [
    "data.describe()"
   ]
  },
  {
   "cell_type": "markdown",
   "metadata": {
    "colab_type": "text",
    "id": "DTIt7ezGVp-G"
   },
   "source": [
    "# Предобработка"
    movie_bd['profit']=movie_bd['revenue']-movie_bd['budget']
   ]
  },
  {
   "cell_type": "code",
   "execution_count": 0,
   "metadata": {
    "colab": {},
    "colab_type": "code",
    "id": "jNb40DwKVp-H"
   },
   "outputs": [],
   "source": [
    "answers = {} # создадим словарь для ответов\n",
    "\n",
    answers={}
    "# тут другие ваши предобработки колонок например:\n",
    "\n",
    "#the time given in the dataset is in string format.\n",
    "#So we need to change this in datetime format\n",
    "# ..."
   ]
  },
  {
   "cell_type": "markdown",
   "metadata": {
    "colab_type": "text",
    "id": "YxZaH-nPVp-L"
   },
   "source": [
    "# 1. У какого фильма из списка самый большой бюджет?"
   ]
  },
  {
   "cell_type": "markdown",
   "metadata": {
    "colab_type": "text",
    "id": "Nd-G5gX6Vp-M"
   },
   "source": [
    "Использовать варианты ответов в коде решения запрещено.    \n",
    "Вы думаете и в жизни у вас будут варианты ответов?)"
   ]
  },
  {
   "cell_type": "code",
   "execution_count": 0,
   "metadata": {
    "colab": {},
    "colab_type": "code",
    "id": "uVnXAY5RVp-O"
   },
   "outputs": [],
   "source": [
    "# в словарь вставляем номер вопроса и ваш ответ на него\n",
    "# Пример: \n",
    "answers['1'] = '2. Spider-Man 3 (tt0413300)'\n",
    "# запишите свой вариант ответа\n",
    "answers['1'] = '...'\n",
    "# если ответили верно, можете добавить комментарий со значком \"+\""
   ]
  },
  {
   "cell_type": "code",
   "execution_count": 0,
   "metadata": {
    "colab": {},
    "colab_type": "code",
    "id": "dZwb3m28Vp-S"
   },
   "outputs": [],
   "source": [
    movie_bd = pd.read_csv('../.spyder-py3/movie_bd_v5.csv')
    display(movie_bd.original_title[movie_bd['budget'] == movie_bd.budget.max()])
    answers['1']='Pirates of the Carribean: On Stranger Tides (tt1298650)'
   ]
  },
  {
   "cell_type": "markdown",
   "metadata": {
    "colab_type": "text",
    "id": "K7L3nbRXVp-X"
   },
      "source": [
    "# 2. Какой из фильмов самый длительный (в минутах)?"
   ]
  },
  {
   "cell_type": "code",
   "execution_count": 0,
   "metadata": {
    "colab": {},
    "colab_type": "code",
    "id": "vHAoEXNTVp-d"
   },
   "outputs": [],
   "source": [
    movie_bd = pd.read_csv('../.spyder-py3/movie_bd_v5.csv')
    display(movie_bd.sort_values(by='runtime', ascending = False).head(1)['original_title'])
    answers['2']='Gods and Generals (tt0279111)'
   ]
  },
  {
   "cell_type": "code",
   "execution_count": 0,
   "metadata": {
    "colab": {},
    "colab_type": "code",
    "id": "ot-VX2XrVp-g"
   },
   "outputs": [],
   "source": []
  },
  {
   "cell_type": "markdown",
   "metadata": {
    "colab_type": "text",
    "id": "bapLlpW8Vp-k"
   },
   "source": [
    "# 3. Какой из фильмов самый короткий (в минутах)?\n",
    "\n",
    "\n",
    "\n"
   ]
  },
  {
   "cell_type": "code",
   "execution_count": 0,
   "metadata": {
    "colab": {},
    "colab_type": "code",
    "id": "YBxaSHuAVp-l"
   },
   "outputs": [],
   "source": [
   movie_bd = pd.read_csv('../.spyder-py3/movie_bd_v5.csv')
   display(movie_bd.sort_values(by='runtime', ascending = True).head(1)['original_title'])
   answers['3']='Winnie the Pooh (tt1449283)'
   ]
  },
  {
   "cell_type": "markdown",
   "metadata": {
    "colab_type": "text",
    "id": "TfQbxbfNVp-p"
   },
   "source": [
    "# 4. Какова средняя длительность фильмов?\n"
   ]
  },
  {
   "cell_type": "code",
   "execution_count": 0,
   "metadata": {
    "colab": {},
    "colab_type": "code",
    "id": "5K6dKZYVVp-q"
   },
   "outputs": [],
   "source": [
   movie_bd = pd.read_csv('../.spyder-py3/movie_bd_v5.csv')
   display(round(movie_bd.runtime.mean()))
   answers['4']='+','110'
   ]
  },
  {
   "cell_type": "markdown",
   "metadata": {
    "colab_type": "text",
    "id": "r5TvbnT_Vp-u"
   },
   "source": [
    "# 5. Каково медианное значение длительности фильмов? "
   ]
  },
  {
   "cell_type": "code",
   "execution_count": 0,
   "metadata": {
    "colab": {},
    "colab_type": "code",
    "id": "iBROplKnVp-v"
   },
   "outputs": [],
   "source": [
   movie_bd = pd.read_csv('../.spyder-py3/movie_bd_v5.csv') 
   display(movie_bd['runtime'].median())
   answers['5']='+','107'
   ]
  },
  {
   "cell_type": "markdown",
   "metadata": {
    "colab_type": "text",
    "id": "39P-deDSVp-y"
   },
   "source": [
    "# 6. Какой самый прибыльный фильм?\n",
    "#### Внимание! Здесь и далее под «прибылью» или «убытками» понимается разность между сборами и бюджетом фильма. (прибыль = сборы - бюджет) в нашем датасете это будет (profit = revenue - budget) "
   ]
  },
  {
   "cell_type": "code",
   "execution_count": 0,
   "metadata": {
    "colab": {},
    "colab_type": "code",
    "id": "UYZh4T9WVp-y"
   },
   "outputs": [],
   "source": [
    movie_bd = pd.read_csv('../.spyder-py3/movie_bd_v5.csv') 
    display(movie_bd[profit == profit.max()]['original_title'])
    answers['6']='+','Avatar (tt0499549)'
   ]
  },
  {
   "cell_type": "markdown",
   "metadata": {
    "colab_type": "text",
    "id": "M99JmIX4Vp-2"
   },
   "source": [
    "# 7. Какой фильм самый убыточный? "
   ]
  },
  {
   "cell_type": "code",
   "execution_count": 0,
   "metadata": {
    "colab": {},
    "colab_type": "code",
    "id": "w-D2m4XPVp-3"
   },
   "outputs": [],
   "source": [
   movie_bd = pd.read_csv('../.spyder-py3/movie_bd_v5.csv')
   display(movie_bd.original_title[profit == profit.min()])
   answers['7']='+','The Lone Ranger (tt1210819)'
   ]
  },
  {
   "cell_type": "markdown",
   "metadata": {
    "colab_type": "text",
    "id": "wEOM5ERVVp-6"
   },
   "source": [
    "# 8. У скольких фильмов из датасета объем сборов оказался выше бюджета?"
   ]
  },
  {
   "cell_type": "code",
   "execution_count": 0,
   "metadata": {
    "colab": {},
    "colab_type": "code",
    "id": "y00_7HD6Vp-7"
   },
   "outputs": [],
   "source": [
   movie_bd = pd.read_csv('../.spyder-py3/movie_bd_v5.csv')
   display(movie_bd.revenue.loc[movie_bd.revenue>movie_bd.budget].count())
   display(movie_bd.original_title[movie_bd.revenue>movie_bd.budget].sort_values(ascending = True).head(1))
   answers['8']='+','1478'
   ]
  },
  {
   "cell_type": "markdown",
   "metadata": {
    "colab_type": "text",
    "id": "xhpspA9KVp_A"
   },
   "source": [
    "# 9. Какой фильм оказался самым кассовым в 2008 году?"
   ]
  },
  {
   "cell_type": "code",
   "execution_count": 0,
   "metadata": {
    "colab": {},
    "colab_type": "code",
    "id": "MoUyQr9RVp_B"
   },
   "outputs": [],
   "source": [
   movie_bd = pd.read_csv('../.spyder-py3/movie_bd_v5.csv')
   display(movie_bd[movie_bd['profit']==movie_bd[movie_bd['release_year']==2008]['profit'].max()]['original_title'])
   answers['9']='+','The Dark Knight (tt0468569)'
   ]
  },
  {
   "cell_type": "markdown",
   "metadata": {
    "colab_type": "text",
    "id": "Zi4hDKidVp_F"
   },
   "source": [
    "# 10. Самый убыточный фильм за период с 2012 по 2014 г. (включительно)?\n"
   ]
  },
  {
   "cell_type": "code",
   "execution_count": 0,
   "metadata": {
    "colab": {},
    "colab_type": "code",
    "id": "XqyRmufJVp_F"
   },
   "outputs": [],
   "source": [
   movie_bd = pd.read_csv('../.spyder-py3/movie_bd_v5.csv') 
   display(movie_bd[movie_bd['profit'] == movie_bd[(movie_bd['release_year'] > 2011) &  (movie_bd['release_year'] < 2015)]['profit'].min()]['original_title'])
   answers['10']='+','The Lone Ranger (tt1210819)'
   ]
  },
  {
   "cell_type": "markdown",
   "metadata": {
    "colab_type": "text",
    "id": "EA7Sa9dkVp_I"
   },
   "source": [
    "# 11. Какого жанра фильмов больше всего?"
   ]
  },
  {
   "cell_type": "code",
   "execution_count": 0,
   "metadata": {
    "colab": {},
    "colab_type": "code",
    "id": "zsJAwJ8QVp_J"
   },
   "outputs": [],
   "source": [
    movie_bd = pd.read_csv('../.spyder-py3/movie_bd_v5.csv') 

    genre = (movie_bd.set_index(movie_bd.columns.drop('genres',1).tolist())
          .genres.str.split('|', expand=True)
          .stack()
          .reset_index()
          .rename(columns={0:'genres'})
        .loc[:, movie_bd.columns]
      )
    display(genre['genres'].value_counts().sort_values(ascending = False).head(1))
    answers['11']='+','Drama
   ]
  },
    "source": [
    "# 12. Фильмы какого жанра чаще всего становятся прибыльными? "
   ]
  },
  {
   "cell_type": "code",
   "execution_count": 0,
   "metadata": {
    "colab": {},
    "colab_type": "code",
    "id": "Tmt8MaK1Vp_R"
   },
   "outputs": [],
   "source": [
   movie_bd = pd.read_csv('../.spyder-py3/movie_bd_v5.csv') 
   genre = (movie_bd.set_index(movie_bd.columns.drop('genres',1).tolist())
           .genres.str.split('|', expand=True)
           .stack()
           .reset_index()
           .rename(columns={0:'genres'})
         .loc[:, movie_bd.columns]
      )
   display(genre[genre['profit'] > 0]['genres'].value_counts().head(5))
   answers['12']='+','Drama'
   ]
  },
  {
   "cell_type": "markdown",
   "metadata": {
    "colab_type": "text",
    "id": "0F23bgsDVp_U"
   },
   "source": [
    "# 13. У какого режиссера самые большие суммарные кассовые сборы?"
   ]
  },
  {
   "cell_type": "code",
   "execution_count": 0,
   "metadata": {
    "colab": {},
    "colab_type": "code",
    "id": "K6Z3J8ygVp_X"
   },
   "outputs": [],
   "source": [
   movie_bd = pd.read_csv('../.spyder-py3/movie_bd_v5.csv') 
   display(movie_bd.groupby(['director'])['revenue'].sum().sort_values(ascending=False).head(1))
   answers['13']='+','Peter Jackson'
   ]
  },
  {
   "cell_type": "markdown",
   "metadata": {
    "colab_type": "text",
    "id": "PsYC9FgRVp_a"
   },
   "source": [
    "# 14. Какой режисер снял больше всего фильмов в стиле Action?"
   ]
  },
  {
   "cell_type": "code",
   "execution_count": 0,
   "metadata": {
    "colab": {},
    "colab_type": "code",
    "id": "wd2M-wHeVp_b"
   },
   "outputs": [],
   "source": [
   movie_bd=pd.read_csv('../.spyder-py3/movie_bd_v5.csv')
   movie_bd.genres='Action'
   display(movie_bd.director.value_counts().head(5))
   answers['14']='-','Ridley Scott '
   ]
  },
  {
   "cell_type": "markdown",
   "metadata": {
    "colab_type": "text",
    "id": "PQ0KciD7Vp_f"
   },
   "source": [
    "# 15. Фильмы с каким актером принесли самые высокие кассовые сборы в 2012 году? "
   ]
  },
  {
   "cell_type": "code",
   "execution_count": 0,
   "metadata": {
    "colab": {},
    "colab_type": "code",
    "id": "aga62oeKVp_g"
   },
   "outputs": [],
   "source": [
   movie_bd=pd.read_csv('../.spyder-py3/movie_bd_v5.csv')
   actor = (movie_bd.set_index(movie_bd.columns.drop('cast',1).tolist())
         .cast.str.split('|', expand=True)
         .stack()
          .reset_index()
          .rename(columns={0:'cast'})
         .loc[:, movie_bd.columns]
      )
   prof = actor[(actor['release_year'] == 2012)]
   display(prof.groupby(['cast'])['profit'].sum().sort_values(ascending=False).head(1))
   answers['15']='+','Chris Hemsworth'
   ]
  },
  {
   "cell_type": "markdown",
   "metadata": {
    "colab_type": "text",
    "id": "mWHyyL7QVp_j"
   },
   "source": [
    "# 16. Какой актер снялся в большем количестве высокобюджетных фильмов?"
   ]
  },
  {
   "cell_type": "code",
   "execution_count": 0,
   "metadata": {
    "colab": {},
    "colab_type": "code",
    "id": "qQtmHKTFVp_k"
   },
   "outputs": [],
   "source": [
   movie_bd=pd.read_csv('../.spyder-py3/movie_bd_v5.csv')
   actor = (movie_bd.set_index(movie_bd.columns.drop('cast',1).tolist())
         .cast.str.split('|', expand=True)
         .stack()
          .reset_index()
          .rename(columns={0:'cast'})
          .loc[:, movie_bd.columns]
      )
   display(actor[actor['budget'] > actor['budget'].mean()]['cast'].value_counts().sort_values(ascending=False).head(1))
   answers['16']='+','Matt Damon'
   ]
  },
  {
   "cell_type": "markdown",
   "metadata": {
    "colab_type": "text",
    "id": "NIh6AaW5Vp_n"
   },
   "source": [
    "# 17. В фильмах какого жанра больше всего снимался Nicolas Cage? "
   ]
  },
  {
   "cell_type": "code",
   "execution_count": 0,
   "metadata": {
    "colab": {},
    "colab_type": "code",
    "id": "H74SJDIBVp_n"
   },
   "outputs": [],
   "source": [
   movie_bd=pd.read_csv('../.spyder-py3/movie_bd_v5.csv')
   actor = (movie_bd.set_index(movie_bd.columns.drop('cast',1).tolist())
         .cast.str.split('|', expand=True)
         .stack()
          .reset_index()
          .rename(columns={0:'cast'})
         .loc[:, movie_bd.columns]
      )

   nicolas = actor[actor['cast'] == 'Nicolas Cage']['genres']
   nicolas = nicolas.apply(lambda x: x.split('|'))

   nf = []
   for genres in nicolas:
       for genre in genres:
           nf.append(genre)
   import collections
   c = collections.Counter()
   for word in nf:
        c[word] += 1
   print(c)
   answers['17']='+','Action'
      ]
  },
  {
   "cell_type": "markdown",
   "metadata": {
    "colab_type": "text",
    "id": "RqOmPRfWVp_q"
   },
   "source": [
    "# 18. Самый убыточный фильм от Paramount Pictures"
   ]
  },
  {
   "cell_type": "code",
   "execution_count": 0,
   "metadata": {
    "colab": {},
    "colab_type": "code",
    "id": "9E_B0Y96Vp_r"
   },
   "outputs": [],
   "source": [
   movie_bd=pd.read_csv('../.spyder-py3/movie_bd_v5.csv')
   param = movie_bd[movie_bd['production_companies'] == 'Paramount Pictures']
   display(param.original_title[param['profit']==param['profit'].min()])
   answers['18']='-','Domestic Disturbance - ответа нет в вариантах'
   ]
  },
  {
   "cell_type": "markdown",
   "metadata": {
    "colab_type": "text",
    "id": "vS8Ur6ddVp_u"
   },
   "source": [
    "# 19. Какой год стал самым успешным по суммарным кассовым сборам?"
   ]
  },
  {
   "cell_type": "code",
   "execution_count": 0,
   "metadata": {
    "colab": {},
    "colab_type": "code",
    "id": "Dnbt4GdIVp_v"
   },
   "outputs": [],
   "source": [
   movie_bd=pd.read_csv('../.spyder-py3/movie_bd_v5.csv')
   group_revenue=movie_bd.groupby(['release_year'])['profit'].sum().sort_values(ascending=False)
   display(group_revenue.head(1))
   answers['19']='+','2015'
   ]
  },
  {
   "cell_type": "markdown",
   "metadata": {
    "colab_type": "text",
    "id": "JAzJh4QAVp_z"
   },
   "source": [
    "# 20. Какой самый прибыльный год для студии Warner Bros?"
   ]
  },
  {
   "cell_type": "code",
   "execution_count": 0,
   "metadata": {
    "colab": {},
    "colab_type": "code",
    "id": "wgVu02DEVp_0"
   },
   "outputs": [],
   "source": [
   movie_bd=pd.read_csv('../.spyder-py3/movie_bd_v5.csv')
   display(movie_bd[movie_bd['production_companies'].str.contains("Warner", na=False) == True].groupby(['release_year']).sum().sort_values(by='profit', ascending=False).head(1))
   answers['20']='+','2014'
   ]
  },
  {
   "cell_type": "markdown",
   "metadata": {
    "colab_type": "text",
    "id": "8Im1S2HRVp_4"
   },
   "source": [
    "# 21. В каком месяце за все годы суммарно вышло больше всего фильмов?"
   ]
  },
  {
   "cell_type": "code",
   "execution_count": 0,
   "metadata": {
    "colab": {},
    "colab_type": "code",
    "id": "lev6TH7gVp_4"
   },
   "outputs": [],
   "source": [
   movie_bd=pd.read_csv('../.spyder-py3/movie_bd_v5.csv')
   movie_bd["Month"] = pd.to_datetime(movie_bd["release_date"], format="%m/%d/%Y")
   movie_bd["Month"] = pd.DatetimeIndex(movie_bd['Month']).month
   xx = movie_bd.groupby(["Month"])['imdb_id'].count()
   display(xx.sort_values(ascending=False).head(1))
   answers['21']='+','9 - Сентябрь'
   ]
  },
  {
   "cell_type": "markdown",
   "metadata": {
    "colab_type": "text",
    "id": "uAJsZ_NeVp_7"
   },
   "source": [
    "# 22. Сколько суммарно вышло фильмов летом? (за июнь, июль, август)"
   ]
  },
  {
   "cell_type": "code",
   "execution_count": 0,
   "metadata": {
    "colab": {},
    "colab_type": "code",
    "id": "Aa-hEREoVp_8"
   },
   "outputs": [],
   "source": [
   movie_bd=pd.read_csv('../.spyder-py3/movie_bd_v5.csv')
   movie_bd["Month"] = pd.to_datetime(movie_bd["release_date"], format="%m/%d/%Y")
   movie_bd["Month"] = pd.DatetimeIndex(movie_bd['Month']).month
   display(movie_bd[(movie_bd['Month'] == 6) | (movie_bd['Month'] == 7) | (movie_bd['Month'] == 8)]['imdb_id'].count())
   answers['22']='+','450'
   ]
  },
  {
   "cell_type": "markdown",
   "metadata": {
    "colab_type": "text",
    "id": "G94ppOY1VqAA"
   },
   "source": [
    "# 23. Для какого режиссера зима – самое продуктивное время года? "
   ]
  },
  {
   "cell_type": "code",
   "execution_count": 0,
   "metadata": {
    "colab": {},
    "colab_type": "code",
    "id": "RhNTsamuVqAB"
   },
   "outputs": [],
   "source": [
   movie_bd=pd.read_csv('../.spyder-py3/movie_bd_v5.csv')
   movie_bd["Month"] = pd.to_datetime(movie_bd["release_date"], format="%m/%d/%Y")
   movie_bd["Month"] = pd.DatetimeIndex(movie_bd['Month']).month
   display(movie_bd[(movie_bd['Month'] == 12) | (movie_bd['Month'] == 1) | (movie_bd['Month'] == 2)].groupby(['director']).count().sort_values(by='imdb_id', ascending=False).head(1))
   answers['23']='+','Peter Jackson '
   ]
  },
  {
   "cell_type": "markdown",
   "metadata": {
    "colab_type": "text",
    "id": "RBo0JVjVVqAF"
   },
   "source": [
    "# 24. Какая студия дает самые длинные названия своим фильмам по количеству символов?"
   ]
  },
  {
   "cell_type": "code",
   "execution_count": 0,
   "metadata": {
    "colab": {},
    "colab_type": "code",
    "id": "QRGS8L0iVqAG"
   },
   "outputs": [],
   "source": [
   movie_bd=pd.read_csv('../.spyder-py3/movie_bd_v5.csv')
   movie_bd['length'] = movie_bd['original_title'].apply(lambda x: len(x))

   product = (movie_bd.set_index(movie_bd.columns.drop('production_companies',1).tolist())
           .production_companies.str.split('|', expand=True)
           .stack()
           .reset_index()
           .rename(columns={0:'production_companies'})
         .loc[:, movie_bd.columns]
      )
   display(product.groupby('production_companies')['length'].max().sort_values(ascending=False).head())
   answers['24']='+','Four By Two Productions'
   ]
  },
  {
   "cell_type": "markdown",
   "metadata": {
    "colab_type": "text",
    "id": "9G0hbvR7VqAK"
   },
   "source": [
    "# 25. Описание фильмов какой студии в среднем самые длинные по количеству слов?"
   ]
  },
  {
   "cell_type": "code",
   "execution_count": 0,
   "metadata": {
    "colab": {},
    "colab_type": "code",
    "id": "Ge2GsLNxVqAK"
   },
   "outputs": [],
   "source": [
   movie_bd=pd.read_csv('../.spyder-py3/movie_bd_v5.csv')
   movie_bd['word'] = movie_bd['original_title'].apply(lambda x: len(x.split(' ')))

   product = (movie_bd.set_index(movie_bd.columns.drop('production_companies',1).tolist())
           .production_companies.str.split('|', expand=True)
           .stack()
           .reset_index()
           .rename(columns={0:'production_companies'})
         .loc[:, movie_bd.columns]
      )
   display(product.groupby('production_companies')['word'].max().sort_values(ascending=False).head(30))
   answers['25']='-','Warner Bros.'
   ]
  },
  {
   "cell_type": "markdown",
   "metadata": {
    "colab_type": "text",
    "id": "FJ1AFt90VqAP"
   },
   "source": [
    "# 26. Какие фильмы входят в 1 процент лучших по рейтингу? \n",
    "по vote_average"
   ]
  },
  {
   "cell_type": "code",
   "execution_count": 0,
   "metadata": {
    "colab": {},
    "colab_type": "code",
    "id": "8qmJVq4CVqAQ"
   },
   "outputs": [],
   "source": [
   movie_bd=pd.read_csv('../.spyder-py3/movie_bd_v5.csv')
   #количество фильмов, которое входит в 1%
   persent1 = int(len(movie_bd) * 0.01)
   #отсортируем по убыванию 1% лучших по рейтингу фильмов 
   xx = movie_bd.sort_values(by='vote_average',  ascending=False)[:persent1]
   display(xx.original_title)
   answers['26']='+','Inside Out,The Dark Knight,12 Years a Slave'
   ]
  },
  {
   "cell_type": "markdown",
   "metadata": {
    "colab_type": "text",
    "id": "MdXsUXbCVqAV"
   },
   "source": [
    "# 27. Какие актеры чаще всего снимаются в одном фильме вместе?\n"
   ]
  },
  {
   "cell_type": "markdown",
   "metadata": {
    "colab_type": "text",
    "id": "4ymnxEVoVqAW"
   },
   "source": [
    movie_bd=pd.read_csv('../.spyder-py3/movie_bd_v5.csv')
    #скопируем столбец cast в столбец castcoma и уберем разделители в виде "," и "/"
    movie_bd['castcoma'] = movie_bd['cast'].apply(lambda x: x.replace('|', ', '))

    jh =  ['Johnny Depp', 'Helena Bonham Carter']
    hi =  ['Hugh Jackman', 'Ian McKellen']
    vp =  ['Vin Diesel', 'Paul Walker']
    ak =  ['Adam Sandler', 'Kevin James']
    dr = ['Daniel Radcliffe', 'Rupert Grint']

    #ищем совпадения
    jhs = movie_bd[(movie_bd.castcoma.str.contains("Johnny Depp", na=False)) & (movie_bd.castcoma.str.contains("Helena Bonham Carter", na=False))]
    his = movie_bd[(movie_bd.castcoma.str.contains("Hugh Jackman", na=False)) & (movie_bd.castcoma.str.contains("Ian McKellen", na=False))]
    vps = movie_bd[(movie_bd.castcoma.str.contains("Vin Diesel", na=False)) & (movie_bd.castcoma.str.contains("Paul Walker", na=False))]
    aks = movie_bd[(movie_bd.castcoma.str.contains("Adam Sandler", na=False)) & (movie_bd.castcoma.str.contains("Kevin James", na=False))]
    drs = movie_bd[(movie_bd.castcoma.str.contains("Daniel Radcliffe", na=False)) & (movie_bd.castcoma.str.contains("Rupert Grint", na=False))]
    #выводим количество этих совпадений
    print()

    print("Johnny Depp & Helena Bonham Carter -",len(jhs))
    print("Hugh Jackman & Ian McKellen -",len(his))
    print("Vin Diesel & Paul Walker -",len(vps))
    print("Adam Sandler & Kevin James -",len(aks))
    print("Daniel Radcliffe & Rupert Grint -",len(drs))
    answers['27']='+','Daniel Radcliffe & Rupert Grint'
   ]
  },
  {
   "cell_type": "markdown",
   "metadata": {
    "colab_type": "text",
    "id": "U0nONFnGVqAX"
   },
   "source": [
    "# Submission"
   ]
  },
  {
   "cell_type": "code",
   "execution_count": 0,
   "metadata": {
    "colab": {},
    "colab_type": "code",
    "id": "IfcaRO9-VqAX",
    "outputId": "0f132912-32bb-4196-c98c-abfbc4ad5a5f"
   },
   "outputs": [
    {
     "data": {
      "text/plain": [
       "{'1': '...', '2': '...'}"
      ]
     },
     "execution_count": 8,
     "metadata": {
      "tags": []
     },
     "output_type": "execute_result"
    }
   ],
   "source": [
    "# в конце можно посмотреть свои ответы к каждому вопросу\n",
    "answers"
    display(answers)
   ]
  },
  {
   "cell_type": "code",
   "execution_count": 0,
   "metadata": {
    "colab": {},
    "colab_type": "code",
    "id": "SiRmHPl8VqAd"
   },
   "outputs": [],
   "source": [
    "# и убедиться что ни чего не пропустил)\n",
    "len(answers)"
    display(len(answers))
   ]
  },
  {
   "cell_type": "code",
   "execution_count": 0,
   "metadata": {
    "colab": {},
    "colab_type": "code",
    "id": "uCfuTkRbVqAg"
   },
   "outputs": [],
   "source": []
  },
  {
   "cell_type": "code",
   "execution_count": 0,
   "metadata": {
    "colab": {},
    "colab_type": "code",
    "id": "Vwx3NrkSVqAl"
   },
   "outputs": [],
   "source": []
  }
 ],
 "metadata": {
  "colab": {
   "name": "Copy of [SF-DST] Movies IMBD v4.1 TEMPLATE.ipynb",
   "provenance": []
  },
  "kernelspec": {
   "display_name": "Python 3",
   "language": "python",
   "name": "python3"
  },
  "language_info": {
   "codemirror_mode": {
    "name": "ipython",
    "version": 3
   },
   "file_extension": ".py",
   "mimetype": "text/x-python",
   "name": "python",
   "nbconvert_exporter": "python",
   "pygments_lexer": "ipython3",
   "version": "3.7.4"
  }
 },
 "nbformat": 4,
 "nbformat_minor": 1
}
