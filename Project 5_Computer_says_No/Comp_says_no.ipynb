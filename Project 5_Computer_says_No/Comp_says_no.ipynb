{
 "cells": [
  {
   "cell_type": "markdown",
   "id": "524ee1c4",
   "metadata": {},
   "source": [
    "#### ЗАГРУЖАЕМ НЕОБХОДИМЫЕ БИБЛИОТЕКИ"
   ]
  },
  {
   "cell_type": "code",
   "execution_count": 1,
   "id": "f73ee028",
   "metadata": {},
   "outputs": [],
   "source": [
    "from pandas import Series\n",
    "import pandas as pd\n",
    "import numpy as np\n",
    "\n",
    "\n",
    "import matplotlib.pyplot as plt\n",
    "import seaborn as sns\n",
    "\n",
    "from sklearn.feature_selection import f_classif, mutual_info_classif\n",
    "from sklearn.preprocessing import LabelEncoder, OneHotEncoder, StandardScaler\n",
    "\n",
    "from sklearn.model_selection import train_test_split\n",
    "from sklearn.linear_model import LogisticRegression\n",
    "\n",
    "\n",
    "from sklearn.metrics import confusion_matrix\n",
    "from sklearn.metrics import auc, roc_auc_score, roc_curve\n",
    "from sklearn.metrics import accuracy_score, precision_score, recall_score, f1_score\n",
    "\n",
    "from sklearn.metrics import accuracy_score, precision_score, recall_score, f1_score, confusion_matrix, ConfusionMatrixDisplay"
   ]
  },
  {
   "cell_type": "markdown",
   "id": "a7bbf745",
   "metadata": {},
   "source": [
    "#### ЗАГРУЗКА ДАННЫХ"
   ]
  },
  {
   "cell_type": "code",
   "execution_count": 2,
   "id": "a08d0278",
   "metadata": {},
   "outputs": [],
   "source": [
    "train = pd.read_csv(\"./train.csv\", encoding = 'ISO-8859-1', low_memory = False)"
   ]
  },
  {
   "cell_type": "code",
   "execution_count": 3,
   "id": "cadb8c16",
   "metadata": {},
   "outputs": [],
   "source": [
    "test = pd.read_csv(\"./test.csv\", encoding = 'ISO-8859-1', low_memory = False)"
   ]
  },
  {
   "cell_type": "code",
   "execution_count": 4,
   "id": "77b87864",
   "metadata": {},
   "outputs": [],
   "source": [
    "sample_submission = pd.read_csv(\"./sample_submission.csv\", encoding = 'ISO-8859-1', low_memory = False)"
   ]
  },
  {
   "cell_type": "code",
   "execution_count": 5,
   "id": "4eb2329c",
   "metadata": {},
   "outputs": [
    {
     "data": {
      "text/html": [
       "<div>\n",
       "<style scoped>\n",
       "    .dataframe tbody tr th:only-of-type {\n",
       "        vertical-align: middle;\n",
       "    }\n",
       "\n",
       "    .dataframe tbody tr th {\n",
       "        vertical-align: top;\n",
       "    }\n",
       "\n",
       "    .dataframe thead th {\n",
       "        text-align: right;\n",
       "    }\n",
       "</style>\n",
       "<table border=\"1\" class=\"dataframe\">\n",
       "  <thead>\n",
       "    <tr style=\"text-align: right;\">\n",
       "      <th></th>\n",
       "      <th>client_id</th>\n",
       "      <th>app_date</th>\n",
       "      <th>education</th>\n",
       "      <th>sex</th>\n",
       "      <th>age</th>\n",
       "      <th>car</th>\n",
       "      <th>car_type</th>\n",
       "      <th>decline_app_cnt</th>\n",
       "      <th>good_work</th>\n",
       "      <th>score_bki</th>\n",
       "      <th>bki_request_cnt</th>\n",
       "      <th>region_rating</th>\n",
       "      <th>home_address</th>\n",
       "      <th>work_address</th>\n",
       "      <th>income</th>\n",
       "      <th>sna</th>\n",
       "      <th>first_time</th>\n",
       "      <th>foreign_passport</th>\n",
       "      <th>default</th>\n",
       "    </tr>\n",
       "  </thead>\n",
       "  <tbody>\n",
       "    <tr>\n",
       "      <th>0</th>\n",
       "      <td>25905</td>\n",
       "      <td>01FEB2014</td>\n",
       "      <td>SCH</td>\n",
       "      <td>M</td>\n",
       "      <td>62</td>\n",
       "      <td>Y</td>\n",
       "      <td>Y</td>\n",
       "      <td>0</td>\n",
       "      <td>0</td>\n",
       "      <td>-2.008753</td>\n",
       "      <td>1</td>\n",
       "      <td>50</td>\n",
       "      <td>1</td>\n",
       "      <td>2</td>\n",
       "      <td>18000</td>\n",
       "      <td>4</td>\n",
       "      <td>1</td>\n",
       "      <td>N</td>\n",
       "      <td>0</td>\n",
       "    </tr>\n",
       "    <tr>\n",
       "      <th>1</th>\n",
       "      <td>63161</td>\n",
       "      <td>12MAR2014</td>\n",
       "      <td>SCH</td>\n",
       "      <td>F</td>\n",
       "      <td>59</td>\n",
       "      <td>N</td>\n",
       "      <td>N</td>\n",
       "      <td>0</td>\n",
       "      <td>0</td>\n",
       "      <td>-1.532276</td>\n",
       "      <td>3</td>\n",
       "      <td>50</td>\n",
       "      <td>2</td>\n",
       "      <td>3</td>\n",
       "      <td>19000</td>\n",
       "      <td>4</td>\n",
       "      <td>1</td>\n",
       "      <td>N</td>\n",
       "      <td>0</td>\n",
       "    </tr>\n",
       "    <tr>\n",
       "      <th>2</th>\n",
       "      <td>25887</td>\n",
       "      <td>01FEB2014</td>\n",
       "      <td>SCH</td>\n",
       "      <td>M</td>\n",
       "      <td>25</td>\n",
       "      <td>Y</td>\n",
       "      <td>N</td>\n",
       "      <td>2</td>\n",
       "      <td>0</td>\n",
       "      <td>-1.408142</td>\n",
       "      <td>1</td>\n",
       "      <td>80</td>\n",
       "      <td>1</td>\n",
       "      <td>2</td>\n",
       "      <td>30000</td>\n",
       "      <td>1</td>\n",
       "      <td>4</td>\n",
       "      <td>Y</td>\n",
       "      <td>0</td>\n",
       "    </tr>\n",
       "    <tr>\n",
       "      <th>3</th>\n",
       "      <td>16222</td>\n",
       "      <td>23JAN2014</td>\n",
       "      <td>SCH</td>\n",
       "      <td>F</td>\n",
       "      <td>53</td>\n",
       "      <td>N</td>\n",
       "      <td>N</td>\n",
       "      <td>0</td>\n",
       "      <td>0</td>\n",
       "      <td>-2.057471</td>\n",
       "      <td>2</td>\n",
       "      <td>50</td>\n",
       "      <td>2</td>\n",
       "      <td>3</td>\n",
       "      <td>10000</td>\n",
       "      <td>1</td>\n",
       "      <td>3</td>\n",
       "      <td>N</td>\n",
       "      <td>0</td>\n",
       "    </tr>\n",
       "    <tr>\n",
       "      <th>4</th>\n",
       "      <td>101655</td>\n",
       "      <td>18APR2014</td>\n",
       "      <td>GRD</td>\n",
       "      <td>M</td>\n",
       "      <td>48</td>\n",
       "      <td>N</td>\n",
       "      <td>N</td>\n",
       "      <td>0</td>\n",
       "      <td>1</td>\n",
       "      <td>-1.244723</td>\n",
       "      <td>1</td>\n",
       "      <td>60</td>\n",
       "      <td>2</td>\n",
       "      <td>3</td>\n",
       "      <td>30000</td>\n",
       "      <td>1</td>\n",
       "      <td>4</td>\n",
       "      <td>Y</td>\n",
       "      <td>0</td>\n",
       "    </tr>\n",
       "  </tbody>\n",
       "</table>\n",
       "</div>"
      ],
      "text/plain": [
       "   client_id   app_date education sex  age car car_type  decline_app_cnt  \\\n",
       "0      25905  01FEB2014       SCH   M   62   Y        Y                0   \n",
       "1      63161  12MAR2014       SCH   F   59   N        N                0   \n",
       "2      25887  01FEB2014       SCH   M   25   Y        N                2   \n",
       "3      16222  23JAN2014       SCH   F   53   N        N                0   \n",
       "4     101655  18APR2014       GRD   M   48   N        N                0   \n",
       "\n",
       "   good_work  score_bki  bki_request_cnt  region_rating  home_address  \\\n",
       "0          0  -2.008753                1             50             1   \n",
       "1          0  -1.532276                3             50             2   \n",
       "2          0  -1.408142                1             80             1   \n",
       "3          0  -2.057471                2             50             2   \n",
       "4          1  -1.244723                1             60             2   \n",
       "\n",
       "   work_address  income  sna  first_time foreign_passport  default  \n",
       "0             2   18000    4           1                N        0  \n",
       "1             3   19000    4           1                N        0  \n",
       "2             2   30000    1           4                Y        0  \n",
       "3             3   10000    1           3                N        0  \n",
       "4             3   30000    1           4                Y        0  "
      ]
     },
     "execution_count": 5,
     "metadata": {},
     "output_type": "execute_result"
    }
   ],
   "source": [
    "train.head()"
   ]
  },
  {
   "cell_type": "code",
   "execution_count": 6,
   "id": "bd3efd6d",
   "metadata": {},
   "outputs": [
    {
     "data": {
      "text/html": [
       "<div>\n",
       "<style scoped>\n",
       "    .dataframe tbody tr th:only-of-type {\n",
       "        vertical-align: middle;\n",
       "    }\n",
       "\n",
       "    .dataframe tbody tr th {\n",
       "        vertical-align: top;\n",
       "    }\n",
       "\n",
       "    .dataframe thead th {\n",
       "        text-align: right;\n",
       "    }\n",
       "</style>\n",
       "<table border=\"1\" class=\"dataframe\">\n",
       "  <thead>\n",
       "    <tr style=\"text-align: right;\">\n",
       "      <th></th>\n",
       "      <th>client_id</th>\n",
       "      <th>app_date</th>\n",
       "      <th>education</th>\n",
       "      <th>sex</th>\n",
       "      <th>age</th>\n",
       "      <th>car</th>\n",
       "      <th>car_type</th>\n",
       "      <th>decline_app_cnt</th>\n",
       "      <th>good_work</th>\n",
       "      <th>score_bki</th>\n",
       "      <th>bki_request_cnt</th>\n",
       "      <th>region_rating</th>\n",
       "      <th>home_address</th>\n",
       "      <th>work_address</th>\n",
       "      <th>income</th>\n",
       "      <th>sna</th>\n",
       "      <th>first_time</th>\n",
       "      <th>foreign_passport</th>\n",
       "    </tr>\n",
       "  </thead>\n",
       "  <tbody>\n",
       "    <tr>\n",
       "      <th>0</th>\n",
       "      <td>74835</td>\n",
       "      <td>22MAR2014</td>\n",
       "      <td>GRD</td>\n",
       "      <td>M</td>\n",
       "      <td>29</td>\n",
       "      <td>Y</td>\n",
       "      <td>Y</td>\n",
       "      <td>0</td>\n",
       "      <td>0</td>\n",
       "      <td>-2.271884</td>\n",
       "      <td>3</td>\n",
       "      <td>50</td>\n",
       "      <td>1</td>\n",
       "      <td>2</td>\n",
       "      <td>50000</td>\n",
       "      <td>1</td>\n",
       "      <td>4</td>\n",
       "      <td>N</td>\n",
       "    </tr>\n",
       "    <tr>\n",
       "      <th>1</th>\n",
       "      <td>17527</td>\n",
       "      <td>24JAN2014</td>\n",
       "      <td>SCH</td>\n",
       "      <td>F</td>\n",
       "      <td>39</td>\n",
       "      <td>N</td>\n",
       "      <td>N</td>\n",
       "      <td>5</td>\n",
       "      <td>0</td>\n",
       "      <td>-1.504999</td>\n",
       "      <td>2</td>\n",
       "      <td>50</td>\n",
       "      <td>1</td>\n",
       "      <td>2</td>\n",
       "      <td>5000</td>\n",
       "      <td>4</td>\n",
       "      <td>3</td>\n",
       "      <td>N</td>\n",
       "    </tr>\n",
       "    <tr>\n",
       "      <th>2</th>\n",
       "      <td>75683</td>\n",
       "      <td>23MAR2014</td>\n",
       "      <td>UGR</td>\n",
       "      <td>M</td>\n",
       "      <td>50</td>\n",
       "      <td>Y</td>\n",
       "      <td>Y</td>\n",
       "      <td>0</td>\n",
       "      <td>0</td>\n",
       "      <td>-1.691339</td>\n",
       "      <td>1</td>\n",
       "      <td>50</td>\n",
       "      <td>1</td>\n",
       "      <td>2</td>\n",
       "      <td>30000</td>\n",
       "      <td>1</td>\n",
       "      <td>3</td>\n",
       "      <td>Y</td>\n",
       "    </tr>\n",
       "    <tr>\n",
       "      <th>3</th>\n",
       "      <td>26883</td>\n",
       "      <td>03FEB2014</td>\n",
       "      <td>SCH</td>\n",
       "      <td>M</td>\n",
       "      <td>56</td>\n",
       "      <td>N</td>\n",
       "      <td>N</td>\n",
       "      <td>0</td>\n",
       "      <td>0</td>\n",
       "      <td>-2.374182</td>\n",
       "      <td>1</td>\n",
       "      <td>40</td>\n",
       "      <td>1</td>\n",
       "      <td>2</td>\n",
       "      <td>17000</td>\n",
       "      <td>1</td>\n",
       "      <td>3</td>\n",
       "      <td>N</td>\n",
       "    </tr>\n",
       "    <tr>\n",
       "      <th>4</th>\n",
       "      <td>28862</td>\n",
       "      <td>04FEB2014</td>\n",
       "      <td>GRD</td>\n",
       "      <td>F</td>\n",
       "      <td>38</td>\n",
       "      <td>N</td>\n",
       "      <td>N</td>\n",
       "      <td>0</td>\n",
       "      <td>0</td>\n",
       "      <td>-2.487502</td>\n",
       "      <td>0</td>\n",
       "      <td>80</td>\n",
       "      <td>2</td>\n",
       "      <td>3</td>\n",
       "      <td>120000</td>\n",
       "      <td>1</td>\n",
       "      <td>3</td>\n",
       "      <td>N</td>\n",
       "    </tr>\n",
       "  </tbody>\n",
       "</table>\n",
       "</div>"
      ],
      "text/plain": [
       "   client_id   app_date education sex  age car car_type  decline_app_cnt  \\\n",
       "0      74835  22MAR2014       GRD   M   29   Y        Y                0   \n",
       "1      17527  24JAN2014       SCH   F   39   N        N                5   \n",
       "2      75683  23MAR2014       UGR   M   50   Y        Y                0   \n",
       "3      26883  03FEB2014       SCH   M   56   N        N                0   \n",
       "4      28862  04FEB2014       GRD   F   38   N        N                0   \n",
       "\n",
       "   good_work  score_bki  bki_request_cnt  region_rating  home_address  \\\n",
       "0          0  -2.271884                3             50             1   \n",
       "1          0  -1.504999                2             50             1   \n",
       "2          0  -1.691339                1             50             1   \n",
       "3          0  -2.374182                1             40             1   \n",
       "4          0  -2.487502                0             80             2   \n",
       "\n",
       "   work_address  income  sna  first_time foreign_passport  \n",
       "0             2   50000    1           4                N  \n",
       "1             2    5000    4           3                N  \n",
       "2             2   30000    1           3                Y  \n",
       "3             2   17000    1           3                N  \n",
       "4             3  120000    1           3                N  "
      ]
     },
     "execution_count": 6,
     "metadata": {},
     "output_type": "execute_result"
    }
   ],
   "source": [
    "test.head()"
   ]
  },
  {
   "cell_type": "code",
   "execution_count": 7,
   "id": "8bb16609",
   "metadata": {},
   "outputs": [
    {
     "data": {
      "text/html": [
       "<div>\n",
       "<style scoped>\n",
       "    .dataframe tbody tr th:only-of-type {\n",
       "        vertical-align: middle;\n",
       "    }\n",
       "\n",
       "    .dataframe tbody tr th {\n",
       "        vertical-align: top;\n",
       "    }\n",
       "\n",
       "    .dataframe thead th {\n",
       "        text-align: right;\n",
       "    }\n",
       "</style>\n",
       "<table border=\"1\" class=\"dataframe\">\n",
       "  <thead>\n",
       "    <tr style=\"text-align: right;\">\n",
       "      <th></th>\n",
       "      <th>client_id</th>\n",
       "      <th>default</th>\n",
       "    </tr>\n",
       "  </thead>\n",
       "  <tbody>\n",
       "    <tr>\n",
       "      <th>0</th>\n",
       "      <td>74835</td>\n",
       "      <td>0</td>\n",
       "    </tr>\n",
       "    <tr>\n",
       "      <th>1</th>\n",
       "      <td>17527</td>\n",
       "      <td>0</td>\n",
       "    </tr>\n",
       "    <tr>\n",
       "      <th>2</th>\n",
       "      <td>75683</td>\n",
       "      <td>0</td>\n",
       "    </tr>\n",
       "    <tr>\n",
       "      <th>3</th>\n",
       "      <td>26883</td>\n",
       "      <td>0</td>\n",
       "    </tr>\n",
       "    <tr>\n",
       "      <th>4</th>\n",
       "      <td>28862</td>\n",
       "      <td>0</td>\n",
       "    </tr>\n",
       "    <tr>\n",
       "      <th>5</th>\n",
       "      <td>99881</td>\n",
       "      <td>0</td>\n",
       "    </tr>\n",
       "    <tr>\n",
       "      <th>6</th>\n",
       "      <td>26630</td>\n",
       "      <td>0</td>\n",
       "    </tr>\n",
       "    <tr>\n",
       "      <th>7</th>\n",
       "      <td>79934</td>\n",
       "      <td>0</td>\n",
       "    </tr>\n",
       "    <tr>\n",
       "      <th>8</th>\n",
       "      <td>16605</td>\n",
       "      <td>0</td>\n",
       "    </tr>\n",
       "    <tr>\n",
       "      <th>9</th>\n",
       "      <td>105449</td>\n",
       "      <td>0</td>\n",
       "    </tr>\n",
       "  </tbody>\n",
       "</table>\n",
       "</div>"
      ],
      "text/plain": [
       "   client_id  default\n",
       "0      74835        0\n",
       "1      17527        0\n",
       "2      75683        0\n",
       "3      26883        0\n",
       "4      28862        0\n",
       "5      99881        0\n",
       "6      26630        0\n",
       "7      79934        0\n",
       "8      16605        0\n",
       "9     105449        0"
      ]
     },
     "execution_count": 7,
     "metadata": {},
     "output_type": "execute_result"
    }
   ],
   "source": [
    "sample_submission.head(10)"
   ]
  },
  {
   "cell_type": "markdown",
   "id": "9f8c99a5",
   "metadata": {},
   "source": [
    "**ПОСМОТРИМ УНИКАЛЬНЫЕ ЗНАЧЕНИЯ ПО СТОЛБЦАМ**"
   ]
  },
  {
   "cell_type": "code",
   "execution_count": 8,
   "id": "9e19fdba",
   "metadata": {},
   "outputs": [
    {
     "data": {
      "text/html": [
       "<div>\n",
       "<style scoped>\n",
       "    .dataframe tbody tr th:only-of-type {\n",
       "        vertical-align: middle;\n",
       "    }\n",
       "\n",
       "    .dataframe tbody tr th {\n",
       "        vertical-align: top;\n",
       "    }\n",
       "\n",
       "    .dataframe thead th {\n",
       "        text-align: right;\n",
       "    }\n",
       "</style>\n",
       "<table border=\"1\" class=\"dataframe\">\n",
       "  <thead>\n",
       "    <tr style=\"text-align: right;\">\n",
       "      <th></th>\n",
       "      <th>&lt;lambda&gt;</th>\n",
       "      <th>nunique</th>\n",
       "      <th>null</th>\n",
       "      <th>dtype</th>\n",
       "    </tr>\n",
       "  </thead>\n",
       "  <tbody>\n",
       "    <tr>\n",
       "      <th>client_id</th>\n",
       "      <td>[25905, 63161, 25887, 16222, 101655, 41415, 28...</td>\n",
       "      <td>110148</td>\n",
       "      <td>0</td>\n",
       "      <td>int64</td>\n",
       "    </tr>\n",
       "    <tr>\n",
       "      <th>app_date</th>\n",
       "      <td>[01FEB2014, 12MAR2014, 23JAN2014, 18APR2014, 1...</td>\n",
       "      <td>120</td>\n",
       "      <td>0</td>\n",
       "      <td>object</td>\n",
       "    </tr>\n",
       "    <tr>\n",
       "      <th>education</th>\n",
       "      <td>[SCH, GRD, UGR, PGR, ACD, nan]</td>\n",
       "      <td>5</td>\n",
       "      <td>478</td>\n",
       "      <td>object</td>\n",
       "    </tr>\n",
       "    <tr>\n",
       "      <th>sex</th>\n",
       "      <td>[M, F]</td>\n",
       "      <td>2</td>\n",
       "      <td>0</td>\n",
       "      <td>object</td>\n",
       "    </tr>\n",
       "    <tr>\n",
       "      <th>age</th>\n",
       "      <td>[62, 59, 25, 53, 48, 27, 39, 50, 54, 29]</td>\n",
       "      <td>52</td>\n",
       "      <td>0</td>\n",
       "      <td>int64</td>\n",
       "    </tr>\n",
       "    <tr>\n",
       "      <th>car</th>\n",
       "      <td>[Y, N]</td>\n",
       "      <td>2</td>\n",
       "      <td>0</td>\n",
       "      <td>object</td>\n",
       "    </tr>\n",
       "    <tr>\n",
       "      <th>car_type</th>\n",
       "      <td>[Y, N]</td>\n",
       "      <td>2</td>\n",
       "      <td>0</td>\n",
       "      <td>object</td>\n",
       "    </tr>\n",
       "    <tr>\n",
       "      <th>decline_app_cnt</th>\n",
       "      <td>[0, 2, 1, 3, 4, 6, 5, 7, 8, 9]</td>\n",
       "      <td>24</td>\n",
       "      <td>0</td>\n",
       "      <td>int64</td>\n",
       "    </tr>\n",
       "    <tr>\n",
       "      <th>good_work</th>\n",
       "      <td>[0, 1]</td>\n",
       "      <td>2</td>\n",
       "      <td>0</td>\n",
       "      <td>int64</td>\n",
       "    </tr>\n",
       "    <tr>\n",
       "      <th>score_bki</th>\n",
       "      <td>[-2.00875292, -1.53227621, -1.40814226, -2.057...</td>\n",
       "      <td>102618</td>\n",
       "      <td>0</td>\n",
       "      <td>float64</td>\n",
       "    </tr>\n",
       "    <tr>\n",
       "      <th>bki_request_cnt</th>\n",
       "      <td>[1, 3, 2, 0, 4, 7, 5, 8, 6, 13]</td>\n",
       "      <td>40</td>\n",
       "      <td>0</td>\n",
       "      <td>int64</td>\n",
       "    </tr>\n",
       "    <tr>\n",
       "      <th>region_rating</th>\n",
       "      <td>[50, 80, 60, 40, 70, 20, 30]</td>\n",
       "      <td>7</td>\n",
       "      <td>0</td>\n",
       "      <td>int64</td>\n",
       "    </tr>\n",
       "    <tr>\n",
       "      <th>home_address</th>\n",
       "      <td>[1, 2, 3]</td>\n",
       "      <td>3</td>\n",
       "      <td>0</td>\n",
       "      <td>int64</td>\n",
       "    </tr>\n",
       "    <tr>\n",
       "      <th>work_address</th>\n",
       "      <td>[2, 3, 1]</td>\n",
       "      <td>3</td>\n",
       "      <td>0</td>\n",
       "      <td>int64</td>\n",
       "    </tr>\n",
       "    <tr>\n",
       "      <th>income</th>\n",
       "      <td>[18000, 19000, 30000, 10000, 15000, 28000, 450...</td>\n",
       "      <td>1207</td>\n",
       "      <td>0</td>\n",
       "      <td>int64</td>\n",
       "    </tr>\n",
       "    <tr>\n",
       "      <th>sna</th>\n",
       "      <td>[4, 1, 2, 3]</td>\n",
       "      <td>4</td>\n",
       "      <td>0</td>\n",
       "      <td>int64</td>\n",
       "    </tr>\n",
       "    <tr>\n",
       "      <th>first_time</th>\n",
       "      <td>[1, 4, 3, 2]</td>\n",
       "      <td>4</td>\n",
       "      <td>0</td>\n",
       "      <td>int64</td>\n",
       "    </tr>\n",
       "    <tr>\n",
       "      <th>foreign_passport</th>\n",
       "      <td>[N, Y]</td>\n",
       "      <td>2</td>\n",
       "      <td>0</td>\n",
       "      <td>object</td>\n",
       "    </tr>\n",
       "    <tr>\n",
       "      <th>default</th>\n",
       "      <td>[0.0, 1.0, nan]</td>\n",
       "      <td>2</td>\n",
       "      <td>36349</td>\n",
       "      <td>float64</td>\n",
       "    </tr>\n",
       "  </tbody>\n",
       "</table>\n",
       "</div>"
      ],
      "text/plain": [
       "                                                           <lambda> nunique  \\\n",
       "client_id         [25905, 63161, 25887, 16222, 101655, 41415, 28...  110148   \n",
       "app_date          [01FEB2014, 12MAR2014, 23JAN2014, 18APR2014, 1...     120   \n",
       "education                            [SCH, GRD, UGR, PGR, ACD, nan]       5   \n",
       "sex                                                          [M, F]       2   \n",
       "age                        [62, 59, 25, 53, 48, 27, 39, 50, 54, 29]      52   \n",
       "car                                                          [Y, N]       2   \n",
       "car_type                                                     [Y, N]       2   \n",
       "decline_app_cnt                      [0, 2, 1, 3, 4, 6, 5, 7, 8, 9]      24   \n",
       "good_work                                                    [0, 1]       2   \n",
       "score_bki         [-2.00875292, -1.53227621, -1.40814226, -2.057...  102618   \n",
       "bki_request_cnt                     [1, 3, 2, 0, 4, 7, 5, 8, 6, 13]      40   \n",
       "region_rating                          [50, 80, 60, 40, 70, 20, 30]       7   \n",
       "home_address                                              [1, 2, 3]       3   \n",
       "work_address                                              [2, 3, 1]       3   \n",
       "income            [18000, 19000, 30000, 10000, 15000, 28000, 450...    1207   \n",
       "sna                                                    [4, 1, 2, 3]       4   \n",
       "first_time                                             [1, 4, 3, 2]       4   \n",
       "foreign_passport                                             [N, Y]       2   \n",
       "default                                             [0.0, 1.0, nan]       2   \n",
       "\n",
       "                   null    dtype  \n",
       "client_id             0    int64  \n",
       "app_date              0   object  \n",
       "education           478   object  \n",
       "sex                   0   object  \n",
       "age                   0    int64  \n",
       "car                   0   object  \n",
       "car_type              0   object  \n",
       "decline_app_cnt       0    int64  \n",
       "good_work             0    int64  \n",
       "score_bki             0  float64  \n",
       "bki_request_cnt       0    int64  \n",
       "region_rating         0    int64  \n",
       "home_address          0    int64  \n",
       "work_address          0    int64  \n",
       "income                0    int64  \n",
       "sna                   0    int64  \n",
       "first_time            0    int64  \n",
       "foreign_passport      0   object  \n",
       "default           36349  float64  "
      ]
     },
     "execution_count": 8,
     "metadata": {},
     "output_type": "execute_result"
    }
   ],
   "source": [
    "data = pd.concat([train,test], ignore_index=True)\n",
    "\n",
    "# unique values count, first 10 unique values, null values count, type\n",
    "data.agg({'nunique', lambda s: s.unique()[:10]})    .append(pd.Series(data.isnull().sum(), name='null'))    .append(pd.Series(data.dtypes, name='dtype'))    .transpose()"
   ]
  },
  {
   "cell_type": "markdown",
   "id": "cb1a91b5",
   "metadata": {},
   "source": [
    "### КРАТКО О ПРИЗНАКАХ"
   ]
  },
  {
   "cell_type": "markdown",
   "id": "7b476dab",
   "metadata": {},
   "source": [
    "    client_id ---------------- идентификатор клиента\n",
    "    education ---------------- уровень образования\n",
    "    sex ---------------------- пол заемщика\n",
    "    age ---------------------- возраст заемщика\n",
    "    car ---------------------- флаг наличия автомобиля\n",
    "    car_type ----------------- флаг автомобиля иномарки\n",
    "    decline_app_cnt ---------- количество отказанных прошлых заявок\n",
    "    good_work ---------------- флаг наличия “хорошей” работы\n",
    "    bki_request_cnt ---------- количество запросов в БКИ\n",
    "    home_address ------------- категоризатор домашнего адреса\n",
    "    work_address ------------- категоризатор рабочего адреса\n",
    "    income ------------------- доход заемщика\n",
    "    foreign_passport --------- наличие загранпаспорта\n",
    "    sna ---------------------- связь заемщика с клиентами банка\n",
    "    first_time --------------- давность наличия информации о заемщике\n",
    "    score_bki ---------------- скоринговый балл по данным из БКИ\n",
    "    region_rating ------------ рейтинг региона\n",
    "    app_date ----------------- дата подачи заявки\n",
    "    default ------------------ флаг дефолта по кредиту"
   ]
  },
  {
   "cell_type": "markdown",
   "id": "f748d1fd",
   "metadata": {},
   "source": [
    "## ПРЕДОБРАБОТКА ДАННЫХ"
   ]
  },
  {
   "cell_type": "markdown",
   "id": "e2b4eb61",
   "metadata": {},
   "source": [
    "**КОЛИЧЕСТВО ПРОПУСКОВ В ОБУЧАЮЩЕЙ БАЗЕ (TRAIN)**"
   ]
  },
  {
   "cell_type": "code",
   "execution_count": 9,
   "id": "f4057031",
   "metadata": {},
   "outputs": [
    {
     "data": {
      "text/plain": [
       "client_id             0\n",
       "app_date              0\n",
       "education           307\n",
       "sex                   0\n",
       "age                   0\n",
       "car                   0\n",
       "car_type              0\n",
       "decline_app_cnt       0\n",
       "good_work             0\n",
       "score_bki             0\n",
       "bki_request_cnt       0\n",
       "region_rating         0\n",
       "home_address          0\n",
       "work_address          0\n",
       "income                0\n",
       "sna                   0\n",
       "first_time            0\n",
       "foreign_passport      0\n",
       "default               0\n",
       "dtype: int64"
      ]
     },
     "execution_count": 9,
     "metadata": {},
     "output_type": "execute_result"
    }
   ],
   "source": [
    "train.isna().sum()"
   ]
  },
  {
   "cell_type": "markdown",
   "id": "5db1f102",
   "metadata": {},
   "source": [
    "**КОЛИЧЕСТВО ПРОПУСКОВ В ТЕСТОВОЙ БАЗЕ (TEST)**"
   ]
  },
  {
   "cell_type": "code",
   "execution_count": 10,
   "id": "4a523ffe",
   "metadata": {},
   "outputs": [
    {
     "data": {
      "text/plain": [
       "client_id             0\n",
       "app_date              0\n",
       "education           171\n",
       "sex                   0\n",
       "age                   0\n",
       "car                   0\n",
       "car_type              0\n",
       "decline_app_cnt       0\n",
       "good_work             0\n",
       "score_bki             0\n",
       "bki_request_cnt       0\n",
       "region_rating         0\n",
       "home_address          0\n",
       "work_address          0\n",
       "income                0\n",
       "sna                   0\n",
       "first_time            0\n",
       "foreign_passport      0\n",
       "dtype: int64"
      ]
     },
     "execution_count": 10,
     "metadata": {},
     "output_type": "execute_result"
    }
   ],
   "source": [
    "test.isna().sum()"
   ]
  },
  {
   "cell_type": "markdown",
   "id": "4237a20b",
   "metadata": {},
   "source": [
    "**ГРАФИЧЕСКОЕ ОТОБРАЖЕНИЕ НАХОЖДЕНИЯ ПРОПУСКОВ В ОБУЧАЮЩЕЙ БАЗЕ**"
   ]
  },
  {
   "cell_type": "code",
   "execution_count": 11,
   "id": "55ae0df9",
   "metadata": {},
   "outputs": [
    {
     "data": {
      "image/png": "[encoded data removed]",
      "text/plain": [
       "<Figure size 864x576 with 1 Axes>"
      ]
     },
     "metadata": {
      "needs_background": "light"
     },
     "output_type": "display_data"
    }
   ],
   "source": [
    "fig, ax = plt.subplots(figsize=(12, 8))\n",
    "sns_heatmap = sns.heatmap(train.isna(),cbar=False, cmap ='PuBu_r')"
   ]
  },
  {
   "cell_type": "markdown",
   "id": "036c0a6b",
   "metadata": {},
   "source": [
    "**ГРАФИЧЕСКОЕ ОТОБРАЖЕНИЕ НАХОЖДЕНИЯ ПРОПУСКОВ В ТЕСТОВОЙ БАЗЕ**"
   ]
  },
  {
   "cell_type": "code",
   "execution_count": 12,
   "id": "4d725183",
   "metadata": {},
   "outputs": [
    {
     "data": {
      "image/png": "[encoded data removed]",
      "text/plain": [
       "<Figure size 864x576 with 1 Axes>"
      ]
     },
     "metadata": {
      "needs_background": "light"
     },
     "output_type": "display_data"
    }
   ],
   "source": [
    "fig, ax = plt.subplots(figsize=(12, 8))\n",
    "sns_heatmap = sns.heatmap(test.isna(),cbar=False, cmap ='PuBu_r')"
   ]
  },
  {
   "cell_type": "markdown",
   "id": "ca403763",
   "metadata": {},
   "source": [
    "**ГИСТОГРАММА ЗНАЧЕНИЙ ПРИЗНАКА EDUCATION, СОДЕРЖАЩЕГО ПРОПУСКИ В ОБУЧАЮЩЕЙ БАЗЕ**"
   ]
  },
  {
   "cell_type": "code",
   "execution_count": 13,
   "id": "a8ef24b1",
   "metadata": {},
   "outputs": [
    {
     "data": {
      "text/plain": [
       "<AxesSubplot:>"
      ]
     },
     "execution_count": 13,
     "metadata": {},
     "output_type": "execute_result"
    },
    {
     "data": {
      "image/png": "[encoded data removed]",
      "text/plain": [
       "<Figure size 432x288 with 1 Axes>"
      ]
     },
     "metadata": {
      "needs_background": "light"
     },
     "output_type": "display_data"
    }
   ],
   "source": [
    "train.education.value_counts().plot.barh()"
   ]
  },
  {
   "cell_type": "markdown",
   "id": "522befd7",
   "metadata": {},
   "source": [
    "**ГИСТОГРАММА ЗНАЧЕНИЙ ПРИЗНАКА EDUCATION, СОДЕРЖАЩЕГО ПРОПУСКИ В ТЕСТОВОЙ БАЗЕ**"
   ]
  },
  {
   "cell_type": "code",
   "execution_count": 14,
   "id": "8a437950",
   "metadata": {
    "scrolled": true
   },
   "outputs": [
    {
     "data": {
      "text/plain": [
       "<AxesSubplot:>"
      ]
     },
     "execution_count": 14,
     "metadata": {},
     "output_type": "execute_result"
    },
    {
     "data": {
      "image/png": "[encoded data removed]",
      "text/plain": [
       "<Figure size 432x288 with 1 Axes>"
      ]
     },
     "metadata": {
      "needs_background": "light"
     },
     "output_type": "display_data"
    }
   ],
   "source": [
    "test.education.value_counts().plot.barh()"
   ]
  },
  {
   "cell_type": "markdown",
   "id": "e68320e0",
   "metadata": {},
   "source": [
    "### ИЗБАВЛЕНИЕ ОТ ПРОПУСКОВ"
   ]
  },
  {
   "cell_type": "markdown",
   "id": "0e8e1dbd",
   "metadata": {},
   "source": [
    "**ЗАПОЛНИМ ПРОПУСКИ НА НАИБОЛЕЕ ЧАСТО ВСТРЕЧАЮЩЕЕСЯ ЗНАЧЕНИЕ SCH В ОБУЧАЮЩЕЙ И ТЕСТОВОЙ БАЗАХ**"
   ]
  },
  {
   "cell_type": "code",
   "execution_count": 15,
   "id": "07d49dd6",
   "metadata": {},
   "outputs": [],
   "source": [
    "train.education.fillna('SCH', inplace = True)"
   ]
  },
  {
   "cell_type": "code",
   "execution_count": 16,
   "id": "9e444480",
   "metadata": {},
   "outputs": [],
   "source": [
    "test.education.fillna('SCH', inplace = True)"
   ]
  },
  {
   "cell_type": "markdown",
   "id": "4671efee",
   "metadata": {},
   "source": [
    "**ПОСМОТРИМ НА ЦЕЛЕВУЮ ПЕРЕМЕННУЮ В ОБУЧАЮЩЕЙ БАЗЕ**"
   ]
  },
  {
   "cell_type": "code",
   "execution_count": 17,
   "id": "cc841ec2",
   "metadata": {},
   "outputs": [
    {
     "name": "stderr",
     "output_type": "stream",
     "text": [
      "C:\\Users\\volodin\\Anaconda3\\lib\\site-packages\\seaborn\\_decorators.py:36: FutureWarning: Pass the following variable as a keyword arg: x. From version 0.12, the only valid positional argument will be `data`, and passing other arguments without an explicit keyword will result in an error or misinterpretation.\n",
      "  warnings.warn(\n"
     ]
    },
    {
     "data": {
      "text/plain": [
       "<AxesSubplot:xlabel='default', ylabel='count'>"
      ]
     },
     "execution_count": 17,
     "metadata": {},
     "output_type": "execute_result"
    },
    {
     "data": {
      "image/png": "[encoded data removed]",
      "text/plain": [
       "<Figure size 432x288 with 1 Axes>"
      ]
     },
     "metadata": {
      "needs_background": "light"
     },
     "output_type": "display_data"
    }
   ],
   "source": [
    "sns.countplot(train['default'])"
   ]
  },
  {
   "cell_type": "markdown",
   "id": "12aba81f",
   "metadata": {},
   "source": [
    "**РАСПРЕДЕЛЕНИЕ ЗАЁМЩИКОВ НЕРАВНОМЕРНОЕ, НЕДЕФОЛТНЫХ КЛИЕНТОВ ЗАМЕТНО БОЛЬШЕ**"
   ]
  },
  {
   "cell_type": "markdown",
   "id": "0ed70bca",
   "metadata": {},
   "source": [
    "**УСТРАНИМ ДИСБАЛАНС С ПОМОЩЬЮ ДУБЛИРОВАНИЯ ПРИМЕРОВ МИНОРИТАРНОГО КЛАССА**"
   ]
  },
  {
   "cell_type": "code",
   "execution_count": 18,
   "id": "c1af8f78",
   "metadata": {},
   "outputs": [],
   "source": [
    "train_0 = train.query('default == 0')\n",
    "train_1 = train.query('default == 1')\n",
    "koeff = int(len(train_0)/len(train_1))\n",
    "for i in range(koeff):\n",
    "    train = train.append(train_1).reset_index(drop=True)  # объединяем"
   ]
  },
  {
   "cell_type": "markdown",
   "id": "c7e4ce69",
   "metadata": {},
   "source": [
    "**ПОСМОТРИМ НА ЦЕЛЕВУЮ ПЕРЕМЕННУЮ В ОБУЧАЮЩЕЙ БАЗЕ ПОСЛЕ**"
   ]
  },
  {
   "cell_type": "code",
   "execution_count": 19,
   "id": "248db4d0",
   "metadata": {},
   "outputs": [
    {
     "name": "stderr",
     "output_type": "stream",
     "text": [
      "C:\\Users\\volodin\\Anaconda3\\lib\\site-packages\\seaborn\\_decorators.py:36: FutureWarning: Pass the following variable as a keyword arg: x. From version 0.12, the only valid positional argument will be `data`, and passing other arguments without an explicit keyword will result in an error or misinterpretation.\n",
      "  warnings.warn(\n"
     ]
    },
    {
     "data": {
      "text/plain": [
       "<AxesSubplot:xlabel='default', ylabel='count'>"
      ]
     },
     "execution_count": 19,
     "metadata": {},
     "output_type": "execute_result"
    },
    {
     "data": {
      "image/png": "[encoded data removed]",
      "text/plain": [
       "<Figure size 432x288 with 1 Axes>"
      ]
     },
     "metadata": {
      "needs_background": "light"
     },
     "output_type": "display_data"
    }
   ],
   "source": [
    "sns.countplot(train['default'])"
   ]
  },
  {
   "cell_type": "markdown",
   "id": "d7bec50f",
   "metadata": {},
   "source": [
    "**ВЫВЕДЕМ НАИМЕНОВАНИЯ ВСЕХ ПРИЗНАКОВ ОБУЧАЮЩЕЙ БАЗЫ**"
   ]
  },
  {
   "cell_type": "code",
   "execution_count": 20,
   "id": "3be5f094",
   "metadata": {},
   "outputs": [
    {
     "data": {
      "text/plain": [
       "Index(['client_id', 'app_date', 'education', 'sex', 'age', 'car', 'car_type',\n",
       "       'decline_app_cnt', 'good_work', 'score_bki', 'bki_request_cnt',\n",
       "       'region_rating', 'home_address', 'work_address', 'income', 'sna',\n",
       "       'first_time', 'foreign_passport', 'default'],\n",
       "      dtype='object')"
      ]
     },
     "execution_count": 20,
     "metadata": {},
     "output_type": "execute_result"
    }
   ],
   "source": [
    "train.columns"
   ]
  },
  {
   "cell_type": "markdown",
   "id": "2d25cea5",
   "metadata": {},
   "source": [
    "**ГРУППИРУЕМ ПРИЗНАКИ**"
   ]
  },
  {
   "cell_type": "markdown",
   "id": "b16cdc5e",
   "metadata": {},
   "source": [
    "    target ------ЦЕЛЕВАЯ ПЕРЕМЕННАЯ\n",
    "    num_cols --- ЧИСЛОВЫЕ ПЕРЕМЕННЫЕ\n",
    "    bin_cols --- БИНАРНЫЕ ПЕРЕМЕННЫЕ\n",
    "    cat_cols --- КАТЕГОРИАЛЬНЫЕ ПЕРЕМЕННЫЕ"
   ]
  },
  {
   "cell_type": "code",
   "execution_count": 21,
   "id": "d9fe5633",
   "metadata": {},
   "outputs": [],
   "source": [
    "target = 'default'\n",
    "\n",
    "num_cols = ['age', 'decline_app_cnt', 'bki_request_cnt', 'income', 'score_bki', 'region_rating']\n",
    "bin_cols = ['sex', 'car', 'car_type', 'good_work', 'foreign_passport']\n",
    "cat_cols = ['education', 'work_address', 'home_address', 'sna', 'first_time']"
   ]
  },
  {
   "cell_type": "markdown",
   "id": "1db1ed06",
   "metadata": {},
   "source": [
    "## ЧИСЛОВЫЕ ПРИЗНАКИ"
   ]
  },
  {
   "cell_type": "markdown",
   "id": "783bd596",
   "metadata": {},
   "source": [
    "**РАСПРЕДЕЛЕНИЕ ЧИСЛОВЫХ ПРИЗНАКОВ В ОБУЧАЮЩЕЙ БАЗЕ**"
   ]
  },
  {
   "cell_type": "code",
   "execution_count": 22,
   "id": "340ad98d",
   "metadata": {},
   "outputs": [
    {
     "data": {
      "image/png": "[encoded data removed]",
      "text/plain": [
       "<Figure size 878.049x702.439 with 6 Axes>"
      ]
     },
     "metadata": {
      "needs_background": "light"
     },
     "output_type": "display_data"
    }
   ],
   "source": [
    "def plot_grid(nplots, max_cols=2, figsize=(1000/82, 800/82)):\n",
    "    ncols = min(nplots, max_cols)\n",
    "    nrows = (nplots // ncols) + min(1, (nplots % ncols))\n",
    "    fig, axs = plt.subplots(ncols=ncols, nrows=nrows, figsize=figsize, constrained_layout=True)\n",
    "    if nrows == 1:\n",
    "        return axs\n",
    "    return [axs[index // ncols, index % ncols] for index in range(nplots)]\n",
    "\n",
    "for column, ax in zip(num_cols, plot_grid(len(num_cols))):\n",
    "    train[column].plot(kind='hist', ax=ax, title=column)\n",
    "    ax.set_ylabel(None)"
   ]
  },
  {
   "cell_type": "markdown",
   "id": "24d50078",
   "metadata": {},
   "source": [
    "**ПОСЛЕ ПОСТРОЕНИЯ ГИСТОГРАММ СТАЛО ОЧЕВИДНО, ЧТО РАСПРЕДЕЛЕНИЯ ЧИСЛОВЫХ ПЕРЕМЕННЫХ ИМЕЮТ ТЯЖЁЛЫЙ ПРАВЫЙ ХВОСТ**"
   ]
  },
  {
   "cell_type": "markdown",
   "id": "7175b0a8",
   "metadata": {},
   "source": [
    "**ПРОЛОГАРИФМИРУЕМ ЧИСЛОВЫЕ ПЕРЕМЕННЫЕ В ОБУЧАЮЩЕЙ БАЗЕ И ПОСМОТРИМ РАСПРЕДЕЛЕНИЕ**"
   ]
  },
  {
   "cell_type": "code",
   "execution_count": 23,
   "id": "d26b811b",
   "metadata": {},
   "outputs": [],
   "source": [
    "num_cols_log = ['age','bki_request_cnt', 'income']\n",
    "\n",
    "for i in num_cols_log:\n",
    "    train[i] = np.log(train[i] + 1)"
   ]
  },
  {
   "cell_type": "code",
   "execution_count": 24,
   "id": "3056ff28",
   "metadata": {},
   "outputs": [
    {
     "data": {
      "image/png": "[encoded data removed]",
      "text/plain": [
       "<Figure size 878.049x702.439 with 6 Axes>"
      ]
     },
     "metadata": {
      "needs_background": "light"
     },
     "output_type": "display_data"
    }
   ],
   "source": [
    "for column, ax in zip(num_cols, plot_grid(len(num_cols))):\n",
    "    train[column].plot(kind='hist', ax=ax, title=column)\n",
    "    ax.set_ylabel(None)"
   ]
  },
  {
   "cell_type": "markdown",
   "id": "eb2fdc21",
   "metadata": {},
   "source": [
    "**BOXPLOTS ЧИСЛОВЫХ ПРИЗНАКОВ ОБУЧАЮЩЕЙ БАЗЫ**"
   ]
  },
  {
   "cell_type": "code",
   "execution_count": 25,
   "id": "f3a05b54",
   "metadata": {},
   "outputs": [
    {
     "data": {
      "image/png": "[encoded data removed]",
      "text/plain": [
       "<Figure size 432x288 with 1 Axes>"
      ]
     },
     "metadata": {
      "needs_background": "light"
     },
     "output_type": "display_data"
    },
    {
     "data": {
      "image/png": "[encoded data removed]",
      "text/plain": [
       "<Figure size 432x288 with 1 Axes>"
      ]
     },
     "metadata": {
      "needs_background": "light"
     },
     "output_type": "display_data"
    },
    {
     "data": {
      "image/png": "[encoded data removed]",
      "text/plain": [
       "<Figure size 432x288 with 1 Axes>"
      ]
     },
     "metadata": {
      "needs_background": "light"
     },
     "output_type": "display_data"
    },
    {
     "data": {
      "image/png": "[encoded data removed]",
      "text/plain": [
       "<Figure size 432x288 with 1 Axes>"
      ]
     },
     "metadata": {
      "needs_background": "light"
     },
     "output_type": "display_data"
    },
    {
     "data": {
      "image/png": "[encoded data removed]",
      "text/plain": [
       "<Figure size 432x288 with 1 Axes>"
      ]
     },
     "metadata": {
      "needs_background": "light"
     },
     "output_type": "display_data"
    },
    {
     "data": {
      "image/png": "[encoded data removed]",
      "text/plain": [
       "<Figure size 432x288 with 1 Axes>"
      ]
     },
     "metadata": {
      "needs_background": "light"
     },
     "output_type": "display_data"
    }
   ],
   "source": [
    "for column in num_cols:\n",
    "    plt.figure()\n",
    "    sns.boxplot(x=train['default'], y=train[column])\n",
    "    plt.title(column)\n",
    "    plt.show()"
   ]
  },
  {
   "cell_type": "markdown",
   "id": "f4ac0cdd",
   "metadata": {},
   "source": [
    "**ОЦЕНИМ КОРРЕЛЯЦИЮ ПИРСОНА ДЛЯ НЕПРЕРЫВНЫХ ПЕРЕМЕННЫХ В ОБУЧАЮЩЕЙ БАЗЕ**"
   ]
  },
  {
   "cell_type": "code",
   "execution_count": 26,
   "id": "746fd93f",
   "metadata": {},
   "outputs": [
    {
     "data": {
      "text/plain": [
       "<AxesSubplot:>"
      ]
     },
     "execution_count": 26,
     "metadata": {},
     "output_type": "execute_result"
    },
    {
     "data": {
      "image/png": "[encoded data removed]",
      "text/plain": [
       "<Figure size 432x288 with 2 Axes>"
      ]
     },
     "metadata": {
      "needs_background": "light"
     },
     "output_type": "display_data"
    }
   ],
   "source": [
    "sns.heatmap(train[num_cols].corr().abs(), vmin=0, vmax=1, annot = True)"
   ]
  },
  {
   "cell_type": "markdown",
   "id": "83a92bb6",
   "metadata": {},
   "source": [
    "#### НАИБОЛЬШАЯ ПОЛОЖИТЕЛЬНАЯ КОРРЕЛЯЦИЯ НАБЛЮДАЕТСЯ У ДОХОДА, ЗАТЕМ ЧУТЬ МЕНЬШЕ У КОЛИЧЕСТВА ОТКАЗОВ, ЧТО ОБЪЯСНЯЕТСЯ ПРАВИЛАМИ ВЫДАЧИ КРЕДИТОВ. НО В ЦЕЛОМ ЧИСЛЕННЫЕ ПРИЗНАКИ СКОРРЕЛИРОВАНЫ СЛАБО."
   ]
  },
  {
   "cell_type": "markdown",
   "id": "d12061e2",
   "metadata": {},
   "source": [
    "**ПРОВЕРИМ ЗНАЧИМОСТЬ ЧИСЛОВЫХ ПРИЗНАКОВ В ОБУЧАЮЩЕЙ БАЗЕ**"
   ]
  },
  {
   "cell_type": "code",
   "execution_count": 27,
   "id": "05cc0532",
   "metadata": {
    "scrolled": true
   },
   "outputs": [
    {
     "data": {
      "text/plain": [
       "<AxesSubplot:>"
      ]
     },
     "execution_count": 27,
     "metadata": {},
     "output_type": "execute_result"
    },
    {
     "data": {
      "image/png": "[encoded data removed]",
      "text/plain": [
       "<Figure size 432x288 with 1 Axes>"
      ]
     },
     "metadata": {
      "needs_background": "light"
     },
     "output_type": "display_data"
    }
   ],
   "source": [
    "imp_num = pd.Series(f_classif(train[num_cols], train['default'])[0], index = num_cols)\n",
    "imp_num.sort_values(inplace = True)\n",
    "imp_num.plot(kind = 'barh')"
   ]
  },
  {
   "cell_type": "markdown",
   "id": "78e01e8c",
   "metadata": {},
   "source": [
    "**БОЛЬШЕЕ ЗНАЧЕНИЕ ИМЕЮТ КОЛИЧЕСТВО ОТКАЗОВ, В МЕНЬШЕЙ СТЕПЕНИ ВОЗРАСТ И ДОХОД**"
   ]
  },
  {
   "cell_type": "markdown",
   "id": "a1c83420",
   "metadata": {},
   "source": [
    "## БИНАРНЫЕ И КАТЕГОРИАЛЬНЫЕ ПРИЗНАКИ"
   ]
  },
  {
   "cell_type": "markdown",
   "id": "a6905221",
   "metadata": {},
   "source": [
    "**ЧТОБЫ АЛГОРИТМЫ МАШИННОГО ОБУЧЕНИЯ МОГЛИ РАБОТАТЬ С КАТЕГОРИАЛЬНЫМИ ДАННЫМИ, ИХ НУЖНО ПРЕОБРАЗОВАТЬ В ЧИСЛА**"
   ]
  },
  {
   "cell_type": "markdown",
   "id": "e6e637aa",
   "metadata": {},
   "source": [
    "**ДЛЯ БИНАРНЫХ ПРИЗНАКОВ ПРИМЕНИМ LabelEncoder В ОБУЧАЮЩЕЙ И ТЕСТОВОЙ БАЗАХ**"
   ]
  },
  {
   "cell_type": "code",
   "execution_count": 28,
   "id": "69bd5580",
   "metadata": {},
   "outputs": [],
   "source": [
    "label_encoder = LabelEncoder()\n",
    "\n",
    "for column in bin_cols:\n",
    "    train[column] = label_encoder.fit_transform(train[column])\n",
    "    \n",
    "for column in bin_cols:\n",
    "    test[column] = label_encoder.fit_transform(test[column])\n",
    "    "
   ]
  },
  {
   "cell_type": "markdown",
   "id": "6a8a19f7",
   "metadata": {},
   "source": [
    "**УБЕДИМСЯ В ПРЕОБРАЗОВАНИИ**"
   ]
  },
  {
   "cell_type": "code",
   "execution_count": 29,
   "id": "a6962d45",
   "metadata": {},
   "outputs": [
    {
     "data": {
      "text/html": [
       "<div>\n",
       "<style scoped>\n",
       "    .dataframe tbody tr th:only-of-type {\n",
       "        vertical-align: middle;\n",
       "    }\n",
       "\n",
       "    .dataframe tbody tr th {\n",
       "        vertical-align: top;\n",
       "    }\n",
       "\n",
       "    .dataframe thead th {\n",
       "        text-align: right;\n",
       "    }\n",
       "</style>\n",
       "<table border=\"1\" class=\"dataframe\">\n",
       "  <thead>\n",
       "    <tr style=\"text-align: right;\">\n",
       "      <th></th>\n",
       "      <th>client_id</th>\n",
       "      <th>app_date</th>\n",
       "      <th>education</th>\n",
       "      <th>sex</th>\n",
       "      <th>age</th>\n",
       "      <th>car</th>\n",
       "      <th>car_type</th>\n",
       "      <th>decline_app_cnt</th>\n",
       "      <th>good_work</th>\n",
       "      <th>score_bki</th>\n",
       "      <th>bki_request_cnt</th>\n",
       "      <th>region_rating</th>\n",
       "      <th>home_address</th>\n",
       "      <th>work_address</th>\n",
       "      <th>income</th>\n",
       "      <th>sna</th>\n",
       "      <th>first_time</th>\n",
       "      <th>foreign_passport</th>\n",
       "      <th>default</th>\n",
       "    </tr>\n",
       "  </thead>\n",
       "  <tbody>\n",
       "    <tr>\n",
       "      <th>0</th>\n",
       "      <td>25905</td>\n",
       "      <td>01FEB2014</td>\n",
       "      <td>SCH</td>\n",
       "      <td>1</td>\n",
       "      <td>4.143135</td>\n",
       "      <td>1</td>\n",
       "      <td>1</td>\n",
       "      <td>0</td>\n",
       "      <td>0</td>\n",
       "      <td>-2.008753</td>\n",
       "      <td>0.693147</td>\n",
       "      <td>50</td>\n",
       "      <td>1</td>\n",
       "      <td>2</td>\n",
       "      <td>9.798183</td>\n",
       "      <td>4</td>\n",
       "      <td>1</td>\n",
       "      <td>0</td>\n",
       "      <td>0</td>\n",
       "    </tr>\n",
       "    <tr>\n",
       "      <th>1</th>\n",
       "      <td>63161</td>\n",
       "      <td>12MAR2014</td>\n",
       "      <td>SCH</td>\n",
       "      <td>0</td>\n",
       "      <td>4.094345</td>\n",
       "      <td>0</td>\n",
       "      <td>0</td>\n",
       "      <td>0</td>\n",
       "      <td>0</td>\n",
       "      <td>-1.532276</td>\n",
       "      <td>1.386294</td>\n",
       "      <td>50</td>\n",
       "      <td>2</td>\n",
       "      <td>3</td>\n",
       "      <td>9.852247</td>\n",
       "      <td>4</td>\n",
       "      <td>1</td>\n",
       "      <td>0</td>\n",
       "      <td>0</td>\n",
       "    </tr>\n",
       "    <tr>\n",
       "      <th>2</th>\n",
       "      <td>25887</td>\n",
       "      <td>01FEB2014</td>\n",
       "      <td>SCH</td>\n",
       "      <td>1</td>\n",
       "      <td>3.258097</td>\n",
       "      <td>1</td>\n",
       "      <td>0</td>\n",
       "      <td>2</td>\n",
       "      <td>0</td>\n",
       "      <td>-1.408142</td>\n",
       "      <td>0.693147</td>\n",
       "      <td>80</td>\n",
       "      <td>1</td>\n",
       "      <td>2</td>\n",
       "      <td>10.308986</td>\n",
       "      <td>1</td>\n",
       "      <td>4</td>\n",
       "      <td>1</td>\n",
       "      <td>0</td>\n",
       "    </tr>\n",
       "    <tr>\n",
       "      <th>3</th>\n",
       "      <td>16222</td>\n",
       "      <td>23JAN2014</td>\n",
       "      <td>SCH</td>\n",
       "      <td>0</td>\n",
       "      <td>3.988984</td>\n",
       "      <td>0</td>\n",
       "      <td>0</td>\n",
       "      <td>0</td>\n",
       "      <td>0</td>\n",
       "      <td>-2.057471</td>\n",
       "      <td>1.098612</td>\n",
       "      <td>50</td>\n",
       "      <td>2</td>\n",
       "      <td>3</td>\n",
       "      <td>9.210440</td>\n",
       "      <td>1</td>\n",
       "      <td>3</td>\n",
       "      <td>0</td>\n",
       "      <td>0</td>\n",
       "    </tr>\n",
       "    <tr>\n",
       "      <th>4</th>\n",
       "      <td>101655</td>\n",
       "      <td>18APR2014</td>\n",
       "      <td>GRD</td>\n",
       "      <td>1</td>\n",
       "      <td>3.891820</td>\n",
       "      <td>0</td>\n",
       "      <td>0</td>\n",
       "      <td>0</td>\n",
       "      <td>1</td>\n",
       "      <td>-1.244723</td>\n",
       "      <td>0.693147</td>\n",
       "      <td>60</td>\n",
       "      <td>2</td>\n",
       "      <td>3</td>\n",
       "      <td>10.308986</td>\n",
       "      <td>1</td>\n",
       "      <td>4</td>\n",
       "      <td>1</td>\n",
       "      <td>0</td>\n",
       "    </tr>\n",
       "  </tbody>\n",
       "</table>\n",
       "</div>"
      ],
      "text/plain": [
       "   client_id   app_date education  sex       age  car  car_type  \\\n",
       "0      25905  01FEB2014       SCH    1  4.143135    1         1   \n",
       "1      63161  12MAR2014       SCH    0  4.094345    0         0   \n",
       "2      25887  01FEB2014       SCH    1  3.258097    1         0   \n",
       "3      16222  23JAN2014       SCH    0  3.988984    0         0   \n",
       "4     101655  18APR2014       GRD    1  3.891820    0         0   \n",
       "\n",
       "   decline_app_cnt  good_work  score_bki  bki_request_cnt  region_rating  \\\n",
       "0                0          0  -2.008753         0.693147             50   \n",
       "1                0          0  -1.532276         1.386294             50   \n",
       "2                2          0  -1.408142         0.693147             80   \n",
       "3                0          0  -2.057471         1.098612             50   \n",
       "4                0          1  -1.244723         0.693147             60   \n",
       "\n",
       "   home_address  work_address     income  sna  first_time  foreign_passport  \\\n",
       "0             1             2   9.798183    4           1                 0   \n",
       "1             2             3   9.852247    4           1                 0   \n",
       "2             1             2  10.308986    1           4                 1   \n",
       "3             2             3   9.210440    1           3                 0   \n",
       "4             2             3  10.308986    1           4                 1   \n",
       "\n",
       "   default  \n",
       "0        0  \n",
       "1        0  \n",
       "2        0  \n",
       "3        0  \n",
       "4        0  "
      ]
     },
     "execution_count": 29,
     "metadata": {},
     "output_type": "execute_result"
    }
   ],
   "source": [
    "train.head()"
   ]
  },
  {
   "cell_type": "code",
   "execution_count": 30,
   "id": "51d17205",
   "metadata": {},
   "outputs": [
    {
     "data": {
      "text/html": [
       "<div>\n",
       "<style scoped>\n",
       "    .dataframe tbody tr th:only-of-type {\n",
       "        vertical-align: middle;\n",
       "    }\n",
       "\n",
       "    .dataframe tbody tr th {\n",
       "        vertical-align: top;\n",
       "    }\n",
       "\n",
       "    .dataframe thead th {\n",
       "        text-align: right;\n",
       "    }\n",
       "</style>\n",
       "<table border=\"1\" class=\"dataframe\">\n",
       "  <thead>\n",
       "    <tr style=\"text-align: right;\">\n",
       "      <th></th>\n",
       "      <th>client_id</th>\n",
       "      <th>app_date</th>\n",
       "      <th>education</th>\n",
       "      <th>sex</th>\n",
       "      <th>age</th>\n",
       "      <th>car</th>\n",
       "      <th>car_type</th>\n",
       "      <th>decline_app_cnt</th>\n",
       "      <th>good_work</th>\n",
       "      <th>score_bki</th>\n",
       "      <th>bki_request_cnt</th>\n",
       "      <th>region_rating</th>\n",
       "      <th>home_address</th>\n",
       "      <th>work_address</th>\n",
       "      <th>income</th>\n",
       "      <th>sna</th>\n",
       "      <th>first_time</th>\n",
       "      <th>foreign_passport</th>\n",
       "    </tr>\n",
       "  </thead>\n",
       "  <tbody>\n",
       "    <tr>\n",
       "      <th>0</th>\n",
       "      <td>74835</td>\n",
       "      <td>22MAR2014</td>\n",
       "      <td>GRD</td>\n",
       "      <td>1</td>\n",
       "      <td>29</td>\n",
       "      <td>1</td>\n",
       "      <td>1</td>\n",
       "      <td>0</td>\n",
       "      <td>0</td>\n",
       "      <td>-2.271884</td>\n",
       "      <td>3</td>\n",
       "      <td>50</td>\n",
       "      <td>1</td>\n",
       "      <td>2</td>\n",
       "      <td>50000</td>\n",
       "      <td>1</td>\n",
       "      <td>4</td>\n",
       "      <td>0</td>\n",
       "    </tr>\n",
       "    <tr>\n",
       "      <th>1</th>\n",
       "      <td>17527</td>\n",
       "      <td>24JAN2014</td>\n",
       "      <td>SCH</td>\n",
       "      <td>0</td>\n",
       "      <td>39</td>\n",
       "      <td>0</td>\n",
       "      <td>0</td>\n",
       "      <td>5</td>\n",
       "      <td>0</td>\n",
       "      <td>-1.504999</td>\n",
       "      <td>2</td>\n",
       "      <td>50</td>\n",
       "      <td>1</td>\n",
       "      <td>2</td>\n",
       "      <td>5000</td>\n",
       "      <td>4</td>\n",
       "      <td>3</td>\n",
       "      <td>0</td>\n",
       "    </tr>\n",
       "    <tr>\n",
       "      <th>2</th>\n",
       "      <td>75683</td>\n",
       "      <td>23MAR2014</td>\n",
       "      <td>UGR</td>\n",
       "      <td>1</td>\n",
       "      <td>50</td>\n",
       "      <td>1</td>\n",
       "      <td>1</td>\n",
       "      <td>0</td>\n",
       "      <td>0</td>\n",
       "      <td>-1.691339</td>\n",
       "      <td>1</td>\n",
       "      <td>50</td>\n",
       "      <td>1</td>\n",
       "      <td>2</td>\n",
       "      <td>30000</td>\n",
       "      <td>1</td>\n",
       "      <td>3</td>\n",
       "      <td>1</td>\n",
       "    </tr>\n",
       "    <tr>\n",
       "      <th>3</th>\n",
       "      <td>26883</td>\n",
       "      <td>03FEB2014</td>\n",
       "      <td>SCH</td>\n",
       "      <td>1</td>\n",
       "      <td>56</td>\n",
       "      <td>0</td>\n",
       "      <td>0</td>\n",
       "      <td>0</td>\n",
       "      <td>0</td>\n",
       "      <td>-2.374182</td>\n",
       "      <td>1</td>\n",
       "      <td>40</td>\n",
       "      <td>1</td>\n",
       "      <td>2</td>\n",
       "      <td>17000</td>\n",
       "      <td>1</td>\n",
       "      <td>3</td>\n",
       "      <td>0</td>\n",
       "    </tr>\n",
       "    <tr>\n",
       "      <th>4</th>\n",
       "      <td>28862</td>\n",
       "      <td>04FEB2014</td>\n",
       "      <td>GRD</td>\n",
       "      <td>0</td>\n",
       "      <td>38</td>\n",
       "      <td>0</td>\n",
       "      <td>0</td>\n",
       "      <td>0</td>\n",
       "      <td>0</td>\n",
       "      <td>-2.487502</td>\n",
       "      <td>0</td>\n",
       "      <td>80</td>\n",
       "      <td>2</td>\n",
       "      <td>3</td>\n",
       "      <td>120000</td>\n",
       "      <td>1</td>\n",
       "      <td>3</td>\n",
       "      <td>0</td>\n",
       "    </tr>\n",
       "  </tbody>\n",
       "</table>\n",
       "</div>"
      ],
      "text/plain": [
       "   client_id   app_date education  sex  age  car  car_type  decline_app_cnt  \\\n",
       "0      74835  22MAR2014       GRD    1   29    1         1                0   \n",
       "1      17527  24JAN2014       SCH    0   39    0         0                5   \n",
       "2      75683  23MAR2014       UGR    1   50    1         1                0   \n",
       "3      26883  03FEB2014       SCH    1   56    0         0                0   \n",
       "4      28862  04FEB2014       GRD    0   38    0         0                0   \n",
       "\n",
       "   good_work  score_bki  bki_request_cnt  region_rating  home_address  \\\n",
       "0          0  -2.271884                3             50             1   \n",
       "1          0  -1.504999                2             50             1   \n",
       "2          0  -1.691339                1             50             1   \n",
       "3          0  -2.374182                1             40             1   \n",
       "4          0  -2.487502                0             80             2   \n",
       "\n",
       "   work_address  income  sna  first_time  foreign_passport  \n",
       "0             2   50000    1           4                 0  \n",
       "1             2    5000    4           3                 0  \n",
       "2             2   30000    1           3                 1  \n",
       "3             2   17000    1           3                 0  \n",
       "4             3  120000    1           3                 0  "
      ]
     },
     "execution_count": 30,
     "metadata": {},
     "output_type": "execute_result"
    }
   ],
   "source": [
    "test.head()"
   ]
  },
  {
   "cell_type": "markdown",
   "id": "cf331808",
   "metadata": {},
   "source": [
    "**ЗНАЧИМОСТЬ КАТЕГОРИАЛЬНЫХ ПРИЗНАКОВ**"
   ]
  },
  {
   "cell_type": "markdown",
   "id": "d3bad2e1",
   "metadata": {},
   "source": [
    "ДЛЯ ОЦЕНКИ ЗНАЧИМОСТИ КАТЕГОРИАЛЬНЫХ И БИНАРНЫХ ПЕРЕМЕННЫХ БУДЕМ ИСПОЛЬЗОВАТЬ ФУНКЦИЮ MUTUAL_INFO_CLASSIF ИЗ БИБЛИОТЕКИ SKLEARN. ДАННАЯ ФУНКЦИЯ ОПИРАЕТСЯ НА НЕПАРАМЕТРИЧЕСКИЕ МЕТОДЫ, ОСНОВАННЫЕ НА ОЦЕНКЕ ЭНТРОПИИ В ГРУППАХ КАТЕГОРИАЛЬНЫХ ПЕРЕМЕННЫХ."
   ]
  },
  {
   "cell_type": "markdown",
   "id": "7b24ad16",
   "metadata": {},
   "source": [
    "**ЗАМЕНИМ ЗНАЧЕНИЯ ПРИЗНАКА EDUCATION В ОБУЧАЮЩЕЙ И ТЕСТОВОЙ БАЗАХ ЧИСЛАМИ: НА 1 - ШКОЛЬНОЕ И 0 - ВЫСШЕЕ**"
   ]
  },
  {
   "cell_type": "code",
   "execution_count": 31,
   "id": "592429c3",
   "metadata": {},
   "outputs": [
    {
     "name": "stdout",
     "output_type": "stream",
     "text": [
      "ОБУЧАЮЩАЯ МОДЕЛЬ\n"
     ]
    },
    {
     "data": {
      "text/plain": [
       "1    74489\n",
       "0    55542\n",
       "Name: education, dtype: int64"
      ]
     },
     "execution_count": 31,
     "metadata": {},
     "output_type": "execute_result"
    }
   ],
   "source": [
    "education_dict = {'ACD': 0, 'PGR': 0, 'UGR': 0, 'GRD': 0, 'SCH': 1}\n",
    "\n",
    "train.education = train['education'].map(education_dict)\n",
    "print('ОБУЧАЮЩАЯ МОДЕЛЬ')\n",
    "train.education.value_counts()"
   ]
  },
  {
   "cell_type": "code",
   "execution_count": 32,
   "id": "09b75e73",
   "metadata": {},
   "outputs": [
    {
     "name": "stdout",
     "output_type": "stream",
     "text": [
      "ТЕСТОВАЯ МОДЕЛЬ\n"
     ]
    },
    {
     "data": {
      "text/plain": [
       "1    19309\n",
       "0    17040\n",
       "Name: education, dtype: int64"
      ]
     },
     "execution_count": 32,
     "metadata": {},
     "output_type": "execute_result"
    }
   ],
   "source": [
    "test.education = test['education'].map(education_dict)\n",
    "print('ТЕСТОВАЯ МОДЕЛЬ')\n",
    "test.education.value_counts()"
   ]
  },
  {
   "cell_type": "markdown",
   "id": "809633e9",
   "metadata": {},
   "source": [
    "**УБЕДИМСЯ В ПРЕОБРАЗОВАНИИ**"
   ]
  },
  {
   "cell_type": "code",
   "execution_count": 33,
   "id": "6941b3ce",
   "metadata": {},
   "outputs": [
    {
     "data": {
      "text/html": [
       "<div>\n",
       "<style scoped>\n",
       "    .dataframe tbody tr th:only-of-type {\n",
       "        vertical-align: middle;\n",
       "    }\n",
       "\n",
       "    .dataframe tbody tr th {\n",
       "        vertical-align: top;\n",
       "    }\n",
       "\n",
       "    .dataframe thead th {\n",
       "        text-align: right;\n",
       "    }\n",
       "</style>\n",
       "<table border=\"1\" class=\"dataframe\">\n",
       "  <thead>\n",
       "    <tr style=\"text-align: right;\">\n",
       "      <th></th>\n",
       "      <th>client_id</th>\n",
       "      <th>app_date</th>\n",
       "      <th>education</th>\n",
       "      <th>sex</th>\n",
       "      <th>age</th>\n",
       "      <th>car</th>\n",
       "      <th>car_type</th>\n",
       "      <th>decline_app_cnt</th>\n",
       "      <th>good_work</th>\n",
       "      <th>score_bki</th>\n",
       "      <th>bki_request_cnt</th>\n",
       "      <th>region_rating</th>\n",
       "      <th>home_address</th>\n",
       "      <th>work_address</th>\n",
       "      <th>income</th>\n",
       "      <th>sna</th>\n",
       "      <th>first_time</th>\n",
       "      <th>foreign_passport</th>\n",
       "      <th>default</th>\n",
       "    </tr>\n",
       "  </thead>\n",
       "  <tbody>\n",
       "    <tr>\n",
       "      <th>0</th>\n",
       "      <td>25905</td>\n",
       "      <td>01FEB2014</td>\n",
       "      <td>1</td>\n",
       "      <td>1</td>\n",
       "      <td>4.143135</td>\n",
       "      <td>1</td>\n",
       "      <td>1</td>\n",
       "      <td>0</td>\n",
       "      <td>0</td>\n",
       "      <td>-2.008753</td>\n",
       "      <td>0.693147</td>\n",
       "      <td>50</td>\n",
       "      <td>1</td>\n",
       "      <td>2</td>\n",
       "      <td>9.798183</td>\n",
       "      <td>4</td>\n",
       "      <td>1</td>\n",
       "      <td>0</td>\n",
       "      <td>0</td>\n",
       "    </tr>\n",
       "    <tr>\n",
       "      <th>1</th>\n",
       "      <td>63161</td>\n",
       "      <td>12MAR2014</td>\n",
       "      <td>1</td>\n",
       "      <td>0</td>\n",
       "      <td>4.094345</td>\n",
       "      <td>0</td>\n",
       "      <td>0</td>\n",
       "      <td>0</td>\n",
       "      <td>0</td>\n",
       "      <td>-1.532276</td>\n",
       "      <td>1.386294</td>\n",
       "      <td>50</td>\n",
       "      <td>2</td>\n",
       "      <td>3</td>\n",
       "      <td>9.852247</td>\n",
       "      <td>4</td>\n",
       "      <td>1</td>\n",
       "      <td>0</td>\n",
       "      <td>0</td>\n",
       "    </tr>\n",
       "    <tr>\n",
       "      <th>2</th>\n",
       "      <td>25887</td>\n",
       "      <td>01FEB2014</td>\n",
       "      <td>1</td>\n",
       "      <td>1</td>\n",
       "      <td>3.258097</td>\n",
       "      <td>1</td>\n",
       "      <td>0</td>\n",
       "      <td>2</td>\n",
       "      <td>0</td>\n",
       "      <td>-1.408142</td>\n",
       "      <td>0.693147</td>\n",
       "      <td>80</td>\n",
       "      <td>1</td>\n",
       "      <td>2</td>\n",
       "      <td>10.308986</td>\n",
       "      <td>1</td>\n",
       "      <td>4</td>\n",
       "      <td>1</td>\n",
       "      <td>0</td>\n",
       "    </tr>\n",
       "    <tr>\n",
       "      <th>3</th>\n",
       "      <td>16222</td>\n",
       "      <td>23JAN2014</td>\n",
       "      <td>1</td>\n",
       "      <td>0</td>\n",
       "      <td>3.988984</td>\n",
       "      <td>0</td>\n",
       "      <td>0</td>\n",
       "      <td>0</td>\n",
       "      <td>0</td>\n",
       "      <td>-2.057471</td>\n",
       "      <td>1.098612</td>\n",
       "      <td>50</td>\n",
       "      <td>2</td>\n",
       "      <td>3</td>\n",
       "      <td>9.210440</td>\n",
       "      <td>1</td>\n",
       "      <td>3</td>\n",
       "      <td>0</td>\n",
       "      <td>0</td>\n",
       "    </tr>\n",
       "    <tr>\n",
       "      <th>4</th>\n",
       "      <td>101655</td>\n",
       "      <td>18APR2014</td>\n",
       "      <td>0</td>\n",
       "      <td>1</td>\n",
       "      <td>3.891820</td>\n",
       "      <td>0</td>\n",
       "      <td>0</td>\n",
       "      <td>0</td>\n",
       "      <td>1</td>\n",
       "      <td>-1.244723</td>\n",
       "      <td>0.693147</td>\n",
       "      <td>60</td>\n",
       "      <td>2</td>\n",
       "      <td>3</td>\n",
       "      <td>10.308986</td>\n",
       "      <td>1</td>\n",
       "      <td>4</td>\n",
       "      <td>1</td>\n",
       "      <td>0</td>\n",
       "    </tr>\n",
       "  </tbody>\n",
       "</table>\n",
       "</div>"
      ],
      "text/plain": [
       "   client_id   app_date  education  sex       age  car  car_type  \\\n",
       "0      25905  01FEB2014          1    1  4.143135    1         1   \n",
       "1      63161  12MAR2014          1    0  4.094345    0         0   \n",
       "2      25887  01FEB2014          1    1  3.258097    1         0   \n",
       "3      16222  23JAN2014          1    0  3.988984    0         0   \n",
       "4     101655  18APR2014          0    1  3.891820    0         0   \n",
       "\n",
       "   decline_app_cnt  good_work  score_bki  bki_request_cnt  region_rating  \\\n",
       "0                0          0  -2.008753         0.693147             50   \n",
       "1                0          0  -1.532276         1.386294             50   \n",
       "2                2          0  -1.408142         0.693147             80   \n",
       "3                0          0  -2.057471         1.098612             50   \n",
       "4                0          1  -1.244723         0.693147             60   \n",
       "\n",
       "   home_address  work_address     income  sna  first_time  foreign_passport  \\\n",
       "0             1             2   9.798183    4           1                 0   \n",
       "1             2             3   9.852247    4           1                 0   \n",
       "2             1             2  10.308986    1           4                 1   \n",
       "3             2             3   9.210440    1           3                 0   \n",
       "4             2             3  10.308986    1           4                 1   \n",
       "\n",
       "   default  \n",
       "0        0  \n",
       "1        0  \n",
       "2        0  \n",
       "3        0  \n",
       "4        0  "
      ]
     },
     "execution_count": 33,
     "metadata": {},
     "output_type": "execute_result"
    }
   ],
   "source": [
    "train.head()"
   ]
  },
  {
   "cell_type": "code",
   "execution_count": 34,
   "id": "0eb4305f",
   "metadata": {},
   "outputs": [
    {
     "data": {
      "text/html": [
       "<div>\n",
       "<style scoped>\n",
       "    .dataframe tbody tr th:only-of-type {\n",
       "        vertical-align: middle;\n",
       "    }\n",
       "\n",
       "    .dataframe tbody tr th {\n",
       "        vertical-align: top;\n",
       "    }\n",
       "\n",
       "    .dataframe thead th {\n",
       "        text-align: right;\n",
       "    }\n",
       "</style>\n",
       "<table border=\"1\" class=\"dataframe\">\n",
       "  <thead>\n",
       "    <tr style=\"text-align: right;\">\n",
       "      <th></th>\n",
       "      <th>client_id</th>\n",
       "      <th>app_date</th>\n",
       "      <th>education</th>\n",
       "      <th>sex</th>\n",
       "      <th>age</th>\n",
       "      <th>car</th>\n",
       "      <th>car_type</th>\n",
       "      <th>decline_app_cnt</th>\n",
       "      <th>good_work</th>\n",
       "      <th>score_bki</th>\n",
       "      <th>bki_request_cnt</th>\n",
       "      <th>region_rating</th>\n",
       "      <th>home_address</th>\n",
       "      <th>work_address</th>\n",
       "      <th>income</th>\n",
       "      <th>sna</th>\n",
       "      <th>first_time</th>\n",
       "      <th>foreign_passport</th>\n",
       "    </tr>\n",
       "  </thead>\n",
       "  <tbody>\n",
       "    <tr>\n",
       "      <th>0</th>\n",
       "      <td>74835</td>\n",
       "      <td>22MAR2014</td>\n",
       "      <td>0</td>\n",
       "      <td>1</td>\n",
       "      <td>29</td>\n",
       "      <td>1</td>\n",
       "      <td>1</td>\n",
       "      <td>0</td>\n",
       "      <td>0</td>\n",
       "      <td>-2.271884</td>\n",
       "      <td>3</td>\n",
       "      <td>50</td>\n",
       "      <td>1</td>\n",
       "      <td>2</td>\n",
       "      <td>50000</td>\n",
       "      <td>1</td>\n",
       "      <td>4</td>\n",
       "      <td>0</td>\n",
       "    </tr>\n",
       "    <tr>\n",
       "      <th>1</th>\n",
       "      <td>17527</td>\n",
       "      <td>24JAN2014</td>\n",
       "      <td>1</td>\n",
       "      <td>0</td>\n",
       "      <td>39</td>\n",
       "      <td>0</td>\n",
       "      <td>0</td>\n",
       "      <td>5</td>\n",
       "      <td>0</td>\n",
       "      <td>-1.504999</td>\n",
       "      <td>2</td>\n",
       "      <td>50</td>\n",
       "      <td>1</td>\n",
       "      <td>2</td>\n",
       "      <td>5000</td>\n",
       "      <td>4</td>\n",
       "      <td>3</td>\n",
       "      <td>0</td>\n",
       "    </tr>\n",
       "    <tr>\n",
       "      <th>2</th>\n",
       "      <td>75683</td>\n",
       "      <td>23MAR2014</td>\n",
       "      <td>0</td>\n",
       "      <td>1</td>\n",
       "      <td>50</td>\n",
       "      <td>1</td>\n",
       "      <td>1</td>\n",
       "      <td>0</td>\n",
       "      <td>0</td>\n",
       "      <td>-1.691339</td>\n",
       "      <td>1</td>\n",
       "      <td>50</td>\n",
       "      <td>1</td>\n",
       "      <td>2</td>\n",
       "      <td>30000</td>\n",
       "      <td>1</td>\n",
       "      <td>3</td>\n",
       "      <td>1</td>\n",
       "    </tr>\n",
       "    <tr>\n",
       "      <th>3</th>\n",
       "      <td>26883</td>\n",
       "      <td>03FEB2014</td>\n",
       "      <td>1</td>\n",
       "      <td>1</td>\n",
       "      <td>56</td>\n",
       "      <td>0</td>\n",
       "      <td>0</td>\n",
       "      <td>0</td>\n",
       "      <td>0</td>\n",
       "      <td>-2.374182</td>\n",
       "      <td>1</td>\n",
       "      <td>40</td>\n",
       "      <td>1</td>\n",
       "      <td>2</td>\n",
       "      <td>17000</td>\n",
       "      <td>1</td>\n",
       "      <td>3</td>\n",
       "      <td>0</td>\n",
       "    </tr>\n",
       "    <tr>\n",
       "      <th>4</th>\n",
       "      <td>28862</td>\n",
       "      <td>04FEB2014</td>\n",
       "      <td>0</td>\n",
       "      <td>0</td>\n",
       "      <td>38</td>\n",
       "      <td>0</td>\n",
       "      <td>0</td>\n",
       "      <td>0</td>\n",
       "      <td>0</td>\n",
       "      <td>-2.487502</td>\n",
       "      <td>0</td>\n",
       "      <td>80</td>\n",
       "      <td>2</td>\n",
       "      <td>3</td>\n",
       "      <td>120000</td>\n",
       "      <td>1</td>\n",
       "      <td>3</td>\n",
       "      <td>0</td>\n",
       "    </tr>\n",
       "  </tbody>\n",
       "</table>\n",
       "</div>"
      ],
      "text/plain": [
       "   client_id   app_date  education  sex  age  car  car_type  decline_app_cnt  \\\n",
       "0      74835  22MAR2014          0    1   29    1         1                0   \n",
       "1      17527  24JAN2014          1    0   39    0         0                5   \n",
       "2      75683  23MAR2014          0    1   50    1         1                0   \n",
       "3      26883  03FEB2014          1    1   56    0         0                0   \n",
       "4      28862  04FEB2014          0    0   38    0         0                0   \n",
       "\n",
       "   good_work  score_bki  bki_request_cnt  region_rating  home_address  \\\n",
       "0          0  -2.271884                3             50             1   \n",
       "1          0  -1.504999                2             50             1   \n",
       "2          0  -1.691339                1             50             1   \n",
       "3          0  -2.374182                1             40             1   \n",
       "4          0  -2.487502                0             80             2   \n",
       "\n",
       "   work_address  income  sna  first_time  foreign_passport  \n",
       "0             2   50000    1           4                 0  \n",
       "1             2    5000    4           3                 0  \n",
       "2             2   30000    1           3                 1  \n",
       "3             2   17000    1           3                 0  \n",
       "4             3  120000    1           3                 0  "
      ]
     },
     "execution_count": 34,
     "metadata": {},
     "output_type": "execute_result"
    }
   ],
   "source": [
    "test.head()"
   ]
  },
  {
   "cell_type": "markdown",
   "id": "34fe2e54",
   "metadata": {},
   "source": [
    "**ПОРАБОТАЕМ С ПРИЗНАКОМ app_date**"
   ]
  },
  {
   "cell_type": "code",
   "execution_count": 35,
   "id": "9d9355b1",
   "metadata": {},
   "outputs": [
    {
     "data": {
      "text/plain": [
       "0    01FEB2014\n",
       "1    12MAR2014\n",
       "2    01FEB2014\n",
       "3    23JAN2014\n",
       "4    18APR2014\n",
       "Name: app_date, dtype: object"
      ]
     },
     "execution_count": 35,
     "metadata": {},
     "output_type": "execute_result"
    }
   ],
   "source": [
    "train.app_date.head(5)"
   ]
  },
  {
   "cell_type": "code",
   "execution_count": 36,
   "id": "f004e1e7",
   "metadata": {},
   "outputs": [
    {
     "data": {
      "text/plain": [
       "0    22MAR2014\n",
       "1    24JAN2014\n",
       "2    23MAR2014\n",
       "3    03FEB2014\n",
       "4    04FEB2014\n",
       "Name: app_date, dtype: object"
      ]
     },
     "execution_count": 36,
     "metadata": {},
     "output_type": "execute_result"
    }
   ],
   "source": [
    "test.app_date.head(5)"
   ]
  },
  {
   "cell_type": "markdown",
   "id": "3146a715",
   "metadata": {},
   "source": [
    "**СКОНВЕРТИРУЕМ ДАТЫ В БОЛЕЕ УДОБНЫЙ ФОРМАТ**"
   ]
  },
  {
   "cell_type": "code",
   "execution_count": 37,
   "id": "02670f82",
   "metadata": {},
   "outputs": [],
   "source": [
    "train.app_date = pd.to_datetime(train.app_date)\n",
    "test.app_date = pd.to_datetime(test.app_date)"
   ]
  },
  {
   "cell_type": "code",
   "execution_count": 38,
   "id": "ff9e77f7",
   "metadata": {},
   "outputs": [
    {
     "data": {
      "text/plain": [
       "0   2014-02-01\n",
       "1   2014-03-12\n",
       "2   2014-02-01\n",
       "3   2014-01-23\n",
       "4   2014-04-18\n",
       "Name: app_date, dtype: datetime64[ns]"
      ]
     },
     "execution_count": 38,
     "metadata": {},
     "output_type": "execute_result"
    }
   ],
   "source": [
    "train.app_date.head(5)"
   ]
  },
  {
   "cell_type": "code",
   "execution_count": 39,
   "id": "7fd6eb4d",
   "metadata": {},
   "outputs": [
    {
     "data": {
      "text/plain": [
       "0   2014-03-22\n",
       "1   2014-01-24\n",
       "2   2014-03-23\n",
       "3   2014-02-03\n",
       "4   2014-02-04\n",
       "Name: app_date, dtype: datetime64[ns]"
      ]
     },
     "execution_count": 39,
     "metadata": {},
     "output_type": "execute_result"
    }
   ],
   "source": [
    "test.app_date.head(5)"
   ]
  },
  {
   "cell_type": "markdown",
   "id": "ba44c4bd",
   "metadata": {},
   "source": [
    "### ДОБАВЛЕНИЕ НОВЫХ ПРИЗНАКОВ"
   ]
  },
  {
   "cell_type": "markdown",
   "id": "52a2feea",
   "metadata": {},
   "source": [
    "**МЕСЯЦ ПОДАЧИ ЗАЯВЛЕНИЯ НА КРЕДИТ**"
   ]
  },
  {
   "cell_type": "code",
   "execution_count": 40,
   "id": "6cb71dc0",
   "metadata": {},
   "outputs": [],
   "source": [
    "train['month'] = train.app_date.apply(lambda x: x.month)\n",
    "test['month'] = train.app_date.apply(lambda x: x.month)\n",
    "\n",
    "cat_cols.append('month')"
   ]
  },
  {
   "cell_type": "markdown",
   "id": "8d3715a4",
   "metadata": {},
   "source": [
    "**КОЛИЧЕСТВО ДНЕЙ МЕЖДУ ДАТОЙ ПОДАЧИ ЗАЯВЛЕНИЯ НА КРЕДИТ И ДАТОЙ ПОДАЧИ В БАЗЕ**"
   ]
  },
  {
   "cell_type": "code",
   "execution_count": 41,
   "id": "1788b294",
   "metadata": {},
   "outputs": [],
   "source": [
    "train['days'] = (train.app_date - train.app_date.min()).dt.days\n",
    "test['days'] = (test.app_date - test.app_date.min()).dt.days\n",
    "\n",
    "num_cols.append('days')"
   ]
  },
  {
   "cell_type": "markdown",
   "id": "d80d58db",
   "metadata": {},
   "source": [
    "### ДОБАВЛЕНИЕ НОВЫХ ПРИЗНАКОВ, НА ОСНОВЕ СУЩЕСТВУЮЩИХ"
   ]
  },
  {
   "cell_type": "code",
   "execution_count": 42,
   "id": "568d73ce",
   "metadata": {},
   "outputs": [],
   "source": [
    "train['bki_age_reg'] = (train['score_bki']/train['age'])*train['region_rating']\n",
    "test['bki_age_reg'] = (test['score_bki']/test['age'])*test['region_rating']"
   ]
  },
  {
   "cell_type": "code",
   "execution_count": 43,
   "id": "9cefe34d",
   "metadata": {},
   "outputs": [],
   "source": [
    "train['mult_sna_ftime'] = train['sna'] * train['first_time']\n",
    "test['mult_sna_ftime'] = test['sna'] * test['first_time']"
   ]
  },
  {
   "cell_type": "code",
   "execution_count": 44,
   "id": "6320c6dd",
   "metadata": {},
   "outputs": [],
   "source": [
    "train['edu_and_income'] = (train['education'] + 1) * train['income']\n",
    "test['edu_and_income'] = (test['education'] + 1) * test['income']"
   ]
  },
  {
   "cell_type": "code",
   "execution_count": 45,
   "id": "c558b033",
   "metadata": {},
   "outputs": [],
   "source": [
    "train['success_client'] = (train['foreign_passport'] + 1) * (train['good_work'] + 1) * (train['car'] + 1)\n",
    "test['success_client'] = (test['foreign_passport'] + 1) * (test['good_work'] + 1) * (test['car'] + 1)"
   ]
  },
  {
   "cell_type": "code",
   "execution_count": 46,
   "id": "fccdf33e",
   "metadata": {},
   "outputs": [],
   "source": [
    "train['very_success_client'] = train['foreign_passport'] * train['good_work'] * train['car']\n",
    "test['very_success_client'] = test['foreign_passport'] * test['good_work'] * test['car']"
   ]
  },
  {
   "cell_type": "code",
   "execution_count": 47,
   "id": "37b9fc10",
   "metadata": {},
   "outputs": [],
   "source": [
    "train['fpassp_and_gwork'] = train['foreign_passport'] * train['good_work'] \n",
    "test['fpassp_and_gwork'] = test['foreign_passport'] * test['good_work']"
   ]
  },
  {
   "cell_type": "code",
   "execution_count": 48,
   "id": "53a00f1b",
   "metadata": {},
   "outputs": [],
   "source": [
    "train['fpassp_and_car'] = train['foreign_passport'] * train['car']\n",
    "test['fpassp_and_car'] = test['foreign_passport'] * test['car']"
   ]
  },
  {
   "cell_type": "code",
   "execution_count": 49,
   "id": "1cd18a3e",
   "metadata": {},
   "outputs": [],
   "source": [
    "train['gwork_and_car'] = train['good_work'] * train['car']\n",
    "test['gwork_and_car'] = test['good_work'] * test['car']"
   ]
  },
  {
   "cell_type": "code",
   "execution_count": 50,
   "id": "a87ddb7c",
   "metadata": {},
   "outputs": [],
   "source": [
    "train['home_and_work'] = train['home_address'] * train['work_address']\n",
    "test['home_and_work'] = test['home_address'] * test['work_address']"
   ]
  },
  {
   "cell_type": "code",
   "execution_count": 51,
   "id": "8694392a",
   "metadata": {},
   "outputs": [],
   "source": [
    "train['sex_and_fpassp'] = train['sex'] * train['foreign_passport']\n",
    "test['sex_and_fpassp'] = test['sex'] * test['foreign_passport']"
   ]
  },
  {
   "cell_type": "code",
   "execution_count": 52,
   "id": "4c216316",
   "metadata": {},
   "outputs": [],
   "source": [
    "train['age_and_bkirc'] = train['age'] * train['bki_request_cnt']\n",
    "test['age_and_bkirc'] = test['age'] * test['bki_request_cnt']"
   ]
  },
  {
   "cell_type": "markdown",
   "id": "4bbdc22a",
   "metadata": {},
   "source": [
    "**ДОБАВЛЯЕМ НОВЫЕ ПРИЗНАКИ В СООТВЕТСТВУЮЩИЕ СПИСКИ**"
   ]
  },
  {
   "cell_type": "code",
   "execution_count": 53,
   "id": "9657849f",
   "metadata": {},
   "outputs": [],
   "source": [
    "num_cols.append('bki_age_reg')\n",
    "num_cols.append('mult_sna_ftime')\n",
    "num_cols.append('edu_and_income')\n",
    "cat_cols.append('success_client')\n",
    "bin_cols.append('very_success_client')\n",
    "bin_cols.append('fpassp_and_gwork')\n",
    "bin_cols.append('fpassp_and_car')\n",
    "bin_cols.append('gwork_and_car')\n",
    "\n",
    "cat_cols.append('home_and_work')\n",
    "bin_cols.append('sex_and_fpassp')\n",
    "num_cols.append('age_and_bkirc')"
   ]
  },
  {
   "cell_type": "markdown",
   "id": "54196942",
   "metadata": {},
   "source": [
    "**ИЗМЕНИМ ЗНАЧЕНИЯ ПРИЗНАКА decline_app_cnt, КОТОРЫЕ ВСТРЕЧАЮТСЯ НАИБОЛЕЕ РЕДКО, ЕДИНСТВЕННЫМ ЗНАЧЕНИЕМ**"
   ]
  },
  {
   "cell_type": "code",
   "execution_count": 54,
   "id": "a85b47fa",
   "metadata": {},
   "outputs": [],
   "source": [
    "train['decline_app_cnt'] = train['decline_app_cnt'].apply(lambda x: x if x < 4 else 4)\n",
    "test['decline_app_cnt'] = test['decline_app_cnt'].apply(lambda x: x if x < 4 else 4)"
   ]
  },
  {
   "cell_type": "markdown",
   "id": "0c00ec9b",
   "metadata": {},
   "source": [
    "**МЕНЯЕМ ПРИНАДЛЕЖНОСТЬ СПИСКУ ПРИЗНАКА decline_app_cnt**"
   ]
  },
  {
   "cell_type": "code",
   "execution_count": 55,
   "id": "c4f6acc5",
   "metadata": {},
   "outputs": [],
   "source": [
    "num_cols.remove('decline_app_cnt')\n",
    "cat_cols.append('decline_app_cnt')"
   ]
  },
  {
   "cell_type": "markdown",
   "id": "d91eec40",
   "metadata": {},
   "source": [
    "**ГИСТОГРАММЫ РАСПРЕДЕЛЕНИЯ БИНАРНЫХ ПРИЗНАКОВ**"
   ]
  },
  {
   "cell_type": "code",
   "execution_count": 56,
   "id": "8a9b5f6e",
   "metadata": {},
   "outputs": [
    {
     "name": "stderr",
     "output_type": "stream",
     "text": [
      "C:\\Users\\volodin\\Anaconda3\\lib\\site-packages\\seaborn\\_decorators.py:36: FutureWarning: Pass the following variable as a keyword arg: x. From version 0.12, the only valid positional argument will be `data`, and passing other arguments without an explicit keyword will result in an error or misinterpretation.\n",
      "  warnings.warn(\n"
     ]
    },
    {
     "data": {
      "image/png": "[encoded data removed]",
      "text/plain": [
       "<Figure size 432x288 with 1 Axes>"
      ]
     },
     "metadata": {
      "needs_background": "light"
     },
     "output_type": "display_data"
    },
    {
     "name": "stderr",
     "output_type": "stream",
     "text": [
      "C:\\Users\\volodin\\Anaconda3\\lib\\site-packages\\seaborn\\_decorators.py:36: FutureWarning: Pass the following variable as a keyword arg: x. From version 0.12, the only valid positional argument will be `data`, and passing other arguments without an explicit keyword will result in an error or misinterpretation.\n",
      "  warnings.warn(\n"
     ]
    },
    {
     "data": {
      "image/png": "[encoded data removed]",
      "text/plain": [
       "<Figure size 432x288 with 1 Axes>"
      ]
     },
     "metadata": {
      "needs_background": "light"
     },
     "output_type": "display_data"
    },
    {
     "name": "stderr",
     "output_type": "stream",
     "text": [
      "C:\\Users\\volodin\\Anaconda3\\lib\\site-packages\\seaborn\\_decorators.py:36: FutureWarning: Pass the following variable as a keyword arg: x. From version 0.12, the only valid positional argument will be `data`, and passing other arguments without an explicit keyword will result in an error or misinterpretation.\n",
      "  warnings.warn(\n"
     ]
    },
    {
     "data": {
      "image/png": "[encoded data removed]",
      "text/plain": [
       "<Figure size 432x288 with 1 Axes>"
      ]
     },
     "metadata": {
      "needs_background": "light"
     },
     "output_type": "display_data"
    },
    {
     "name": "stderr",
     "output_type": "stream",
     "text": [
      "C:\\Users\\volodin\\Anaconda3\\lib\\site-packages\\seaborn\\_decorators.py:36: FutureWarning: Pass the following variable as a keyword arg: x. From version 0.12, the only valid positional argument will be `data`, and passing other arguments without an explicit keyword will result in an error or misinterpretation.\n",
      "  warnings.warn(\n"
     ]
    },
    {
     "data": {
      "image/png": "[encoded data removed]",
      "text/plain": [
       "<Figure size 432x288 with 1 Axes>"
      ]
     },
     "metadata": {
      "needs_background": "light"
     },
     "output_type": "display_data"
    },
    {
     "name": "stderr",
     "output_type": "stream",
     "text": [
      "C:\\Users\\volodin\\Anaconda3\\lib\\site-packages\\seaborn\\_decorators.py:36: FutureWarning: Pass the following variable as a keyword arg: x. From version 0.12, the only valid positional argument will be `data`, and passing other arguments without an explicit keyword will result in an error or misinterpretation.\n",
      "  warnings.warn(\n"
     ]
    },
    {
     "data": {
      "image/png": "[encoded data removed]",
      "text/plain": [
       "<Figure size 432x288 with 1 Axes>"
      ]
     },
     "metadata": {
      "needs_background": "light"
     },
     "output_type": "display_data"
    },
    {
     "name": "stderr",
     "output_type": "stream",
     "text": [
      "C:\\Users\\volodin\\Anaconda3\\lib\\site-packages\\seaborn\\_decorators.py:36: FutureWarning: Pass the following variable as a keyword arg: x. From version 0.12, the only valid positional argument will be `data`, and passing other arguments without an explicit keyword will result in an error or misinterpretation.\n",
      "  warnings.warn(\n"
     ]
    },
    {
     "data": {
      "image/png": "[encoded data removed]",
      "text/plain": [
       "<Figure size 432x288 with 1 Axes>"
      ]
     },
     "metadata": {
      "needs_background": "light"
     },
     "output_type": "display_data"
    },
    {
     "name": "stderr",
     "output_type": "stream",
     "text": [
      "C:\\Users\\volodin\\Anaconda3\\lib\\site-packages\\seaborn\\_decorators.py:36: FutureWarning: Pass the following variable as a keyword arg: x. From version 0.12, the only valid positional argument will be `data`, and passing other arguments without an explicit keyword will result in an error or misinterpretation.\n",
      "  warnings.warn(\n"
     ]
    },
    {
     "data": {
      "image/png": "[encoded data removed]",
      "text/plain": [
       "<Figure size 432x288 with 1 Axes>"
      ]
     },
     "metadata": {
      "needs_background": "light"
     },
     "output_type": "display_data"
    },
    {
     "name": "stderr",
     "output_type": "stream",
     "text": [
      "C:\\Users\\volodin\\Anaconda3\\lib\\site-packages\\seaborn\\_decorators.py:36: FutureWarning: Pass the following variable as a keyword arg: x. From version 0.12, the only valid positional argument will be `data`, and passing other arguments without an explicit keyword will result in an error or misinterpretation.\n",
      "  warnings.warn(\n"
     ]
    },
    {
     "data": {
      "image/png": "[encoded data removed]",
      "text/plain": [
       "<Figure size 432x288 with 1 Axes>"
      ]
     },
     "metadata": {
      "needs_background": "light"
     },
     "output_type": "display_data"
    },
    {
     "name": "stderr",
     "output_type": "stream",
     "text": [
      "C:\\Users\\volodin\\Anaconda3\\lib\\site-packages\\seaborn\\_decorators.py:36: FutureWarning: Pass the following variable as a keyword arg: x. From version 0.12, the only valid positional argument will be `data`, and passing other arguments without an explicit keyword will result in an error or misinterpretation.\n",
      "  warnings.warn(\n"
     ]
    },
    {
     "data": {
      "image/png": "[encoded data removed]",
      "text/plain": [
       "<Figure size 432x288 with 1 Axes>"
      ]
     },
     "metadata": {
      "needs_background": "light"
     },
     "output_type": "display_data"
    },
    {
     "name": "stderr",
     "output_type": "stream",
     "text": [
      "C:\\Users\\volodin\\Anaconda3\\lib\\site-packages\\seaborn\\_decorators.py:36: FutureWarning: Pass the following variable as a keyword arg: x. From version 0.12, the only valid positional argument will be `data`, and passing other arguments without an explicit keyword will result in an error or misinterpretation.\n",
      "  warnings.warn(\n"
     ]
    },
    {
     "data": {
      "image/png": "[encoded data removed]",
      "text/plain": [
       "<Figure size 432x288 with 1 Axes>"
      ]
     },
     "metadata": {
      "needs_background": "light"
     },
     "output_type": "display_data"
    }
   ],
   "source": [
    "for column in bin_cols:\n",
    "    plt.figure()\n",
    "    sns.countplot(train[column])\n",
    "    plt.title(column)\n",
    "    plt.show()"
   ]
  },
  {
   "cell_type": "markdown",
   "id": "9bd9ed29",
   "metadata": {},
   "source": [
    "**boxplots ЧИСЛОВЫХ ПРИЗНАКОВ**"
   ]
  },
  {
   "cell_type": "code",
   "execution_count": 57,
   "id": "0d05dde6",
   "metadata": {},
   "outputs": [
    {
     "data": {
      "image/png": "[encoded data removed]",
      "text/plain": [
       "<Figure size 432x288 with 1 Axes>"
      ]
     },
     "metadata": {
      "needs_background": "light"
     },
     "output_type": "display_data"
    },
    {
     "data": {
      "image/png": "[encoded data removed]",
      "text/plain": [
       "<Figure size 432x288 with 1 Axes>"
      ]
     },
     "metadata": {
      "needs_background": "light"
     },
     "output_type": "display_data"
    },
    {
     "data": {
      "image/png": "[encoded data removed]",
      "text/plain": [
       "<Figure size 432x288 with 1 Axes>"
      ]
     },
     "metadata": {
      "needs_background": "light"
     },
     "output_type": "display_data"
    },
    {
     "data": {
      "image/png": "[encoded data removed]",
      "text/plain": [
       "<Figure size 432x288 with 1 Axes>"
      ]
     },
     "metadata": {
      "needs_background": "light"
     },
     "output_type": "display_data"
    },
    {
     "data": {
      "image/png": "[encoded data removed]",
      "text/plain": [
       "<Figure size 432x288 with 1 Axes>"
      ]
     },
     "metadata": {
      "needs_background": "light"
     },
     "output_type": "display_data"
    },
    {
     "data": {
      "image/png": "[encoded data removed]",
      "text/plain": [
       "<Figure size 432x288 with 1 Axes>"
      ]
     },
     "metadata": {
      "needs_background": "light"
     },
     "output_type": "display_data"
    },
    {
     "data": {
      "image/png": "[encoded data removed]",
      "text/plain": [
       "<Figure size 432x288 with 1 Axes>"
      ]
     },
     "metadata": {
      "needs_background": "light"
     },
     "output_type": "display_data"
    },
    {
     "data": {
      "image/png": "[encoded data removed]",
      "text/plain": [
       "<Figure size 432x288 with 1 Axes>"
      ]
     },
     "metadata": {
      "needs_background": "light"
     },
     "output_type": "display_data"
    },
    {
     "data": {
      "image/png": "[encoded data removed]",
      "text/plain": [
       "<Figure size 432x288 with 1 Axes>"
      ]
     },
     "metadata": {
      "needs_background": "light"
     },
     "output_type": "display_data"
    },
    {
     "data": {
      "image/png": "[encoded data removed]",
      "text/plain": [
       "<Figure size 432x288 with 1 Axes>"
      ]
     },
     "metadata": {
      "needs_background": "light"
     },
     "output_type": "display_data"
    }
   ],
   "source": [
    "for column in num_cols:\n",
    "    plt.figure()\n",
    "    sns.boxplot(x=train['default'], y=train[column])\n",
    "    plt.title(column)\n",
    "    plt.show()"
   ]
  },
  {
   "cell_type": "markdown",
   "id": "e1209b7e",
   "metadata": {},
   "source": [
    "**ПРИСУТСТВУЮТ ВЫБРОСЫ, ПОПРОБУЕМ ИСПРАВИТЬ**"
   ]
  },
  {
   "cell_type": "markdown",
   "id": "cf82f16b",
   "metadata": {},
   "source": [
    "**ФУНКЦИЯ ОПРЕДЕЛЯЕТ МЕЖКВАРТИЛЬНЫЙ ИНТЕРВАЛ И ВОЗВРАЩАЕТ 1.5 МЕЖКВАРТИЛЬНЫХ РАССТОЯНИЯ С ОБЕИХ СТОРОН ОТ ЭТОГО ИНТЕРВАЛА. С ЕЁ ПОМОЩЬЮ ИЗБАВИМСЯ ОТ ВЫБРОСОВ**"
   ]
  },
  {
   "cell_type": "code",
   "execution_count": 58,
   "id": "b946f0f3",
   "metadata": {},
   "outputs": [],
   "source": [
    "def outliers_iqr(ys):\n",
    "    quartile_1, quartile_3 = np.percentile(ys, [25, 75])\n",
    "    iqr = quartile_3 - quartile_1\n",
    "    lower_bound = quartile_1 - (iqr * 1.5)\n",
    "    upper_bound = quartile_3 + (iqr * 1.5)\n",
    "    return lower_bound, upper_bound"
   ]
  },
  {
   "cell_type": "code",
   "execution_count": null,
   "id": "24411530",
   "metadata": {},
   "outputs": [],
   "source": []
  },
  {
   "cell_type": "markdown",
   "id": "81fc5e67",
   "metadata": {},
   "source": [
    "**ПРОВЕРИМ ЗНАЧИМОСТЬ БИНАРНЫХ И КАТЕГОРИАЛЬНЫХ ПРИЗНАКОВ В ОБУЧАЮЩЕЙ БАЗЕ**"
   ]
  },
  {
   "cell_type": "code",
   "execution_count": 59,
   "id": "fa060204",
   "metadata": {},
   "outputs": [
    {
     "data": {
      "text/plain": [
       "<AxesSubplot:>"
      ]
     },
     "execution_count": 59,
     "metadata": {},
     "output_type": "execute_result"
    },
    {
     "data": {
      "image/png": "[encoded data removed]",
      "text/plain": [
       "<Figure size 432x288 with 1 Axes>"
      ]
     },
     "metadata": {
      "needs_background": "light"
     },
     "output_type": "display_data"
    }
   ],
   "source": [
    "imp_cat = Series(mutual_info_classif(train[bin_cols + cat_cols], train['default'],\n",
    "                                     discrete_features =True), index = bin_cols + cat_cols)\n",
    "imp_cat.sort_values(inplace = True)\n",
    "imp_cat.plot(kind = 'barh')"
   ]
  },
  {
   "cell_type": "markdown",
   "id": "7a2ce1d1",
   "metadata": {},
   "source": [
    "**ЕЩЁ РАЗ ПОСМОТРИМ НА ЗНАЧИМОСТЬ ЧИСЛОВЫХ ПЕРЕМЕННЫХ**"
   ]
  },
  {
   "cell_type": "code",
   "execution_count": 60,
   "id": "8f743772",
   "metadata": {},
   "outputs": [
    {
     "data": {
      "text/plain": [
       "Text(0.5, 0, 'F-value')"
      ]
     },
     "execution_count": 60,
     "metadata": {},
     "output_type": "execute_result"
    },
    {
     "data": {
      "image/png": "[encoded data removed]",
      "text/plain": [
       "<Figure size 432x288 with 1 Axes>"
      ]
     },
     "metadata": {
      "needs_background": "light"
     },
     "output_type": "display_data"
    }
   ],
   "source": [
    "imp_num = Series(f_classif(train[num_cols], train['default'])[0],\n",
    "                 index=num_cols)\n",
    "imp_num.sort_values(inplace=True)\n",
    "imp_num.plot(kind='barh')\n",
    "plt.xlabel('F-value')"
   ]
  },
  {
   "cell_type": "markdown",
   "id": "1b21158a",
   "metadata": {},
   "source": [
    "**КОРРЕЛЯЦИЯ ПРИЗНАКОВ ОБУЧАЮЩЕЙ БАЗЫ**"
   ]
  },
  {
   "cell_type": "code",
   "execution_count": 61,
   "id": "eb22cf6e",
   "metadata": {},
   "outputs": [
    {
     "data": {
      "text/html": [
       "<style  type=\"text/css\" >\n",
       "#T_ac1a9_row0_col0,#T_ac1a9_row1_col1,#T_ac1a9_row2_col2,#T_ac1a9_row3_col3,#T_ac1a9_row4_col4,#T_ac1a9_row5_col5,#T_ac1a9_row6_col6,#T_ac1a9_row7_col7,#T_ac1a9_row8_col8,#T_ac1a9_row9_col9,#T_ac1a9_row10_col10,#T_ac1a9_row11_col11,#T_ac1a9_row12_col12,#T_ac1a9_row13_col13,#T_ac1a9_row14_col14,#T_ac1a9_row15_col15,#T_ac1a9_row16_col16,#T_ac1a9_row17_col17,#T_ac1a9_row18_col18,#T_ac1a9_row19_col19,#T_ac1a9_row20_col20,#T_ac1a9_row21_col21,#T_ac1a9_row22_col22,#T_ac1a9_row23_col23,#T_ac1a9_row24_col24,#T_ac1a9_row25_col25,#T_ac1a9_row26_col26,#T_ac1a9_row27_col27,#T_ac1a9_row28_col28{\n",
       "            background-color:  #b40426;\n",
       "            color:  #f1f1f1;\n",
       "        }#T_ac1a9_row0_col1,#T_ac1a9_row2_col28,#T_ac1a9_row8_col15,#T_ac1a9_row12_col3,#T_ac1a9_row13_col26{\n",
       "            background-color:  #3e51c5;\n",
       "            color:  #f1f1f1;\n",
       "        }#T_ac1a9_row0_col2,#T_ac1a9_row6_col4,#T_ac1a9_row10_col18,#T_ac1a9_row23_col18,#T_ac1a9_row26_col18{\n",
       "            background-color:  #a5c3fe;\n",
       "            color:  #000000;\n",
       "        }#T_ac1a9_row0_col3,#T_ac1a9_row8_col26,#T_ac1a9_row23_col11,#T_ac1a9_row25_col24{\n",
       "            background-color:  #94b6ff;\n",
       "            color:  #000000;\n",
       "        }#T_ac1a9_row0_col4,#T_ac1a9_row0_col25,#T_ac1a9_row0_col26,#T_ac1a9_row2_col5,#T_ac1a9_row7_col5,#T_ac1a9_row9_col19,#T_ac1a9_row11_col10,#T_ac1a9_row13_col25,#T_ac1a9_row16_col1,#T_ac1a9_row16_col5,#T_ac1a9_row17_col5,#T_ac1a9_row19_col4,#T_ac1a9_row20_col0,#T_ac1a9_row23_col0{\n",
       "            background-color:  #6687ed;\n",
       "            color:  #000000;\n",
       "        }#T_ac1a9_row0_col5,#T_ac1a9_row1_col10,#T_ac1a9_row2_col1,#T_ac1a9_row6_col19,#T_ac1a9_row7_col23,#T_ac1a9_row8_col6,#T_ac1a9_row8_col20,#T_ac1a9_row16_col20,#T_ac1a9_row17_col20,#T_ac1a9_row18_col19,#T_ac1a9_row21_col10,#T_ac1a9_row23_col1,#T_ac1a9_row24_col9,#T_ac1a9_row25_col10{\n",
       "            background-color:  #5673e0;\n",
       "            color:  #000000;\n",
       "        }#T_ac1a9_row0_col6,#T_ac1a9_row0_col16,#T_ac1a9_row15_col21,#T_ac1a9_row15_col22,#T_ac1a9_row17_col6,#T_ac1a9_row21_col7{\n",
       "            background-color:  #4358cb;\n",
       "            color:  #f1f1f1;\n",
       "        }#T_ac1a9_row0_col7,#T_ac1a9_row0_col28,#T_ac1a9_row1_col4,#T_ac1a9_row1_col6,#T_ac1a9_row2_col7,#T_ac1a9_row4_col1,#T_ac1a9_row6_col16,#T_ac1a9_row6_col17,#T_ac1a9_row8_col18,#T_ac1a9_row12_col13,#T_ac1a9_row12_col14,#T_ac1a9_row13_col12,#T_ac1a9_row13_col15,#T_ac1a9_row14_col19,#T_ac1a9_row15_col3,#T_ac1a9_row15_col17,#T_ac1a9_row18_col0,#T_ac1a9_row18_col2,#T_ac1a9_row18_col3,#T_ac1a9_row18_col8,#T_ac1a9_row18_col9,#T_ac1a9_row18_col10,#T_ac1a9_row18_col11,#T_ac1a9_row18_col21,#T_ac1a9_row18_col22,#T_ac1a9_row18_col23,#T_ac1a9_row18_col24,#T_ac1a9_row18_col26,#T_ac1a9_row18_col27,#T_ac1a9_row20_col5,#T_ac1a9_row20_col21,#T_ac1a9_row20_col25,#T_ac1a9_row21_col20{\n",
       "            background-color:  #3b4cc0;\n",
       "            color:  #f1f1f1;\n",
       "        }#T_ac1a9_row0_col8,#T_ac1a9_row21_col13{\n",
       "            background-color:  #cedaeb;\n",
       "            color:  #000000;\n",
       "        }#T_ac1a9_row0_col9,#T_ac1a9_row4_col14,#T_ac1a9_row7_col27,#T_ac1a9_row9_col24,#T_ac1a9_row19_col6,#T_ac1a9_row26_col24{\n",
       "            background-color:  #6180e9;\n",
       "            color:  #000000;\n",
       "        }#T_ac1a9_row0_col10,#T_ac1a9_row4_col11,#T_ac1a9_row5_col27,#T_ac1a9_row7_col14,#T_ac1a9_row9_col0,#T_ac1a9_row10_col27,#T_ac1a9_row13_col2,#T_ac1a9_row14_col25,#T_ac1a9_row22_col0,#T_ac1a9_row23_col3,#T_ac1a9_row27_col5,#T_ac1a9_row27_col25{\n",
       "            background-color:  #6b8df0;\n",
       "            color:  #000000;\n",
       "        }#T_ac1a9_row0_col11{\n",
       "            background-color:  #c4d5f3;\n",
       "            color:  #000000;\n",
       "        }#T_ac1a9_row0_col12,#T_ac1a9_row7_col13,#T_ac1a9_row16_col13,#T_ac1a9_row22_col5,#T_ac1a9_row25_col18{\n",
       "            background-color:  #aec9fc;\n",
       "            color:  #000000;\n",
       "        }#T_ac1a9_row0_col13,#T_ac1a9_row2_col18,#T_ac1a9_row28_col12{\n",
       "            background-color:  #abc8fd;\n",
       "            color:  #000000;\n",
       "        }#T_ac1a9_row0_col14,#T_ac1a9_row1_col28,#T_ac1a9_row2_col22,#T_ac1a9_row8_col23,#T_ac1a9_row15_col26,#T_ac1a9_row17_col26,#T_ac1a9_row22_col2,#T_ac1a9_row28_col6{\n",
       "            background-color:  #81a4fb;\n",
       "            color:  #000000;\n",
       "        }#T_ac1a9_row0_col15,#T_ac1a9_row0_col20,#T_ac1a9_row6_col11,#T_ac1a9_row8_col22,#T_ac1a9_row14_col2,#T_ac1a9_row28_col20{\n",
       "            background-color:  #6c8ff1;\n",
       "            color:  #000000;\n",
       "        }#T_ac1a9_row0_col17,#T_ac1a9_row6_col2,#T_ac1a9_row21_col15,#T_ac1a9_row24_col19{\n",
       "            background-color:  #4257c9;\n",
       "            color:  #f1f1f1;\n",
       "        }#T_ac1a9_row0_col18,#T_ac1a9_row5_col22,#T_ac1a9_row13_col19,#T_ac1a9_row24_col18,#T_ac1a9_row25_col12{\n",
       "            background-color:  #9fbfff;\n",
       "            color:  #000000;\n",
       "        }#T_ac1a9_row0_col19,#T_ac1a9_row5_col1,#T_ac1a9_row5_col26,#T_ac1a9_row6_col25,#T_ac1a9_row7_col3,#T_ac1a9_row8_col17,#T_ac1a9_row10_col3,#T_ac1a9_row12_col11,#T_ac1a9_row13_col16,#T_ac1a9_row15_col5,#T_ac1a9_row19_col23,#T_ac1a9_row20_col27,#T_ac1a9_row21_col1,#T_ac1a9_row21_col4,#T_ac1a9_row22_col6,#T_ac1a9_row25_col6,#T_ac1a9_row27_col15{\n",
       "            background-color:  #506bda;\n",
       "            color:  #000000;\n",
       "        }#T_ac1a9_row0_col21,#T_ac1a9_row14_col18{\n",
       "            background-color:  #96b7ff;\n",
       "            color:  #000000;\n",
       "        }#T_ac1a9_row0_col22,#T_ac1a9_row1_col24,#T_ac1a9_row4_col27,#T_ac1a9_row7_col10,#T_ac1a9_row7_col26,#T_ac1a9_row9_col5,#T_ac1a9_row9_col6,#T_ac1a9_row10_col6,#T_ac1a9_row10_col23,#T_ac1a9_row11_col4,#T_ac1a9_row14_col10,#T_ac1a9_row16_col24,#T_ac1a9_row17_col24,#T_ac1a9_row19_col5,#T_ac1a9_row20_col10,#T_ac1a9_row23_col10,#T_ac1a9_row26_col5,#T_ac1a9_row26_col23,#T_ac1a9_row27_col26,#T_ac1a9_row28_col10,#T_ac1a9_row28_col21,#T_ac1a9_row28_col26{\n",
       "            background-color:  #5d7ce6;\n",
       "            color:  #000000;\n",
       "        }#T_ac1a9_row0_col23,#T_ac1a9_row24_col1,#T_ac1a9_row26_col6{\n",
       "            background-color:  #5e7de7;\n",
       "            color:  #000000;\n",
       "        }#T_ac1a9_row0_col24,#T_ac1a9_row8_col0,#T_ac1a9_row14_col12,#T_ac1a9_row15_col10,#T_ac1a9_row17_col10,#T_ac1a9_row19_col15,#T_ac1a9_row24_col0,#T_ac1a9_row25_col14{\n",
       "            background-color:  #80a3fa;\n",
       "            color:  #000000;\n",
       "        }#T_ac1a9_row0_col27,#T_ac1a9_row2_col13,#T_ac1a9_row2_col25,#T_ac1a9_row17_col8{\n",
       "            background-color:  #bed2f6;\n",
       "            color:  #000000;\n",
       "        }#T_ac1a9_row1_col0,#T_ac1a9_row12_col2,#T_ac1a9_row12_col21,#T_ac1a9_row15_col16,#T_ac1a9_row18_col14,#T_ac1a9_row20_col16,#T_ac1a9_row20_col17,#T_ac1a9_row20_col23{\n",
       "            background-color:  #3c4ec2;\n",
       "            color:  #f1f1f1;\n",
       "        }#T_ac1a9_row1_col2,#T_ac1a9_row1_col19,#T_ac1a9_row4_col3,#T_ac1a9_row4_col16,#T_ac1a9_row4_col17,#T_ac1a9_row5_col19,#T_ac1a9_row6_col1,#T_ac1a9_row8_col19,#T_ac1a9_row9_col2,#T_ac1a9_row15_col24,#T_ac1a9_row21_col28,#T_ac1a9_row24_col7,#T_ac1a9_row26_col2{\n",
       "            background-color:  #455cce;\n",
       "            color:  #f1f1f1;\n",
       "        }#T_ac1a9_row1_col3,#T_ac1a9_row1_col22,#T_ac1a9_row2_col19,#T_ac1a9_row3_col9,#T_ac1a9_row3_col15,#T_ac1a9_row6_col22,#T_ac1a9_row12_col16,#T_ac1a9_row12_col17,#T_ac1a9_row13_col4,#T_ac1a9_row16_col2,#T_ac1a9_row16_col28,#T_ac1a9_row17_col2,#T_ac1a9_row17_col28,#T_ac1a9_row19_col22,#T_ac1a9_row20_col7,#T_ac1a9_row23_col28,#T_ac1a9_row24_col15,#T_ac1a9_row25_col16,#T_ac1a9_row25_col17,#T_ac1a9_row25_col20,#T_ac1a9_row27_col6,#T_ac1a9_row28_col0{\n",
       "            background-color:  #4b64d5;\n",
       "            color:  #f1f1f1;\n",
       "        }#T_ac1a9_row1_col5,#T_ac1a9_row1_col16,#T_ac1a9_row1_col17,#T_ac1a9_row2_col10,#T_ac1a9_row2_col15,#T_ac1a9_row3_col4,#T_ac1a9_row4_col19,#T_ac1a9_row5_col0,#T_ac1a9_row5_col2,#T_ac1a9_row5_col10,#T_ac1a9_row5_col15,#T_ac1a9_row9_col25,#T_ac1a9_row10_col28,#T_ac1a9_row12_col5,#T_ac1a9_row13_col20,#T_ac1a9_row16_col22,#T_ac1a9_row17_col22,#T_ac1a9_row19_col7,#T_ac1a9_row23_col6,#T_ac1a9_row23_col15,#T_ac1a9_row26_col25,#T_ac1a9_row28_col25{\n",
       "            background-color:  #516ddb;\n",
       "            color:  #000000;\n",
       "        }#T_ac1a9_row1_col7,#T_ac1a9_row4_col9,#T_ac1a9_row6_col9,#T_ac1a9_row9_col23,#T_ac1a9_row10_col5,#T_ac1a9_row11_col9,#T_ac1a9_row14_col26,#T_ac1a9_row19_col1,#T_ac1a9_row19_col21,#T_ac1a9_row20_col26,#T_ac1a9_row22_col1,#T_ac1a9_row22_col10,#T_ac1a9_row23_col26,#T_ac1a9_row24_col10{\n",
       "            background-color:  #5b7ae5;\n",
       "            color:  #000000;\n",
       "        }#T_ac1a9_row1_col8,#T_ac1a9_row11_col24,#T_ac1a9_row13_col18,#T_ac1a9_row16_col12,#T_ac1a9_row17_col12,#T_ac1a9_row22_col18{\n",
       "            background-color:  #aac7fd;\n",
       "            color:  #000000;\n",
       "        }#T_ac1a9_row1_col9,#T_ac1a9_row1_col21,#T_ac1a9_row2_col4,#T_ac1a9_row2_col20,#T_ac1a9_row4_col21,#T_ac1a9_row14_col4,#T_ac1a9_row15_col1,#T_ac1a9_row16_col0,#T_ac1a9_row16_col15,#T_ac1a9_row16_col25,#T_ac1a9_row17_col25,#T_ac1a9_row18_col5,#T_ac1a9_row19_col24,#T_ac1a9_row19_col28,#T_ac1a9_row20_col11,#T_ac1a9_row22_col9,#T_ac1a9_row24_col4,#T_ac1a9_row25_col1,#T_ac1a9_row25_col15,#T_ac1a9_row28_col23{\n",
       "            background-color:  #5572df;\n",
       "            color:  #000000;\n",
       "        }#T_ac1a9_row1_col11,#T_ac1a9_row3_col10,#T_ac1a9_row6_col23,#T_ac1a9_row6_col24,#T_ac1a9_row8_col4,#T_ac1a9_row9_col28,#T_ac1a9_row10_col22,#T_ac1a9_row11_col6,#T_ac1a9_row13_col28,#T_ac1a9_row17_col0,#T_ac1a9_row17_col15,#T_ac1a9_row19_col3,#T_ac1a9_row20_col28,#T_ac1a9_row26_col28{\n",
       "            background-color:  #5470de;\n",
       "            color:  #000000;\n",
       "        }#T_ac1a9_row1_col12,#T_ac1a9_row5_col12,#T_ac1a9_row27_col22{\n",
       "            background-color:  #9dbdff;\n",
       "            color:  #000000;\n",
       "        }#T_ac1a9_row1_col13,#T_ac1a9_row8_col11,#T_ac1a9_row24_col2{\n",
       "            background-color:  #c0d4f5;\n",
       "            color:  #000000;\n",
       "        }#T_ac1a9_row1_col14,#T_ac1a9_row4_col10,#T_ac1a9_row6_col14,#T_ac1a9_row9_col1,#T_ac1a9_row9_col21,#T_ac1a9_row10_col24,#T_ac1a9_row12_col0,#T_ac1a9_row26_col1,#T_ac1a9_row26_col21{\n",
       "            background-color:  #6282ea;\n",
       "            color:  #000000;\n",
       "        }#T_ac1a9_row1_col15,#T_ac1a9_row7_col9,#T_ac1a9_row14_col9,#T_ac1a9_row16_col23,#T_ac1a9_row17_col23,#T_ac1a9_row19_col27,#T_ac1a9_row20_col9,#T_ac1a9_row22_col4,#T_ac1a9_row22_col26,#T_ac1a9_row24_col26,#T_ac1a9_row25_col4,#T_ac1a9_row28_col9,#T_ac1a9_row28_col24{\n",
       "            background-color:  #5977e3;\n",
       "            color:  #000000;\n",
       "        }#T_ac1a9_row1_col18,#T_ac1a9_row9_col8{\n",
       "            background-color:  #dbdcde;\n",
       "            color:  #000000;\n",
       "        }#T_ac1a9_row1_col20,#T_ac1a9_row8_col9,#T_ac1a9_row13_col27,#T_ac1a9_row24_col25,#T_ac1a9_row27_col12{\n",
       "            background-color:  #8db0fe;\n",
       "            color:  #000000;\n",
       "        }#T_ac1a9_row1_col23,#T_ac1a9_row2_col26,#T_ac1a9_row6_col0,#T_ac1a9_row9_col3,#T_ac1a9_row11_col19,#T_ac1a9_row11_col20,#T_ac1a9_row12_col7,#T_ac1a9_row14_col6,#T_ac1a9_row14_col28,#T_ac1a9_row15_col14,#T_ac1a9_row22_col16,#T_ac1a9_row22_col17,#T_ac1a9_row23_col16,#T_ac1a9_row26_col3,#T_ac1a9_row28_col22{\n",
       "            background-color:  #4c66d6;\n",
       "            color:  #000000;\n",
       "        }#T_ac1a9_row1_col25,#T_ac1a9_row2_col9,#T_ac1a9_row3_col19,#T_ac1a9_row8_col1,#T_ac1a9_row14_col7,#T_ac1a9_row14_col16,#T_ac1a9_row14_col17,#T_ac1a9_row21_col16,#T_ac1a9_row21_col17,#T_ac1a9_row22_col28,#T_ac1a9_row23_col20,#T_ac1a9_row24_col6,#T_ac1a9_row24_col16,#T_ac1a9_row24_col17,#T_ac1a9_row25_col28,#T_ac1a9_row27_col28,#T_ac1a9_row28_col17{\n",
       "            background-color:  #4a63d3;\n",
       "            color:  #f1f1f1;\n",
       "        }#T_ac1a9_row1_col26,#T_ac1a9_row3_col1,#T_ac1a9_row5_col4,#T_ac1a9_row5_col6,#T_ac1a9_row14_col1,#T_ac1a9_row15_col11,#T_ac1a9_row22_col15,#T_ac1a9_row23_col4,#T_ac1a9_row23_col9,#T_ac1a9_row27_col1{\n",
       "            background-color:  #5875e1;\n",
       "            color:  #000000;\n",
       "        }#T_ac1a9_row1_col27,#T_ac1a9_row4_col5,#T_ac1a9_row5_col3,#T_ac1a9_row6_col21,#T_ac1a9_row6_col27,#T_ac1a9_row7_col24,#T_ac1a9_row16_col4,#T_ac1a9_row17_col4,#T_ac1a9_row19_col14,#T_ac1a9_row27_col4,#T_ac1a9_row27_col9{\n",
       "            background-color:  #5a78e4;\n",
       "            color:  #000000;\n",
       "        }#T_ac1a9_row2_col0,#T_ac1a9_row17_col18,#T_ac1a9_row20_col8,#T_ac1a9_row24_col23,#T_ac1a9_row27_col23,#T_ac1a9_row28_col13{\n",
       "            background-color:  #afcafc;\n",
       "            color:  #000000;\n",
       "        }#T_ac1a9_row2_col3,#T_ac1a9_row22_col23{\n",
       "            background-color:  #f7ac8e;\n",
       "            color:  #000000;\n",
       "        }#T_ac1a9_row2_col6,#T_ac1a9_row3_col7,#T_ac1a9_row3_col16,#T_ac1a9_row3_col17,#T_ac1a9_row11_col1,#T_ac1a9_row14_col15,#T_ac1a9_row15_col25,#T_ac1a9_row16_col7,#T_ac1a9_row17_col7,#T_ac1a9_row17_col19,#T_ac1a9_row22_col7,#T_ac1a9_row22_col19,#T_ac1a9_row27_col7{\n",
       "            background-color:  #465ecf;\n",
       "            color:  #f1f1f1;\n",
       "        }#T_ac1a9_row2_col8,#T_ac1a9_row3_col24,#T_ac1a9_row11_col21{\n",
       "            background-color:  #c5d6f2;\n",
       "            color:  #000000;\n",
       "        }#T_ac1a9_row2_col11,#T_ac1a9_row2_col24,#T_ac1a9_row13_col8,#T_ac1a9_row27_col13{\n",
       "            background-color:  #c9d7f0;\n",
       "            color:  #000000;\n",
       "        }#T_ac1a9_row2_col12,#T_ac1a9_row4_col6,#T_ac1a9_row8_col12{\n",
       "            background-color:  #9bbcff;\n",
       "            color:  #000000;\n",
       "        }#T_ac1a9_row2_col14,#T_ac1a9_row7_col15,#T_ac1a9_row12_col26,#T_ac1a9_row22_col3,#T_ac1a9_row28_col11{\n",
       "            background-color:  #88abfd;\n",
       "            color:  #000000;\n",
       "        }#T_ac1a9_row2_col16,#T_ac1a9_row2_col17,#T_ac1a9_row6_col3,#T_ac1a9_row8_col7,#T_ac1a9_row12_col25,#T_ac1a9_row14_col20,#T_ac1a9_row16_col19,#T_ac1a9_row19_col17,#T_ac1a9_row20_col24,#T_ac1a9_row25_col7,#T_ac1a9_row27_col16,#T_ac1a9_row27_col17{\n",
       "            background-color:  #485fd1;\n",
       "            color:  #f1f1f1;\n",
       "        }#T_ac1a9_row2_col21,#T_ac1a9_row14_col24{\n",
       "            background-color:  #f7b89c;\n",
       "            color:  #000000;\n",
       "        }#T_ac1a9_row2_col23,#T_ac1a9_row7_col20,#T_ac1a9_row8_col25,#T_ac1a9_row11_col7,#T_ac1a9_row11_col28,#T_ac1a9_row15_col0,#T_ac1a9_row15_col19,#T_ac1a9_row17_col1,#T_ac1a9_row26_col19{\n",
       "            background-color:  #6788ee;\n",
       "            color:  #000000;\n",
       "        }#T_ac1a9_row2_col27,#T_ac1a9_row7_col4,#T_ac1a9_row7_col11,#T_ac1a9_row10_col15{\n",
       "            background-color:  #8badfd;\n",
       "            color:  #000000;\n",
       "        }#T_ac1a9_row3_col0,#T_ac1a9_row8_col21,#T_ac1a9_row8_col27,#T_ac1a9_row15_col8,#T_ac1a9_row22_col12{\n",
       "            background-color:  #9ebeff;\n",
       "            color:  #000000;\n",
       "        }#T_ac1a9_row3_col2,#T_ac1a9_row25_col21{\n",
       "            background-color:  #f7ad90;\n",
       "            color:  #000000;\n",
       "        }#T_ac1a9_row3_col5,#T_ac1a9_row4_col20,#T_ac1a9_row9_col4,#T_ac1a9_row12_col6{\n",
       "            background-color:  #688aef;\n",
       "            color:  #000000;\n",
       "        }#T_ac1a9_row3_col6,#T_ac1a9_row3_col28,#T_ac1a9_row4_col22,#T_ac1a9_row7_col16,#T_ac1a9_row7_col17,#T_ac1a9_row8_col28,#T_ac1a9_row10_col2,#T_ac1a9_row19_col16,#T_ac1a9_row21_col6,#T_ac1a9_row23_col7,#T_ac1a9_row24_col28,#T_ac1a9_row25_col19,#T_ac1a9_row28_col16{\n",
       "            background-color:  #4961d2;\n",
       "            color:  #f1f1f1;\n",
       "        }#T_ac1a9_row3_col8,#T_ac1a9_row9_col12{\n",
       "            background-color:  #cbd8ee;\n",
       "            color:  #000000;\n",
       "        }#T_ac1a9_row3_col11,#T_ac1a9_row7_col18,#T_ac1a9_row14_col13{\n",
       "            background-color:  #d2dbe8;\n",
       "            color:  #000000;\n",
       "        }#T_ac1a9_row3_col12,#T_ac1a9_row4_col13,#T_ac1a9_row9_col13,#T_ac1a9_row13_col21,#T_ac1a9_row18_col13,#T_ac1a9_row21_col18{\n",
       "            background-color:  #98b9ff;\n",
       "            color:  #000000;\n",
       "        }#T_ac1a9_row3_col13,#T_ac1a9_row19_col18{\n",
       "            background-color:  #c1d4f4;\n",
       "            color:  #000000;\n",
       "        }#T_ac1a9_row3_col14,#T_ac1a9_row22_col11{\n",
       "            background-color:  #92b4fe;\n",
       "            color:  #000000;\n",
       "        }#T_ac1a9_row3_col18,#T_ac1a9_row9_col18{\n",
       "            background-color:  #a7c5fe;\n",
       "            color:  #000000;\n",
       "        }#T_ac1a9_row3_col20,#T_ac1a9_row4_col25,#T_ac1a9_row5_col7,#T_ac1a9_row5_col9,#T_ac1a9_row7_col22,#T_ac1a9_row10_col7,#T_ac1a9_row11_col15,#T_ac1a9_row11_col16,#T_ac1a9_row11_col17,#T_ac1a9_row13_col7,#T_ac1a9_row20_col14,#T_ac1a9_row23_col17{\n",
       "            background-color:  #4e68d8;\n",
       "            color:  #000000;\n",
       "        }#T_ac1a9_row3_col21,#T_ac1a9_row27_col21{\n",
       "            background-color:  #e8d6cc;\n",
       "            color:  #000000;\n",
       "        }#T_ac1a9_row3_col22,#T_ac1a9_row12_col10{\n",
       "            background-color:  #85a8fc;\n",
       "            color:  #000000;\n",
       "        }#T_ac1a9_row3_col23,#T_ac1a9_row11_col5,#T_ac1a9_row15_col7,#T_ac1a9_row19_col9,#T_ac1a9_row19_col20,#T_ac1a9_row24_col5,#T_ac1a9_row26_col0{\n",
       "            background-color:  #6e90f2;\n",
       "            color:  #000000;\n",
       "        }#T_ac1a9_row3_col25,#T_ac1a9_row25_col3{\n",
       "            background-color:  #a3c2fe;\n",
       "            color:  #000000;\n",
       "        }#T_ac1a9_row3_col26,#T_ac1a9_row4_col23,#T_ac1a9_row5_col16,#T_ac1a9_row5_col17,#T_ac1a9_row5_col28,#T_ac1a9_row7_col0,#T_ac1a9_row8_col16,#T_ac1a9_row9_col7,#T_ac1a9_row12_col1,#T_ac1a9_row12_col28,#T_ac1a9_row13_col17,#T_ac1a9_row15_col27,#T_ac1a9_row16_col3,#T_ac1a9_row17_col3,#T_ac1a9_row19_col2,#T_ac1a9_row21_col9,#T_ac1a9_row24_col20,#T_ac1a9_row25_col9,#T_ac1a9_row26_col7,#T_ac1a9_row28_col3{\n",
       "            background-color:  #4f69d9;\n",
       "            color:  #000000;\n",
       "        }#T_ac1a9_row3_col27,#T_ac1a9_row4_col15,#T_ac1a9_row18_col4,#T_ac1a9_row28_col1{\n",
       "            background-color:  #93b5fe;\n",
       "            color:  #000000;\n",
       "        }#T_ac1a9_row4_col0,#T_ac1a9_row6_col5,#T_ac1a9_row10_col19,#T_ac1a9_row13_col22,#T_ac1a9_row16_col21,#T_ac1a9_row17_col21,#T_ac1a9_row28_col5{\n",
       "            background-color:  #6485ec;\n",
       "            color:  #000000;\n",
       "        }#T_ac1a9_row4_col2,#T_ac1a9_row15_col23,#T_ac1a9_row16_col6,#T_ac1a9_row18_col25,#T_ac1a9_row23_col19{\n",
       "            background-color:  #445acc;\n",
       "            color:  #f1f1f1;\n",
       "        }#T_ac1a9_row4_col7,#T_ac1a9_row8_col5,#T_ac1a9_row9_col11,#T_ac1a9_row10_col16,#T_ac1a9_row26_col17{\n",
       "            background-color:  #7699f6;\n",
       "            color:  #000000;\n",
       "        }#T_ac1a9_row4_col8,#T_ac1a9_row5_col18,#T_ac1a9_row8_col14,#T_ac1a9_row16_col18{\n",
       "            background-color:  #b1cbfc;\n",
       "            color:  #000000;\n",
       "        }#T_ac1a9_row4_col12,#T_ac1a9_row6_col12,#T_ac1a9_row7_col8,#T_ac1a9_row11_col0,#T_ac1a9_row25_col2,#T_ac1a9_row27_col0{\n",
       "            background-color:  #bad0f8;\n",
       "            color:  #000000;\n",
       "        }#T_ac1a9_row4_col18{\n",
       "            background-color:  #d9dce1;\n",
       "            color:  #000000;\n",
       "        }#T_ac1a9_row4_col24,#T_ac1a9_row7_col19,#T_ac1a9_row7_col25,#T_ac1a9_row9_col22,#T_ac1a9_row10_col25,#T_ac1a9_row19_col25,#T_ac1a9_row20_col6,#T_ac1a9_row20_col19,#T_ac1a9_row21_col26,#T_ac1a9_row22_col20,#T_ac1a9_row25_col26,#T_ac1a9_row26_col22,#T_ac1a9_row27_col20,#T_ac1a9_row28_col19{\n",
       "            background-color:  #536edd;\n",
       "            color:  #000000;\n",
       "        }#T_ac1a9_row4_col26,#T_ac1a9_row6_col10,#T_ac1a9_row6_col26,#T_ac1a9_row7_col21,#T_ac1a9_row8_col2,#T_ac1a9_row10_col1,#T_ac1a9_row11_col26,#T_ac1a9_row13_col0,#T_ac1a9_row16_col27,#T_ac1a9_row17_col27,#T_ac1a9_row23_col2,#T_ac1a9_row27_col10,#T_ac1a9_row28_col27{\n",
       "            background-color:  #5f7fe8;\n",
       "            color:  #000000;\n",
       "        }#T_ac1a9_row4_col28,#T_ac1a9_row9_col17,#T_ac1a9_row13_col3,#T_ac1a9_row13_col5,#T_ac1a9_row13_col23{\n",
       "            background-color:  #7396f5;\n",
       "            color:  #000000;\n",
       "        }#T_ac1a9_row5_col8,#T_ac1a9_row20_col18,#T_ac1a9_row25_col8{\n",
       "            background-color:  #c6d6f1;\n",
       "            color:  #000000;\n",
       "        }#T_ac1a9_row5_col11,#T_ac1a9_row6_col28,#T_ac1a9_row17_col9,#T_ac1a9_row18_col28,#T_ac1a9_row25_col27{\n",
       "            background-color:  #7a9df8;\n",
       "            color:  #000000;\n",
       "        }#T_ac1a9_row5_col13,#T_ac1a9_row14_col11,#T_ac1a9_row25_col13,#T_ac1a9_row28_col8{\n",
       "            background-color:  #b7cff9;\n",
       "            color:  #000000;\n",
       "        }#T_ac1a9_row5_col14,#T_ac1a9_row11_col25,#T_ac1a9_row18_col20,#T_ac1a9_row26_col11,#T_ac1a9_row26_col16,#T_ac1a9_row27_col2{\n",
       "            background-color:  #779af7;\n",
       "            color:  #000000;\n",
       "        }#T_ac1a9_row5_col20,#T_ac1a9_row12_col24,#T_ac1a9_row13_col9,#T_ac1a9_row15_col2,#T_ac1a9_row18_col16,#T_ac1a9_row18_col17,#T_ac1a9_row20_col3,#T_ac1a9_row20_col22{\n",
       "            background-color:  #3d50c3;\n",
       "            color:  #f1f1f1;\n",
       "        }#T_ac1a9_row5_col21{\n",
       "            background-color:  #f1cdba;\n",
       "            color:  #000000;\n",
       "        }#T_ac1a9_row5_col23,#T_ac1a9_row10_col12,#T_ac1a9_row11_col13,#T_ac1a9_row12_col18,#T_ac1a9_row21_col11{\n",
       "            background-color:  #cad8ef;\n",
       "            color:  #000000;\n",
       "        }#T_ac1a9_row5_col24,#T_ac1a9_row9_col20,#T_ac1a9_row9_col27,#T_ac1a9_row10_col4,#T_ac1a9_row10_col20,#T_ac1a9_row16_col14,#T_ac1a9_row17_col14,#T_ac1a9_row26_col4,#T_ac1a9_row26_col20,#T_ac1a9_row26_col27,#T_ac1a9_row28_col14{\n",
       "            background-color:  #6a8bef;\n",
       "            color:  #000000;\n",
       "        }#T_ac1a9_row5_col25{\n",
       "            background-color:  #edd2c3;\n",
       "            color:  #000000;\n",
       "        }#T_ac1a9_row6_col7{\n",
       "            background-color:  #799cf8;\n",
       "            color:  #000000;\n",
       "        }#T_ac1a9_row6_col8,#T_ac1a9_row8_col13,#T_ac1a9_row20_col12{\n",
       "            background-color:  #bbd1f8;\n",
       "            color:  #000000;\n",
       "        }#T_ac1a9_row6_col13,#T_ac1a9_row12_col15,#T_ac1a9_row13_col11,#T_ac1a9_row20_col13,#T_ac1a9_row27_col18{\n",
       "            background-color:  #9abbff;\n",
       "            color:  #000000;\n",
       "        }#T_ac1a9_row6_col15{\n",
       "            background-color:  #b2ccfb;\n",
       "            color:  #000000;\n",
       "        }#T_ac1a9_row6_col18{\n",
       "            background-color:  #e7745b;\n",
       "            color:  #000000;\n",
       "        }#T_ac1a9_row6_col20,#T_ac1a9_row10_col21,#T_ac1a9_row19_col0,#T_ac1a9_row20_col4{\n",
       "            background-color:  #6384eb;\n",
       "            color:  #000000;\n",
       "        }#T_ac1a9_row7_col1,#T_ac1a9_row10_col0,#T_ac1a9_row19_col26{\n",
       "            background-color:  #7295f4;\n",
       "            color:  #000000;\n",
       "        }#T_ac1a9_row7_col2,#T_ac1a9_row12_col22,#T_ac1a9_row12_col23,#T_ac1a9_row12_col27,#T_ac1a9_row13_col6,#T_ac1a9_row21_col19,#T_ac1a9_row27_col19{\n",
       "            background-color:  #4055c8;\n",
       "            color:  #f1f1f1;\n",
       "        }#T_ac1a9_row7_col6,#T_ac1a9_row15_col20,#T_ac1a9_row27_col3{\n",
       "            background-color:  #84a7fc;\n",
       "            color:  #000000;\n",
       "        }#T_ac1a9_row7_col12,#T_ac1a9_row11_col27,#T_ac1a9_row12_col8,#T_ac1a9_row17_col13,#T_ac1a9_row22_col27{\n",
       "            background-color:  #adc9fd;\n",
       "            color:  #000000;\n",
       "        }#T_ac1a9_row7_col28,#T_ac1a9_row28_col7{\n",
       "            background-color:  #b70d28;\n",
       "            color:  #f1f1f1;\n",
       "        }#T_ac1a9_row8_col3,#T_ac1a9_row19_col11,#T_ac1a9_row25_col0{\n",
       "            background-color:  #6f92f3;\n",
       "            color:  #000000;\n",
       "        }#T_ac1a9_row8_col10,#T_ac1a9_row10_col13,#T_ac1a9_row18_col1,#T_ac1a9_row23_col12,#T_ac1a9_row26_col13{\n",
       "            background-color:  #97b8ff;\n",
       "            color:  #000000;\n",
       "        }#T_ac1a9_row8_col24,#T_ac1a9_row21_col0,#T_ac1a9_row24_col12,#T_ac1a9_row25_col11,#T_ac1a9_row26_col15{\n",
       "            background-color:  #8fb1fe;\n",
       "            color:  #000000;\n",
       "        }#T_ac1a9_row9_col10{\n",
       "            background-color:  #f29072;\n",
       "            color:  #000000;\n",
       "        }#T_ac1a9_row9_col14,#T_ac1a9_row10_col14,#T_ac1a9_row14_col5,#T_ac1a9_row15_col28,#T_ac1a9_row16_col11,#T_ac1a9_row17_col11,#T_ac1a9_row18_col7,#T_ac1a9_row19_col10,#T_ac1a9_row26_col14{\n",
       "            background-color:  #7093f3;\n",
       "            color:  #000000;\n",
       "        }#T_ac1a9_row9_col15{\n",
       "            background-color:  #8caffe;\n",
       "            color:  #000000;\n",
       "        }#T_ac1a9_row9_col16,#T_ac1a9_row10_col17,#T_ac1a9_row11_col22,#T_ac1a9_row12_col4,#T_ac1a9_row14_col0{\n",
       "            background-color:  #7597f6;\n",
       "            color:  #000000;\n",
       "        }#T_ac1a9_row9_col26,#T_ac1a9_row26_col9{\n",
       "            background-color:  #be242e;\n",
       "            color:  #f1f1f1;\n",
       "        }#T_ac1a9_row10_col8,#T_ac1a9_row22_col24,#T_ac1a9_row26_col8{\n",
       "            background-color:  #dedcdb;\n",
       "            color:  #000000;\n",
       "        }#T_ac1a9_row10_col9{\n",
       "            background-color:  #f29274;\n",
       "            color:  #000000;\n",
       "        }#T_ac1a9_row10_col11,#T_ac1a9_row14_col3{\n",
       "            background-color:  #7da0f9;\n",
       "            color:  #000000;\n",
       "        }#T_ac1a9_row10_col26,#T_ac1a9_row26_col10{\n",
       "            background-color:  #d85646;\n",
       "            color:  #000000;\n",
       "        }#T_ac1a9_row11_col2{\n",
       "            background-color:  #b3cdfb;\n",
       "            color:  #000000;\n",
       "        }#T_ac1a9_row11_col3{\n",
       "            background-color:  #c3d5f4;\n",
       "            color:  #000000;\n",
       "        }#T_ac1a9_row11_col8{\n",
       "            background-color:  #ead4c8;\n",
       "            color:  #000000;\n",
       "        }#T_ac1a9_row11_col12,#T_ac1a9_row11_col18,#T_ac1a9_row15_col4{\n",
       "            background-color:  #90b2fe;\n",
       "            color:  #000000;\n",
       "        }#T_ac1a9_row11_col14,#T_ac1a9_row23_col24,#T_ac1a9_row23_col25,#T_ac1a9_row27_col11{\n",
       "            background-color:  #b5cdfa;\n",
       "            color:  #000000;\n",
       "        }#T_ac1a9_row11_col23,#T_ac1a9_row13_col1{\n",
       "            background-color:  #7ea1fa;\n",
       "            color:  #000000;\n",
       "        }#T_ac1a9_row12_col9,#T_ac1a9_row16_col10,#T_ac1a9_row16_col26,#T_ac1a9_row20_col15{\n",
       "            background-color:  #82a6fb;\n",
       "            color:  #000000;\n",
       "        }#T_ac1a9_row12_col19{\n",
       "            background-color:  #f5c1a9;\n",
       "            color:  #000000;\n",
       "        }#T_ac1a9_row12_col20,#T_ac1a9_row15_col9,#T_ac1a9_row16_col9{\n",
       "            background-color:  #7b9ff9;\n",
       "            color:  #000000;\n",
       "        }#T_ac1a9_row13_col10,#T_ac1a9_row20_col2,#T_ac1a9_row28_col2{\n",
       "            background-color:  #3f53c6;\n",
       "            color:  #f1f1f1;\n",
       "        }#T_ac1a9_row13_col14{\n",
       "            background-color:  #a2c1ff;\n",
       "            color:  #000000;\n",
       "        }#T_ac1a9_row13_col24,#T_ac1a9_row15_col13,#T_ac1a9_row21_col12,#T_ac1a9_row28_col4,#T_ac1a9_row28_col15{\n",
       "            background-color:  #86a9fc;\n",
       "            color:  #000000;\n",
       "        }#T_ac1a9_row14_col8{\n",
       "            background-color:  #e4d9d2;\n",
       "            color:  #000000;\n",
       "        }#T_ac1a9_row14_col21,#T_ac1a9_row21_col2{\n",
       "            background-color:  #f5c0a7;\n",
       "            color:  #000000;\n",
       "        }#T_ac1a9_row14_col22{\n",
       "            background-color:  #a9c6fd;\n",
       "            color:  #000000;\n",
       "        }#T_ac1a9_row14_col23,#T_ac1a9_row23_col8{\n",
       "            background-color:  #d4dbe6;\n",
       "            color:  #000000;\n",
       "        }#T_ac1a9_row14_col27{\n",
       "            background-color:  #f4987a;\n",
       "            color:  #000000;\n",
       "        }#T_ac1a9_row15_col6{\n",
       "            background-color:  #a6c4fe;\n",
       "            color:  #000000;\n",
       "        }#T_ac1a9_row15_col12{\n",
       "            background-color:  #cfdaea;\n",
       "            color:  #000000;\n",
       "        }#T_ac1a9_row15_col18{\n",
       "            background-color:  #e9d5cb;\n",
       "            color:  #000000;\n",
       "        }#T_ac1a9_row16_col8,#T_ac1a9_row18_col12,#T_ac1a9_row22_col14{\n",
       "            background-color:  #bcd2f7;\n",
       "            color:  #000000;\n",
       "        }#T_ac1a9_row16_col17,#T_ac1a9_row17_col16{\n",
       "            background-color:  #c0282f;\n",
       "            color:  #f1f1f1;\n",
       "        }#T_ac1a9_row18_col6{\n",
       "            background-color:  #f39778;\n",
       "            color:  #000000;\n",
       "        }#T_ac1a9_row18_col15,#T_ac1a9_row19_col8,#T_ac1a9_row24_col11,#T_ac1a9_row25_col23{\n",
       "            background-color:  #b6cefa;\n",
       "            color:  #000000;\n",
       "        }#T_ac1a9_row19_col12{\n",
       "            background-color:  #f59c7d;\n",
       "            color:  #000000;\n",
       "        }#T_ac1a9_row19_col13,#T_ac1a9_row25_col22{\n",
       "            background-color:  #dfdbd9;\n",
       "            color:  #000000;\n",
       "        }#T_ac1a9_row20_col1{\n",
       "            background-color:  #89acfd;\n",
       "            color:  #000000;\n",
       "        }#T_ac1a9_row21_col3,#T_ac1a9_row22_col25{\n",
       "            background-color:  #e1dad6;\n",
       "            color:  #000000;\n",
       "        }#T_ac1a9_row21_col5,#T_ac1a9_row25_col5{\n",
       "            background-color:  #f0cdbb;\n",
       "            color:  #000000;\n",
       "        }#T_ac1a9_row21_col8{\n",
       "            background-color:  #dcdddd;\n",
       "            color:  #000000;\n",
       "        }#T_ac1a9_row21_col14,#T_ac1a9_row23_col21{\n",
       "            background-color:  #f6bfa6;\n",
       "            color:  #000000;\n",
       "        }#T_ac1a9_row21_col22,#T_ac1a9_row24_col27{\n",
       "            background-color:  #f5c4ac;\n",
       "            color:  #000000;\n",
       "        }#T_ac1a9_row21_col23{\n",
       "            background-color:  #f4c5ad;\n",
       "            color:  #000000;\n",
       "        }#T_ac1a9_row21_col24{\n",
       "            background-color:  #f7aa8c;\n",
       "            color:  #000000;\n",
       "        }#T_ac1a9_row21_col25{\n",
       "            background-color:  #f7b497;\n",
       "            color:  #000000;\n",
       "        }#T_ac1a9_row21_col27{\n",
       "            background-color:  #e7d7ce;\n",
       "            color:  #000000;\n",
       "        }#T_ac1a9_row22_col8,#T_ac1a9_row26_col12{\n",
       "            background-color:  #ccd9ed;\n",
       "            color:  #000000;\n",
       "        }#T_ac1a9_row22_col13,#T_ac1a9_row23_col27{\n",
       "            background-color:  #b9d0f9;\n",
       "            color:  #000000;\n",
       "        }#T_ac1a9_row22_col21{\n",
       "            background-color:  #f7bca1;\n",
       "            color:  #000000;\n",
       "        }#T_ac1a9_row23_col5{\n",
       "            background-color:  #d1dae9;\n",
       "            color:  #000000;\n",
       "        }#T_ac1a9_row23_col13,#T_ac1a9_row24_col3{\n",
       "            background-color:  #bfd3f6;\n",
       "            color:  #000000;\n",
       "        }#T_ac1a9_row23_col14,#T_ac1a9_row27_col8{\n",
       "            background-color:  #dddcdc;\n",
       "            color:  #000000;\n",
       "        }#T_ac1a9_row23_col22{\n",
       "            background-color:  #f7af91;\n",
       "            color:  #000000;\n",
       "        }#T_ac1a9_row24_col8{\n",
       "            background-color:  #d7dce3;\n",
       "            color:  #000000;\n",
       "        }#T_ac1a9_row24_col13{\n",
       "            background-color:  #c7d7f0;\n",
       "            color:  #000000;\n",
       "        }#T_ac1a9_row24_col14{\n",
       "            background-color:  #f7b396;\n",
       "            color:  #000000;\n",
       "        }#T_ac1a9_row24_col21{\n",
       "            background-color:  #f7a889;\n",
       "            color:  #000000;\n",
       "        }#T_ac1a9_row24_col22{\n",
       "            background-color:  #d8dce2;\n",
       "            color:  #000000;\n",
       "        }#T_ac1a9_row27_col14{\n",
       "            background-color:  #f39577;\n",
       "            color:  #000000;\n",
       "        }#T_ac1a9_row27_col24{\n",
       "            background-color:  #f4c6af;\n",
       "            color:  #000000;\n",
       "        }#T_ac1a9_row28_col18{\n",
       "            background-color:  #d5dbe5;\n",
       "            color:  #000000;\n",
       "        }</style><table id=\"T_ac1a9_\" ><thead>    <tr>        <th class=\"blank level0\" ></th>        <th class=\"col_heading level0 col0\" >sex</th>        <th class=\"col_heading level0 col1\" >age</th>        <th class=\"col_heading level0 col2\" >car</th>        <th class=\"col_heading level0 col3\" >car_type</th>        <th class=\"col_heading level0 col4\" >decline_app_cnt</th>        <th class=\"col_heading level0 col5\" >good_work</th>        <th class=\"col_heading level0 col6\" >score_bki</th>        <th class=\"col_heading level0 col7\" >bki_request_cnt</th>        <th class=\"col_heading level0 col8\" >region_rating</th>        <th class=\"col_heading level0 col9\" >home_address</th>        <th class=\"col_heading level0 col10\" >work_address</th>        <th class=\"col_heading level0 col11\" >income</th>        <th class=\"col_heading level0 col12\" >sna</th>        <th class=\"col_heading level0 col13\" >first_time</th>        <th class=\"col_heading level0 col14\" >foreign_passport</th>        <th class=\"col_heading level0 col15\" >default</th>        <th class=\"col_heading level0 col16\" >month</th>        <th class=\"col_heading level0 col17\" >days</th>        <th class=\"col_heading level0 col18\" >bki_age_reg</th>        <th class=\"col_heading level0 col19\" >mult_sna_ftime</th>        <th class=\"col_heading level0 col20\" >edu_and_income</th>        <th class=\"col_heading level0 col21\" >success_client</th>        <th class=\"col_heading level0 col22\" >very_success_client</th>        <th class=\"col_heading level0 col23\" >fpassp_and_gwork</th>        <th class=\"col_heading level0 col24\" >fpassp_and_car</th>        <th class=\"col_heading level0 col25\" >gwork_and_car</th>        <th class=\"col_heading level0 col26\" >home_and_work</th>        <th class=\"col_heading level0 col27\" >sex_and_fpassp</th>        <th class=\"col_heading level0 col28\" >age_and_bkirc</th>    </tr></thead><tbody>\n",
       "                <tr>\n",
       "                        <th id=\"T_ac1a9_level0_row0\" class=\"row_heading level0 row0\" >sex</th>\n",
       "                        <td id=\"T_ac1a9_row0_col0\" class=\"data row0 col0\" >1.000</td>\n",
       "                        <td id=\"T_ac1a9_row0_col1\" class=\"data row0 col1\" >-0.123</td>\n",
       "                        <td id=\"T_ac1a9_row0_col2\" class=\"data row0 col2\" >0.265</td>\n",
       "                        <td id=\"T_ac1a9_row0_col3\" class=\"data row0 col3\" >0.205</td>\n",
       "                        <td id=\"T_ac1a9_row0_col4\" class=\"data row0 col4\" >0.019</td>\n",
       "                        <td id=\"T_ac1a9_row0_col5\" class=\"data row0 col5\" >-0.044</td>\n",
       "                        <td id=\"T_ac1a9_row0_col6\" class=\"data row0 col6\" >-0.062</td>\n",
       "                        <td id=\"T_ac1a9_row0_col7\" class=\"data row0 col7\" >-0.054</td>\n",
       "                        <td id=\"T_ac1a9_row0_col8\" class=\"data row0 col8\" >0.107</td>\n",
       "                        <td id=\"T_ac1a9_row0_col9\" class=\"data row0 col9\" >0.042</td>\n",
       "                        <td id=\"T_ac1a9_row0_col10\" class=\"data row0 col10\" >0.066</td>\n",
       "                        <td id=\"T_ac1a9_row0_col11\" class=\"data row0 col11\" >0.297</td>\n",
       "                        <td id=\"T_ac1a9_row0_col12\" class=\"data row0 col12\" >0.014</td>\n",
       "                        <td id=\"T_ac1a9_row0_col13\" class=\"data row0 col13\" >0.002</td>\n",
       "                        <td id=\"T_ac1a9_row0_col14\" class=\"data row0 col14\" >0.073</td>\n",
       "                        <td id=\"T_ac1a9_row0_col15\" class=\"data row0 col15\" >0.029</td>\n",
       "                        <td id=\"T_ac1a9_row0_col16\" class=\"data row0 col16\" >-0.032</td>\n",
       "                        <td id=\"T_ac1a9_row0_col17\" class=\"data row0 col17\" >-0.035</td>\n",
       "                        <td id=\"T_ac1a9_row0_col18\" class=\"data row0 col18\" >-0.132</td>\n",
       "                        <td id=\"T_ac1a9_row0_col19\" class=\"data row0 col19\" >0.018</td>\n",
       "                        <td id=\"T_ac1a9_row0_col20\" class=\"data row0 col20\" >0.024</td>\n",
       "                        <td id=\"T_ac1a9_row0_col21\" class=\"data row0 col21\" >0.160</td>\n",
       "                        <td id=\"T_ac1a9_row0_col22\" class=\"data row0 col22\" >0.042</td>\n",
       "                        <td id=\"T_ac1a9_row0_col23\" class=\"data row0 col23\" >0.023</td>\n",
       "                        <td id=\"T_ac1a9_row0_col24\" class=\"data row0 col24\" >0.108</td>\n",
       "                        <td id=\"T_ac1a9_row0_col25\" class=\"data row0 col25\" >0.057</td>\n",
       "                        <td id=\"T_ac1a9_row0_col26\" class=\"data row0 col26\" >0.051</td>\n",
       "                        <td id=\"T_ac1a9_row0_col27\" class=\"data row0 col27\" >0.298</td>\n",
       "                        <td id=\"T_ac1a9_row0_col28\" class=\"data row0 col28\" >-0.068</td>\n",
       "            </tr>\n",
       "            <tr>\n",
       "                        <th id=\"T_ac1a9_level0_row1\" class=\"row_heading level0 row1\" >age</th>\n",
       "                        <td id=\"T_ac1a9_row1_col0\" class=\"data row1 col0\" >-0.123</td>\n",
       "                        <td id=\"T_ac1a9_row1_col1\" class=\"data row1 col1\" >1.000</td>\n",
       "                        <td id=\"T_ac1a9_row1_col2\" class=\"data row1 col2\" >-0.036</td>\n",
       "                        <td id=\"T_ac1a9_row1_col3\" class=\"data row1 col3\" >-0.031</td>\n",
       "                        <td id=\"T_ac1a9_row1_col4\" class=\"data row1 col4\" >-0.141</td>\n",
       "                        <td id=\"T_ac1a9_row1_col5\" class=\"data row1 col5\" >-0.060</td>\n",
       "                        <td id=\"T_ac1a9_row1_col6\" class=\"data row1 col6\" >-0.096</td>\n",
       "                        <td id=\"T_ac1a9_row1_col7\" class=\"data row1 col7\" >0.059</td>\n",
       "                        <td id=\"T_ac1a9_row1_col8\" class=\"data row1 col8\" >-0.080</td>\n",
       "                        <td id=\"T_ac1a9_row1_col9\" class=\"data row1 col9\" >0.006</td>\n",
       "                        <td id=\"T_ac1a9_row1_col10\" class=\"data row1 col10\" >-0.007</td>\n",
       "                        <td id=\"T_ac1a9_row1_col11\" class=\"data row1 col11\" >-0.094</td>\n",
       "                        <td id=\"T_ac1a9_row1_col12\" class=\"data row1 col12\" >-0.063</td>\n",
       "                        <td id=\"T_ac1a9_row1_col13\" class=\"data row1 col13\" >0.097</td>\n",
       "                        <td id=\"T_ac1a9_row1_col14\" class=\"data row1 col14\" >-0.031</td>\n",
       "                        <td id=\"T_ac1a9_row1_col15\" class=\"data row1 col15\" >-0.039</td>\n",
       "                        <td id=\"T_ac1a9_row1_col16\" class=\"data row1 col16\" >0.018</td>\n",
       "                        <td id=\"T_ac1a9_row1_col17\" class=\"data row1 col17\" >0.020</td>\n",
       "                        <td id=\"T_ac1a9_row1_col18\" class=\"data row1 col18\" >0.180</td>\n",
       "                        <td id=\"T_ac1a9_row1_col19\" class=\"data row1 col19\" >-0.019</td>\n",
       "                        <td id=\"T_ac1a9_row1_col20\" class=\"data row1 col20\" >0.132</td>\n",
       "                        <td id=\"T_ac1a9_row1_col21\" class=\"data row1 col21\" >-0.060</td>\n",
       "                        <td id=\"T_ac1a9_row1_col22\" class=\"data row1 col22\" >-0.019</td>\n",
       "                        <td id=\"T_ac1a9_row1_col23\" class=\"data row1 col23\" >-0.038</td>\n",
       "                        <td id=\"T_ac1a9_row1_col24\" class=\"data row1 col24\" >-0.007</td>\n",
       "                        <td id=\"T_ac1a9_row1_col25\" class=\"data row1 col25\" >-0.040</td>\n",
       "                        <td id=\"T_ac1a9_row1_col26\" class=\"data row1 col26\" >0.003</td>\n",
       "                        <td id=\"T_ac1a9_row1_col27\" class=\"data row1 col27\" >-0.034</td>\n",
       "                        <td id=\"T_ac1a9_row1_col28\" class=\"data row1 col28\" >0.163</td>\n",
       "            </tr>\n",
       "            <tr>\n",
       "                        <th id=\"T_ac1a9_level0_row2\" class=\"row_heading level0 row2\" >car</th>\n",
       "                        <td id=\"T_ac1a9_row2_col0\" class=\"data row2 col0\" >0.265</td>\n",
       "                        <td id=\"T_ac1a9_row2_col1\" class=\"data row2 col1\" >-0.036</td>\n",
       "                        <td id=\"T_ac1a9_row2_col2\" class=\"data row2 col2\" >1.000</td>\n",
       "                        <td id=\"T_ac1a9_row2_col3\" class=\"data row2 col3\" >0.674</td>\n",
       "                        <td id=\"T_ac1a9_row2_col4\" class=\"data row2 col4\" >-0.040</td>\n",
       "                        <td id=\"T_ac1a9_row2_col5\" class=\"data row2 col5\" >0.008</td>\n",
       "                        <td id=\"T_ac1a9_row2_col6\" class=\"data row2 col6\" >-0.051</td>\n",
       "                        <td id=\"T_ac1a9_row2_col7\" class=\"data row2 col7\" >-0.052</td>\n",
       "                        <td id=\"T_ac1a9_row2_col8\" class=\"data row2 col8\" >0.052</td>\n",
       "                        <td id=\"T_ac1a9_row2_col9\" class=\"data row2 col9\" >-0.035</td>\n",
       "                        <td id=\"T_ac1a9_row2_col10\" class=\"data row2 col10\" >-0.022</td>\n",
       "                        <td id=\"T_ac1a9_row2_col11\" class=\"data row2 col11\" >0.313</td>\n",
       "                        <td id=\"T_ac1a9_row2_col12\" class=\"data row2 col12\" >-0.068</td>\n",
       "                        <td id=\"T_ac1a9_row2_col13\" class=\"data row2 col13\" >0.088</td>\n",
       "                        <td id=\"T_ac1a9_row2_col14\" class=\"data row2 col14\" >0.096</td>\n",
       "                        <td id=\"T_ac1a9_row2_col15\" class=\"data row2 col15\" >-0.066</td>\n",
       "                        <td id=\"T_ac1a9_row2_col16\" class=\"data row2 col16\" >-0.013</td>\n",
       "                        <td id=\"T_ac1a9_row2_col17\" class=\"data row2 col17\" >-0.016</td>\n",
       "                        <td id=\"T_ac1a9_row2_col18\" class=\"data row2 col18\" >-0.076</td>\n",
       "                        <td id=\"T_ac1a9_row2_col19\" class=\"data row2 col19\" >-0.000</td>\n",
       "                        <td id=\"T_ac1a9_row2_col20\" class=\"data row2 col20\" >-0.059</td>\n",
       "                        <td id=\"T_ac1a9_row2_col21\" class=\"data row2 col21\" >0.611</td>\n",
       "                        <td id=\"T_ac1a9_row2_col22\" class=\"data row2 col22\" >0.157</td>\n",
       "                        <td id=\"T_ac1a9_row2_col23\" class=\"data row2 col23\" >0.051</td>\n",
       "                        <td id=\"T_ac1a9_row2_col24\" class=\"data row2 col24\" >0.355</td>\n",
       "                        <td id=\"T_ac1a9_row2_col25\" class=\"data row2 col25\" >0.332</td>\n",
       "                        <td id=\"T_ac1a9_row2_col26\" class=\"data row2 col26\" >-0.035</td>\n",
       "                        <td id=\"T_ac1a9_row2_col27\" class=\"data row2 col27\" >0.129</td>\n",
       "                        <td id=\"T_ac1a9_row2_col28\" class=\"data row2 col28\" >-0.055</td>\n",
       "            </tr>\n",
       "            <tr>\n",
       "                        <th id=\"T_ac1a9_level0_row3\" class=\"row_heading level0 row3\" >car_type</th>\n",
       "                        <td id=\"T_ac1a9_row3_col0\" class=\"data row3 col0\" >0.205</td>\n",
       "                        <td id=\"T_ac1a9_row3_col1\" class=\"data row3 col1\" >-0.031</td>\n",
       "                        <td id=\"T_ac1a9_row3_col2\" class=\"data row3 col2\" >0.674</td>\n",
       "                        <td id=\"T_ac1a9_row3_col3\" class=\"data row3 col3\" >1.000</td>\n",
       "                        <td id=\"T_ac1a9_row3_col4\" class=\"data row3 col4\" >-0.053</td>\n",
       "                        <td id=\"T_ac1a9_row3_col5\" class=\"data row3 col5\" >0.021</td>\n",
       "                        <td id=\"T_ac1a9_row3_col6\" class=\"data row3 col6\" >-0.044</td>\n",
       "                        <td id=\"T_ac1a9_row3_col7\" class=\"data row3 col7\" >-0.012</td>\n",
       "                        <td id=\"T_ac1a9_row3_col8\" class=\"data row3 col8\" >0.087</td>\n",
       "                        <td id=\"T_ac1a9_row3_col9\" class=\"data row3 col9\" >-0.027</td>\n",
       "                        <td id=\"T_ac1a9_row3_col10\" class=\"data row3 col10\" >-0.016</td>\n",
       "                        <td id=\"T_ac1a9_row3_col11\" class=\"data row3 col11\" >0.353</td>\n",
       "                        <td id=\"T_ac1a9_row3_col12\" class=\"data row3 col12\" >-0.080</td>\n",
       "                        <td id=\"T_ac1a9_row3_col13\" class=\"data row3 col13\" >0.102</td>\n",
       "                        <td id=\"T_ac1a9_row3_col14\" class=\"data row3 col14\" >0.131</td>\n",
       "                        <td id=\"T_ac1a9_row3_col15\" class=\"data row3 col15\" >-0.091</td>\n",
       "                        <td id=\"T_ac1a9_row3_col16\" class=\"data row3 col16\" >-0.018</td>\n",
       "                        <td id=\"T_ac1a9_row3_col17\" class=\"data row3 col17\" >-0.020</td>\n",
       "                        <td id=\"T_ac1a9_row3_col18\" class=\"data row3 col18\" >-0.093</td>\n",
       "                        <td id=\"T_ac1a9_row3_col19\" class=\"data row3 col19\" >-0.002</td>\n",
       "                        <td id=\"T_ac1a9_row3_col20\" class=\"data row3 col20\" >-0.084</td>\n",
       "                        <td id=\"T_ac1a9_row3_col21\" class=\"data row3 col21\" >0.474</td>\n",
       "                        <td id=\"T_ac1a9_row3_col22\" class=\"data row3 col22\" >0.166</td>\n",
       "                        <td id=\"T_ac1a9_row3_col23\" class=\"data row3 col23\" >0.076</td>\n",
       "                        <td id=\"T_ac1a9_row3_col24\" class=\"data row3 col24\" >0.338</td>\n",
       "                        <td id=\"T_ac1a9_row3_col25\" class=\"data row3 col25\" >0.250</td>\n",
       "                        <td id=\"T_ac1a9_row3_col26\" class=\"data row3 col26\" >-0.027</td>\n",
       "                        <td id=\"T_ac1a9_row3_col27\" class=\"data row3 col27\" >0.154</td>\n",
       "                        <td id=\"T_ac1a9_row3_col28\" class=\"data row3 col28\" >-0.016</td>\n",
       "            </tr>\n",
       "            <tr>\n",
       "                        <th id=\"T_ac1a9_level0_row4\" class=\"row_heading level0 row4\" >decline_app_cnt</th>\n",
       "                        <td id=\"T_ac1a9_row4_col0\" class=\"data row4 col0\" >0.019</td>\n",
       "                        <td id=\"T_ac1a9_row4_col1\" class=\"data row4 col1\" >-0.141</td>\n",
       "                        <td id=\"T_ac1a9_row4_col2\" class=\"data row4 col2\" >-0.040</td>\n",
       "                        <td id=\"T_ac1a9_row4_col3\" class=\"data row4 col3\" >-0.053</td>\n",
       "                        <td id=\"T_ac1a9_row4_col4\" class=\"data row4 col4\" >1.000</td>\n",
       "                        <td id=\"T_ac1a9_row4_col5\" class=\"data row4 col5\" >-0.030</td>\n",
       "                        <td id=\"T_ac1a9_row4_col6\" class=\"data row4 col6\" >0.221</td>\n",
       "                        <td id=\"T_ac1a9_row4_col7\" class=\"data row4 col7\" >0.140</td>\n",
       "                        <td id=\"T_ac1a9_row4_col8\" class=\"data row4 col8\" >-0.045</td>\n",
       "                        <td id=\"T_ac1a9_row4_col9\" class=\"data row4 col9\" >0.028</td>\n",
       "                        <td id=\"T_ac1a9_row4_col10\" class=\"data row4 col10\" >0.032</td>\n",
       "                        <td id=\"T_ac1a9_row4_col11\" class=\"data row4 col11\" >-0.014</td>\n",
       "                        <td id=\"T_ac1a9_row4_col12\" class=\"data row4 col12\" >0.066</td>\n",
       "                        <td id=\"T_ac1a9_row4_col13\" class=\"data row4 col13\" >-0.077</td>\n",
       "                        <td id=\"T_ac1a9_row4_col14\" class=\"data row4 col14\" >-0.038</td>\n",
       "                        <td id=\"T_ac1a9_row4_col15\" class=\"data row4 col15\" >0.155</td>\n",
       "                        <td id=\"T_ac1a9_row4_col16\" class=\"data row4 col16\" >-0.024</td>\n",
       "                        <td id=\"T_ac1a9_row4_col17\" class=\"data row4 col17\" >-0.025</td>\n",
       "                        <td id=\"T_ac1a9_row4_col18\" class=\"data row4 col18\" >0.166</td>\n",
       "                        <td id=\"T_ac1a9_row4_col19\" class=\"data row4 col19\" >0.019</td>\n",
       "                        <td id=\"T_ac1a9_row4_col20\" class=\"data row4 col20\" >0.008</td>\n",
       "                        <td id=\"T_ac1a9_row4_col21\" class=\"data row4 col21\" >-0.058</td>\n",
       "                        <td id=\"T_ac1a9_row4_col22\" class=\"data row4 col22\" >-0.027</td>\n",
       "                        <td id=\"T_ac1a9_row4_col23\" class=\"data row4 col23\" >-0.030</td>\n",
       "                        <td id=\"T_ac1a9_row4_col24\" class=\"data row4 col24\" >-0.040</td>\n",
       "                        <td id=\"T_ac1a9_row4_col25\" class=\"data row4 col25\" >-0.027</td>\n",
       "                        <td id=\"T_ac1a9_row4_col26\" class=\"data row4 col26\" >0.031</td>\n",
       "                        <td id=\"T_ac1a9_row4_col27\" class=\"data row4 col27\" >-0.024</td>\n",
       "                        <td id=\"T_ac1a9_row4_col28\" class=\"data row4 col28\" >0.123</td>\n",
       "            </tr>\n",
       "            <tr>\n",
       "                        <th id=\"T_ac1a9_level0_row5\" class=\"row_heading level0 row5\" >good_work</th>\n",
       "                        <td id=\"T_ac1a9_row5_col0\" class=\"data row5 col0\" >-0.044</td>\n",
       "                        <td id=\"T_ac1a9_row5_col1\" class=\"data row5 col1\" >-0.060</td>\n",
       "                        <td id=\"T_ac1a9_row5_col2\" class=\"data row5 col2\" >0.008</td>\n",
       "                        <td id=\"T_ac1a9_row5_col3\" class=\"data row5 col3\" >0.021</td>\n",
       "                        <td id=\"T_ac1a9_row5_col4\" class=\"data row5 col4\" >-0.030</td>\n",
       "                        <td id=\"T_ac1a9_row5_col5\" class=\"data row5 col5\" >1.000</td>\n",
       "                        <td id=\"T_ac1a9_row5_col6\" class=\"data row5 col6\" >0.007</td>\n",
       "                        <td id=\"T_ac1a9_row5_col7\" class=\"data row5 col7\" >0.012</td>\n",
       "                        <td id=\"T_ac1a9_row5_col8\" class=\"data row5 col8\" >0.063</td>\n",
       "                        <td id=\"T_ac1a9_row5_col9\" class=\"data row5 col9\" >-0.020</td>\n",
       "                        <td id=\"T_ac1a9_row5_col10\" class=\"data row5 col10\" >-0.025</td>\n",
       "                        <td id=\"T_ac1a9_row5_col11\" class=\"data row5 col11\" >0.039</td>\n",
       "                        <td id=\"T_ac1a9_row5_col12\" class=\"data row5 col12\" >-0.060</td>\n",
       "                        <td id=\"T_ac1a9_row5_col13\" class=\"data row5 col13\" >0.056</td>\n",
       "                        <td id=\"T_ac1a9_row5_col14\" class=\"data row5 col14\" >0.044</td>\n",
       "                        <td id=\"T_ac1a9_row5_col15\" class=\"data row5 col15\" >-0.068</td>\n",
       "                        <td id=\"T_ac1a9_row5_col16\" class=\"data row5 col16\" >0.011</td>\n",
       "                        <td id=\"T_ac1a9_row5_col17\" class=\"data row5 col17\" >0.010</td>\n",
       "                        <td id=\"T_ac1a9_row5_col18\" class=\"data row5 col18\" >-0.049</td>\n",
       "                        <td id=\"T_ac1a9_row5_col19\" class=\"data row5 col19\" >-0.020</td>\n",
       "                        <td id=\"T_ac1a9_row5_col20\" class=\"data row5 col20\" >-0.149</td>\n",
       "                        <td id=\"T_ac1a9_row5_col21\" class=\"data row5 col21\" >0.525</td>\n",
       "                        <td id=\"T_ac1a9_row5_col22\" class=\"data row5 col22\" >0.249</td>\n",
       "                        <td id=\"T_ac1a9_row5_col23\" class=\"data row5 col23\" >0.372</td>\n",
       "                        <td id=\"T_ac1a9_row5_col24\" class=\"data row5 col24\" >0.038</td>\n",
       "                        <td id=\"T_ac1a9_row5_col25\" class=\"data row5 col25\" >0.527</td>\n",
       "                        <td id=\"T_ac1a9_row5_col26\" class=\"data row5 col26\" >-0.022</td>\n",
       "                        <td id=\"T_ac1a9_row5_col27\" class=\"data row5 col27\" >0.026</td>\n",
       "                        <td id=\"T_ac1a9_row5_col28\" class=\"data row5 col28\" >0.006</td>\n",
       "            </tr>\n",
       "            <tr>\n",
       "                        <th id=\"T_ac1a9_level0_row6\" class=\"row_heading level0 row6\" >score_bki</th>\n",
       "                        <td id=\"T_ac1a9_row6_col0\" class=\"data row6 col0\" >-0.062</td>\n",
       "                        <td id=\"T_ac1a9_row6_col1\" class=\"data row6 col1\" >-0.096</td>\n",
       "                        <td id=\"T_ac1a9_row6_col2\" class=\"data row6 col2\" >-0.051</td>\n",
       "                        <td id=\"T_ac1a9_row6_col3\" class=\"data row6 col3\" >-0.044</td>\n",
       "                        <td id=\"T_ac1a9_row6_col4\" class=\"data row6 col4\" >0.221</td>\n",
       "                        <td id=\"T_ac1a9_row6_col5\" class=\"data row6 col5\" >0.007</td>\n",
       "                        <td id=\"T_ac1a9_row6_col6\" class=\"data row6 col6\" >1.000</td>\n",
       "                        <td id=\"T_ac1a9_row6_col7\" class=\"data row6 col7\" >0.152</td>\n",
       "                        <td id=\"T_ac1a9_row6_col8\" class=\"data row6 col8\" >0.003</td>\n",
       "                        <td id=\"T_ac1a9_row6_col9\" class=\"data row6 col9\" >0.027</td>\n",
       "                        <td id=\"T_ac1a9_row6_col10\" class=\"data row6 col10\" >0.026</td>\n",
       "                        <td id=\"T_ac1a9_row6_col11\" class=\"data row6 col11\" >-0.006</td>\n",
       "                        <td id=\"T_ac1a9_row6_col12\" class=\"data row6 col12\" >0.066</td>\n",
       "                        <td id=\"T_ac1a9_row6_col13\" class=\"data row6 col13\" >-0.071</td>\n",
       "                        <td id=\"T_ac1a9_row6_col14\" class=\"data row6 col14\" >-0.030</td>\n",
       "                        <td id=\"T_ac1a9_row6_col15\" class=\"data row6 col15\" >0.258</td>\n",
       "                        <td id=\"T_ac1a9_row6_col16\" class=\"data row6 col16\" >-0.062</td>\n",
       "                        <td id=\"T_ac1a9_row6_col17\" class=\"data row6 col17\" >-0.062</td>\n",
       "                        <td id=\"T_ac1a9_row6_col18\" class=\"data row6 col18\" >0.732</td>\n",
       "                        <td id=\"T_ac1a9_row6_col19\" class=\"data row6 col19\" >0.037</td>\n",
       "                        <td id=\"T_ac1a9_row6_col20\" class=\"data row6 col20\" >-0.006</td>\n",
       "                        <td id=\"T_ac1a9_row6_col21\" class=\"data row6 col21\" >-0.043</td>\n",
       "                        <td id=\"T_ac1a9_row6_col22\" class=\"data row6 col22\" >-0.018</td>\n",
       "                        <td id=\"T_ac1a9_row6_col23\" class=\"data row6 col23\" >-0.014</td>\n",
       "                        <td id=\"T_ac1a9_row6_col24\" class=\"data row6 col24\" >-0.038</td>\n",
       "                        <td id=\"T_ac1a9_row6_col25\" class=\"data row6 col25\" >-0.019</td>\n",
       "                        <td id=\"T_ac1a9_row6_col26\" class=\"data row6 col26\" >0.029</td>\n",
       "                        <td id=\"T_ac1a9_row6_col27\" class=\"data row6 col27\" >-0.035</td>\n",
       "                        <td id=\"T_ac1a9_row6_col28\" class=\"data row6 col28\" >0.143</td>\n",
       "            </tr>\n",
       "            <tr>\n",
       "                        <th id=\"T_ac1a9_level0_row7\" class=\"row_heading level0 row7\" >bki_request_cnt</th>\n",
       "                        <td id=\"T_ac1a9_row7_col0\" class=\"data row7 col0\" >-0.054</td>\n",
       "                        <td id=\"T_ac1a9_row7_col1\" class=\"data row7 col1\" >0.059</td>\n",
       "                        <td id=\"T_ac1a9_row7_col2\" class=\"data row7 col2\" >-0.052</td>\n",
       "                        <td id=\"T_ac1a9_row7_col3\" class=\"data row7 col3\" >-0.012</td>\n",
       "                        <td id=\"T_ac1a9_row7_col4\" class=\"data row7 col4\" >0.140</td>\n",
       "                        <td id=\"T_ac1a9_row7_col5\" class=\"data row7 col5\" >0.012</td>\n",
       "                        <td id=\"T_ac1a9_row7_col6\" class=\"data row7 col6\" >0.152</td>\n",
       "                        <td id=\"T_ac1a9_row7_col7\" class=\"data row7 col7\" >1.000</td>\n",
       "                        <td id=\"T_ac1a9_row7_col8\" class=\"data row7 col8\" >-0.006</td>\n",
       "                        <td id=\"T_ac1a9_row7_col9\" class=\"data row7 col9\" >0.019</td>\n",
       "                        <td id=\"T_ac1a9_row7_col10\" class=\"data row7 col10\" >0.015</td>\n",
       "                        <td id=\"T_ac1a9_row7_col11\" class=\"data row7 col11\" >0.096</td>\n",
       "                        <td id=\"T_ac1a9_row7_col12\" class=\"data row7 col12\" >0.009</td>\n",
       "                        <td id=\"T_ac1a9_row7_col13\" class=\"data row7 col13\" >0.013</td>\n",
       "                        <td id=\"T_ac1a9_row7_col14\" class=\"data row7 col14\" >0.002</td>\n",
       "                        <td id=\"T_ac1a9_row7_col15\" class=\"data row7 col15\" >0.116</td>\n",
       "                        <td id=\"T_ac1a9_row7_col16\" class=\"data row7 col16\" >-0.011</td>\n",
       "                        <td id=\"T_ac1a9_row7_col17\" class=\"data row7 col17\" >-0.010</td>\n",
       "                        <td id=\"T_ac1a9_row7_col18\" class=\"data row7 col18\" >0.125</td>\n",
       "                        <td id=\"T_ac1a9_row7_col19\" class=\"data row7 col19\" >0.026</td>\n",
       "                        <td id=\"T_ac1a9_row7_col20\" class=\"data row7 col20\" >0.007</td>\n",
       "                        <td id=\"T_ac1a9_row7_col21\" class=\"data row7 col21\" >-0.023</td>\n",
       "                        <td id=\"T_ac1a9_row7_col22\" class=\"data row7 col22\" >-0.010</td>\n",
       "                        <td id=\"T_ac1a9_row7_col23\" class=\"data row7 col23\" >-0.004</td>\n",
       "                        <td id=\"T_ac1a9_row7_col24\" class=\"data row7 col24\" >-0.016</td>\n",
       "                        <td id=\"T_ac1a9_row7_col25\" class=\"data row7 col25\" >-0.008</td>\n",
       "                        <td id=\"T_ac1a9_row7_col26\" class=\"data row7 col26\" >0.019</td>\n",
       "                        <td id=\"T_ac1a9_row7_col27\" class=\"data row7 col27\" >-0.010</td>\n",
       "                        <td id=\"T_ac1a9_row7_col28\" class=\"data row7 col28\" >0.992</td>\n",
       "            </tr>\n",
       "            <tr>\n",
       "                        <th id=\"T_ac1a9_level0_row8\" class=\"row_heading level0 row8\" >region_rating</th>\n",
       "                        <td id=\"T_ac1a9_row8_col0\" class=\"data row8 col0\" >0.107</td>\n",
       "                        <td id=\"T_ac1a9_row8_col1\" class=\"data row8 col1\" >-0.080</td>\n",
       "                        <td id=\"T_ac1a9_row8_col2\" class=\"data row8 col2\" >0.052</td>\n",
       "                        <td id=\"T_ac1a9_row8_col3\" class=\"data row8 col3\" >0.087</td>\n",
       "                        <td id=\"T_ac1a9_row8_col4\" class=\"data row8 col4\" >-0.045</td>\n",
       "                        <td id=\"T_ac1a9_row8_col5\" class=\"data row8 col5\" >0.063</td>\n",
       "                        <td id=\"T_ac1a9_row8_col6\" class=\"data row8 col6\" >0.003</td>\n",
       "                        <td id=\"T_ac1a9_row8_col7\" class=\"data row8 col7\" >-0.006</td>\n",
       "                        <td id=\"T_ac1a9_row8_col8\" class=\"data row8 col8\" >1.000</td>\n",
       "                        <td id=\"T_ac1a9_row8_col9\" class=\"data row8 col9\" >0.182</td>\n",
       "                        <td id=\"T_ac1a9_row8_col10\" class=\"data row8 col10\" >0.202</td>\n",
       "                        <td id=\"T_ac1a9_row8_col11\" class=\"data row8 col11\" >0.284</td>\n",
       "                        <td id=\"T_ac1a9_row8_col12\" class=\"data row8 col12\" >-0.066</td>\n",
       "                        <td id=\"T_ac1a9_row8_col13\" class=\"data row8 col13\" >0.075</td>\n",
       "                        <td id=\"T_ac1a9_row8_col14\" class=\"data row8 col14\" >0.237</td>\n",
       "                        <td id=\"T_ac1a9_row8_col15\" class=\"data row8 col15\" >-0.138</td>\n",
       "                        <td id=\"T_ac1a9_row8_col16\" class=\"data row8 col16\" >0.012</td>\n",
       "                        <td id=\"T_ac1a9_row8_col17\" class=\"data row8 col17\" >0.016</td>\n",
       "                        <td id=\"T_ac1a9_row8_col18\" class=\"data row8 col18\" >-0.620</td>\n",
       "                        <td id=\"T_ac1a9_row8_col19\" class=\"data row8 col19\" >-0.020</td>\n",
       "                        <td id=\"T_ac1a9_row8_col20\" class=\"data row8 col20\" >-0.054</td>\n",
       "                        <td id=\"T_ac1a9_row8_col21\" class=\"data row8 col21\" >0.185</td>\n",
       "                        <td id=\"T_ac1a9_row8_col22\" class=\"data row8 col22\" >0.093</td>\n",
       "                        <td id=\"T_ac1a9_row8_col23\" class=\"data row8 col23\" >0.136</td>\n",
       "                        <td id=\"T_ac1a9_row8_col24\" class=\"data row8 col24\" >0.158</td>\n",
       "                        <td id=\"T_ac1a9_row8_col25\" class=\"data row8 col25\" >0.058</td>\n",
       "                        <td id=\"T_ac1a9_row8_col26\" class=\"data row8 col26\" >0.198</td>\n",
       "                        <td id=\"T_ac1a9_row8_col27\" class=\"data row8 col27\" >0.192</td>\n",
       "                        <td id=\"T_ac1a9_row8_col28\" class=\"data row8 col28\" >-0.015</td>\n",
       "            </tr>\n",
       "            <tr>\n",
       "                        <th id=\"T_ac1a9_level0_row9\" class=\"row_heading level0 row9\" >home_address</th>\n",
       "                        <td id=\"T_ac1a9_row9_col0\" class=\"data row9 col0\" >0.042</td>\n",
       "                        <td id=\"T_ac1a9_row9_col1\" class=\"data row9 col1\" >0.006</td>\n",
       "                        <td id=\"T_ac1a9_row9_col2\" class=\"data row9 col2\" >-0.035</td>\n",
       "                        <td id=\"T_ac1a9_row9_col3\" class=\"data row9 col3\" >-0.027</td>\n",
       "                        <td id=\"T_ac1a9_row9_col4\" class=\"data row9 col4\" >0.028</td>\n",
       "                        <td id=\"T_ac1a9_row9_col5\" class=\"data row9 col5\" >-0.020</td>\n",
       "                        <td id=\"T_ac1a9_row9_col6\" class=\"data row9 col6\" >0.027</td>\n",
       "                        <td id=\"T_ac1a9_row9_col7\" class=\"data row9 col7\" >0.019</td>\n",
       "                        <td id=\"T_ac1a9_row9_col8\" class=\"data row9 col8\" >0.182</td>\n",
       "                        <td id=\"T_ac1a9_row9_col9\" class=\"data row9 col9\" >1.000</td>\n",
       "                        <td id=\"T_ac1a9_row9_col10\" class=\"data row9 col10\" >0.748</td>\n",
       "                        <td id=\"T_ac1a9_row9_col11\" class=\"data row9 col11\" >0.026</td>\n",
       "                        <td id=\"T_ac1a9_row9_col12\" class=\"data row9 col12\" >0.150</td>\n",
       "                        <td id=\"T_ac1a9_row9_col13\" class=\"data row9 col13\" >-0.079</td>\n",
       "                        <td id=\"T_ac1a9_row9_col14\" class=\"data row9 col14\" >0.017</td>\n",
       "                        <td id=\"T_ac1a9_row9_col15\" class=\"data row9 col15\" >0.130</td>\n",
       "                        <td id=\"T_ac1a9_row9_col16\" class=\"data row9 col16\" >0.130</td>\n",
       "                        <td id=\"T_ac1a9_row9_col17\" class=\"data row9 col17\" >0.126</td>\n",
       "                        <td id=\"T_ac1a9_row9_col18\" class=\"data row9 col18\" >-0.091</td>\n",
       "                        <td id=\"T_ac1a9_row9_col19\" class=\"data row9 col19\" >0.088</td>\n",
       "                        <td id=\"T_ac1a9_row9_col20\" class=\"data row9 col20\" >0.016</td>\n",
       "                        <td id=\"T_ac1a9_row9_col21\" class=\"data row9 col21\" >-0.015</td>\n",
       "                        <td id=\"T_ac1a9_row9_col22\" class=\"data row9 col22\" >0.006</td>\n",
       "                        <td id=\"T_ac1a9_row9_col23\" class=\"data row9 col23\" >0.015</td>\n",
       "                        <td id=\"T_ac1a9_row9_col24\" class=\"data row9 col24\" >0.007</td>\n",
       "                        <td id=\"T_ac1a9_row9_col25\" class=\"data row9 col25\" >-0.015</td>\n",
       "                        <td id=\"T_ac1a9_row9_col26\" class=\"data row9 col26\" >0.968</td>\n",
       "                        <td id=\"T_ac1a9_row9_col27\" class=\"data row9 col27\" >0.020</td>\n",
       "                        <td id=\"T_ac1a9_row9_col28\" class=\"data row9 col28\" >0.019</td>\n",
       "            </tr>\n",
       "            <tr>\n",
       "                        <th id=\"T_ac1a9_level0_row10\" class=\"row_heading level0 row10\" >work_address</th>\n",
       "                        <td id=\"T_ac1a9_row10_col0\" class=\"data row10 col0\" >0.066</td>\n",
       "                        <td id=\"T_ac1a9_row10_col1\" class=\"data row10 col1\" >-0.007</td>\n",
       "                        <td id=\"T_ac1a9_row10_col2\" class=\"data row10 col2\" >-0.022</td>\n",
       "                        <td id=\"T_ac1a9_row10_col3\" class=\"data row10 col3\" >-0.016</td>\n",
       "                        <td id=\"T_ac1a9_row10_col4\" class=\"data row10 col4\" >0.032</td>\n",
       "                        <td id=\"T_ac1a9_row10_col5\" class=\"data row10 col5\" >-0.025</td>\n",
       "                        <td id=\"T_ac1a9_row10_col6\" class=\"data row10 col6\" >0.026</td>\n",
       "                        <td id=\"T_ac1a9_row10_col7\" class=\"data row10 col7\" >0.015</td>\n",
       "                        <td id=\"T_ac1a9_row10_col8\" class=\"data row10 col8\" >0.202</td>\n",
       "                        <td id=\"T_ac1a9_row10_col9\" class=\"data row10 col9\" >0.748</td>\n",
       "                        <td id=\"T_ac1a9_row10_col10\" class=\"data row10 col10\" >1.000</td>\n",
       "                        <td id=\"T_ac1a9_row10_col11\" class=\"data row10 col11\" >0.047</td>\n",
       "                        <td id=\"T_ac1a9_row10_col12\" class=\"data row10 col12\" >0.145</td>\n",
       "                        <td id=\"T_ac1a9_row10_col13\" class=\"data row10 col13\" >-0.087</td>\n",
       "                        <td id=\"T_ac1a9_row10_col14\" class=\"data row10 col14\" >0.018</td>\n",
       "                        <td id=\"T_ac1a9_row10_col15\" class=\"data row10 col15\" >0.129</td>\n",
       "                        <td id=\"T_ac1a9_row10_col16\" class=\"data row10 col16\" >0.137</td>\n",
       "                        <td id=\"T_ac1a9_row10_col17\" class=\"data row10 col17\" >0.131</td>\n",
       "                        <td id=\"T_ac1a9_row10_col18\" class=\"data row10 col18\" >-0.107</td>\n",
       "                        <td id=\"T_ac1a9_row10_col19\" class=\"data row10 col19\" >0.082</td>\n",
       "                        <td id=\"T_ac1a9_row10_col20\" class=\"data row10 col20\" >0.014</td>\n",
       "                        <td id=\"T_ac1a9_row10_col21\" class=\"data row10 col21\" >-0.007</td>\n",
       "                        <td id=\"T_ac1a9_row10_col22\" class=\"data row10 col22\" >0.012</td>\n",
       "                        <td id=\"T_ac1a9_row10_col23\" class=\"data row10 col23\" >0.018</td>\n",
       "                        <td id=\"T_ac1a9_row10_col24\" class=\"data row10 col24\" >0.011</td>\n",
       "                        <td id=\"T_ac1a9_row10_col25\" class=\"data row10 col25\" >-0.007</td>\n",
       "                        <td id=\"T_ac1a9_row10_col26\" class=\"data row10 col26\" >0.883</td>\n",
       "                        <td id=\"T_ac1a9_row10_col27\" class=\"data row10 col27\" >0.025</td>\n",
       "                        <td id=\"T_ac1a9_row10_col28\" class=\"data row10 col28\" >0.014</td>\n",
       "            </tr>\n",
       "            <tr>\n",
       "                        <th id=\"T_ac1a9_level0_row11\" class=\"row_heading level0 row11\" >income</th>\n",
       "                        <td id=\"T_ac1a9_row11_col0\" class=\"data row11 col0\" >0.297</td>\n",
       "                        <td id=\"T_ac1a9_row11_col1\" class=\"data row11 col1\" >-0.094</td>\n",
       "                        <td id=\"T_ac1a9_row11_col2\" class=\"data row11 col2\" >0.313</td>\n",
       "                        <td id=\"T_ac1a9_row11_col3\" class=\"data row11 col3\" >0.353</td>\n",
       "                        <td id=\"T_ac1a9_row11_col4\" class=\"data row11 col4\" >-0.014</td>\n",
       "                        <td id=\"T_ac1a9_row11_col5\" class=\"data row11 col5\" >0.039</td>\n",
       "                        <td id=\"T_ac1a9_row11_col6\" class=\"data row11 col6\" >-0.006</td>\n",
       "                        <td id=\"T_ac1a9_row11_col7\" class=\"data row11 col7\" >0.096</td>\n",
       "                        <td id=\"T_ac1a9_row11_col8\" class=\"data row11 col8\" >0.284</td>\n",
       "                        <td id=\"T_ac1a9_row11_col9\" class=\"data row11 col9\" >0.026</td>\n",
       "                        <td id=\"T_ac1a9_row11_col10\" class=\"data row11 col10\" >0.047</td>\n",
       "                        <td id=\"T_ac1a9_row11_col11\" class=\"data row11 col11\" >1.000</td>\n",
       "                        <td id=\"T_ac1a9_row11_col12\" class=\"data row11 col12\" >-0.112</td>\n",
       "                        <td id=\"T_ac1a9_row11_col13\" class=\"data row11 col13\" >0.146</td>\n",
       "                        <td id=\"T_ac1a9_row11_col14\" class=\"data row11 col14\" >0.250</td>\n",
       "                        <td id=\"T_ac1a9_row11_col15\" class=\"data row11 col15\" >-0.083</td>\n",
       "                        <td id=\"T_ac1a9_row11_col16\" class=\"data row11 col16\" >0.008</td>\n",
       "                        <td id=\"T_ac1a9_row11_col17\" class=\"data row11 col17\" >0.006</td>\n",
       "                        <td id=\"T_ac1a9_row11_col18\" class=\"data row11 col18\" >-0.196</td>\n",
       "                        <td id=\"T_ac1a9_row11_col19\" class=\"data row11 col19\" >0.004</td>\n",
       "                        <td id=\"T_ac1a9_row11_col20\" class=\"data row11 col20\" >-0.092</td>\n",
       "                        <td id=\"T_ac1a9_row11_col21\" class=\"data row11 col21\" >0.321</td>\n",
       "                        <td id=\"T_ac1a9_row11_col22\" class=\"data row11 col22\" >0.118</td>\n",
       "                        <td id=\"T_ac1a9_row11_col23\" class=\"data row11 col23\" >0.127</td>\n",
       "                        <td id=\"T_ac1a9_row11_col24\" class=\"data row11 col24\" >0.248</td>\n",
       "                        <td id=\"T_ac1a9_row11_col25\" class=\"data row11 col25\" >0.112</td>\n",
       "                        <td id=\"T_ac1a9_row11_col26\" class=\"data row11 col26\" >0.032</td>\n",
       "                        <td id=\"T_ac1a9_row11_col27\" class=\"data row11 col27\" >0.242</td>\n",
       "                        <td id=\"T_ac1a9_row11_col28\" class=\"data row11 col28\" >0.085</td>\n",
       "            </tr>\n",
       "            <tr>\n",
       "                        <th id=\"T_ac1a9_level0_row12\" class=\"row_heading level0 row12\" >sna</th>\n",
       "                        <td id=\"T_ac1a9_row12_col0\" class=\"data row12 col0\" >0.014</td>\n",
       "                        <td id=\"T_ac1a9_row12_col1\" class=\"data row12 col1\" >-0.063</td>\n",
       "                        <td id=\"T_ac1a9_row12_col2\" class=\"data row12 col2\" >-0.068</td>\n",
       "                        <td id=\"T_ac1a9_row12_col3\" class=\"data row12 col3\" >-0.080</td>\n",
       "                        <td id=\"T_ac1a9_row12_col4\" class=\"data row12 col4\" >0.066</td>\n",
       "                        <td id=\"T_ac1a9_row12_col5\" class=\"data row12 col5\" >-0.060</td>\n",
       "                        <td id=\"T_ac1a9_row12_col6\" class=\"data row12 col6\" >0.066</td>\n",
       "                        <td id=\"T_ac1a9_row12_col7\" class=\"data row12 col7\" >0.009</td>\n",
       "                        <td id=\"T_ac1a9_row12_col8\" class=\"data row12 col8\" >-0.066</td>\n",
       "                        <td id=\"T_ac1a9_row12_col9\" class=\"data row12 col9\" >0.150</td>\n",
       "                        <td id=\"T_ac1a9_row12_col10\" class=\"data row12 col10\" >0.145</td>\n",
       "                        <td id=\"T_ac1a9_row12_col11\" class=\"data row12 col11\" >-0.112</td>\n",
       "                        <td id=\"T_ac1a9_row12_col12\" class=\"data row12 col12\" >1.000</td>\n",
       "                        <td id=\"T_ac1a9_row12_col13\" class=\"data row12 col13\" >-0.505</td>\n",
       "                        <td id=\"T_ac1a9_row12_col14\" class=\"data row12 col14\" >-0.182</td>\n",
       "                        <td id=\"T_ac1a9_row12_col15\" class=\"data row12 col15\" >0.176</td>\n",
       "                        <td id=\"T_ac1a9_row12_col16\" class=\"data row12 col16\" >-0.002</td>\n",
       "                        <td id=\"T_ac1a9_row12_col17\" class=\"data row12 col17\" >-0.004</td>\n",
       "                        <td id=\"T_ac1a9_row12_col18\" class=\"data row12 col18\" >0.080</td>\n",
       "                        <td id=\"T_ac1a9_row12_col19\" class=\"data row12 col19\" >0.615</td>\n",
       "                        <td id=\"T_ac1a9_row12_col20\" class=\"data row12 col20\" >0.074</td>\n",
       "                        <td id=\"T_ac1a9_row12_col21\" class=\"data row12 col21\" >-0.153</td>\n",
       "                        <td id=\"T_ac1a9_row12_col22\" class=\"data row12 col22\" >-0.057</td>\n",
       "                        <td id=\"T_ac1a9_row12_col23\" class=\"data row12 col23\" >-0.083</td>\n",
       "                        <td id=\"T_ac1a9_row12_col24\" class=\"data row12 col24\" >-0.119</td>\n",
       "                        <td id=\"T_ac1a9_row12_col25\" class=\"data row12 col25\" >-0.049</td>\n",
       "                        <td id=\"T_ac1a9_row12_col26\" class=\"data row12 col26\" >0.159</td>\n",
       "                        <td id=\"T_ac1a9_row12_col27\" class=\"data row12 col27\" >-0.127</td>\n",
       "                        <td id=\"T_ac1a9_row12_col28\" class=\"data row12 col28\" >0.003</td>\n",
       "            </tr>\n",
       "            <tr>\n",
       "                        <th id=\"T_ac1a9_level0_row13\" class=\"row_heading level0 row13\" >first_time</th>\n",
       "                        <td id=\"T_ac1a9_row13_col0\" class=\"data row13 col0\" >0.002</td>\n",
       "                        <td id=\"T_ac1a9_row13_col1\" class=\"data row13 col1\" >0.097</td>\n",
       "                        <td id=\"T_ac1a9_row13_col2\" class=\"data row13 col2\" >0.088</td>\n",
       "                        <td id=\"T_ac1a9_row13_col3\" class=\"data row13 col3\" >0.102</td>\n",
       "                        <td id=\"T_ac1a9_row13_col4\" class=\"data row13 col4\" >-0.077</td>\n",
       "                        <td id=\"T_ac1a9_row13_col5\" class=\"data row13 col5\" >0.056</td>\n",
       "                        <td id=\"T_ac1a9_row13_col6\" class=\"data row13 col6\" >-0.071</td>\n",
       "                        <td id=\"T_ac1a9_row13_col7\" class=\"data row13 col7\" >0.013</td>\n",
       "                        <td id=\"T_ac1a9_row13_col8\" class=\"data row13 col8\" >0.075</td>\n",
       "                        <td id=\"T_ac1a9_row13_col9\" class=\"data row13 col9\" >-0.079</td>\n",
       "                        <td id=\"T_ac1a9_row13_col10\" class=\"data row13 col10\" >-0.087</td>\n",
       "                        <td id=\"T_ac1a9_row13_col11\" class=\"data row13 col11\" >0.146</td>\n",
       "                        <td id=\"T_ac1a9_row13_col12\" class=\"data row13 col12\" >-0.505</td>\n",
       "                        <td id=\"T_ac1a9_row13_col13\" class=\"data row13 col13\" >1.000</td>\n",
       "                        <td id=\"T_ac1a9_row13_col14\" class=\"data row13 col14\" >0.187</td>\n",
       "                        <td id=\"T_ac1a9_row13_col15\" class=\"data row13 col15\" >-0.156</td>\n",
       "                        <td id=\"T_ac1a9_row13_col16\" class=\"data row13 col16\" >0.013</td>\n",
       "                        <td id=\"T_ac1a9_row13_col17\" class=\"data row13 col17\" >0.012</td>\n",
       "                        <td id=\"T_ac1a9_row13_col18\" class=\"data row13 col18\" >-0.081</td>\n",
       "                        <td id=\"T_ac1a9_row13_col19\" class=\"data row13 col19\" >0.260</td>\n",
       "                        <td id=\"T_ac1a9_row13_col20\" class=\"data row13 col20\" >-0.071</td>\n",
       "                        <td id=\"T_ac1a9_row13_col21\" class=\"data row13 col21\" >0.169</td>\n",
       "                        <td id=\"T_ac1a9_row13_col22\" class=\"data row13 col22\" >0.065</td>\n",
       "                        <td id=\"T_ac1a9_row13_col23\" class=\"data row13 col23\" >0.091</td>\n",
       "                        <td id=\"T_ac1a9_row13_col24\" class=\"data row13 col24\" >0.134</td>\n",
       "                        <td id=\"T_ac1a9_row13_col25\" class=\"data row13 col25\" >0.057</td>\n",
       "                        <td id=\"T_ac1a9_row13_col26\" class=\"data row13 col26\" >-0.087</td>\n",
       "                        <td id=\"T_ac1a9_row13_col27\" class=\"data row13 col27\" >0.137</td>\n",
       "                        <td id=\"T_ac1a9_row13_col28\" class=\"data row13 col28\" >0.022</td>\n",
       "            </tr>\n",
       "            <tr>\n",
       "                        <th id=\"T_ac1a9_level0_row14\" class=\"row_heading level0 row14\" >foreign_passport</th>\n",
       "                        <td id=\"T_ac1a9_row14_col0\" class=\"data row14 col0\" >0.073</td>\n",
       "                        <td id=\"T_ac1a9_row14_col1\" class=\"data row14 col1\" >-0.031</td>\n",
       "                        <td id=\"T_ac1a9_row14_col2\" class=\"data row14 col2\" >0.096</td>\n",
       "                        <td id=\"T_ac1a9_row14_col3\" class=\"data row14 col3\" >0.131</td>\n",
       "                        <td id=\"T_ac1a9_row14_col4\" class=\"data row14 col4\" >-0.038</td>\n",
       "                        <td id=\"T_ac1a9_row14_col5\" class=\"data row14 col5\" >0.044</td>\n",
       "                        <td id=\"T_ac1a9_row14_col6\" class=\"data row14 col6\" >-0.030</td>\n",
       "                        <td id=\"T_ac1a9_row14_col7\" class=\"data row14 col7\" >0.002</td>\n",
       "                        <td id=\"T_ac1a9_row14_col8\" class=\"data row14 col8\" >0.237</td>\n",
       "                        <td id=\"T_ac1a9_row14_col9\" class=\"data row14 col9\" >0.017</td>\n",
       "                        <td id=\"T_ac1a9_row14_col10\" class=\"data row14 col10\" >0.018</td>\n",
       "                        <td id=\"T_ac1a9_row14_col11\" class=\"data row14 col11\" >0.250</td>\n",
       "                        <td id=\"T_ac1a9_row14_col12\" class=\"data row14 col12\" >-0.182</td>\n",
       "                        <td id=\"T_ac1a9_row14_col13\" class=\"data row14 col13\" >0.187</td>\n",
       "                        <td id=\"T_ac1a9_row14_col14\" class=\"data row14 col14\" >1.000</td>\n",
       "                        <td id=\"T_ac1a9_row14_col15\" class=\"data row14 col15\" >-0.109</td>\n",
       "                        <td id=\"T_ac1a9_row14_col16\" class=\"data row14 col16\" >-0.006</td>\n",
       "                        <td id=\"T_ac1a9_row14_col17\" class=\"data row14 col17\" >-0.005</td>\n",
       "                        <td id=\"T_ac1a9_row14_col18\" class=\"data row14 col18\" >-0.177</td>\n",
       "                        <td id=\"T_ac1a9_row14_col19\" class=\"data row14 col19\" >-0.060</td>\n",
       "                        <td id=\"T_ac1a9_row14_col20\" class=\"data row14 col20\" >-0.107</td>\n",
       "                        <td id=\"T_ac1a9_row14_col21\" class=\"data row14 col21\" >0.580</td>\n",
       "                        <td id=\"T_ac1a9_row14_col22\" class=\"data row14 col22\" >0.276</td>\n",
       "                        <td id=\"T_ac1a9_row14_col23\" class=\"data row14 col23\" >0.412</td>\n",
       "                        <td id=\"T_ac1a9_row14_col24\" class=\"data row14 col24\" >0.623</td>\n",
       "                        <td id=\"T_ac1a9_row14_col25\" class=\"data row14 col25\" >0.072</td>\n",
       "                        <td id=\"T_ac1a9_row14_col26\" class=\"data row14 col26\" >0.017</td>\n",
       "                        <td id=\"T_ac1a9_row14_col27\" class=\"data row14 col27\" >0.716</td>\n",
       "                        <td id=\"T_ac1a9_row14_col28\" class=\"data row14 col28\" >-0.002</td>\n",
       "            </tr>\n",
       "            <tr>\n",
       "                        <th id=\"T_ac1a9_level0_row15\" class=\"row_heading level0 row15\" >default</th>\n",
       "                        <td id=\"T_ac1a9_row15_col0\" class=\"data row15 col0\" >0.029</td>\n",
       "                        <td id=\"T_ac1a9_row15_col1\" class=\"data row15 col1\" >-0.039</td>\n",
       "                        <td id=\"T_ac1a9_row15_col2\" class=\"data row15 col2\" >-0.066</td>\n",
       "                        <td id=\"T_ac1a9_row15_col3\" class=\"data row15 col3\" >-0.091</td>\n",
       "                        <td id=\"T_ac1a9_row15_col4\" class=\"data row15 col4\" >0.155</td>\n",
       "                        <td id=\"T_ac1a9_row15_col5\" class=\"data row15 col5\" >-0.068</td>\n",
       "                        <td id=\"T_ac1a9_row15_col6\" class=\"data row15 col6\" >0.258</td>\n",
       "                        <td id=\"T_ac1a9_row15_col7\" class=\"data row15 col7\" >0.116</td>\n",
       "                        <td id=\"T_ac1a9_row15_col8\" class=\"data row15 col8\" >-0.138</td>\n",
       "                        <td id=\"T_ac1a9_row15_col9\" class=\"data row15 col9\" >0.130</td>\n",
       "                        <td id=\"T_ac1a9_row15_col10\" class=\"data row15 col10\" >0.129</td>\n",
       "                        <td id=\"T_ac1a9_row15_col11\" class=\"data row15 col11\" >-0.083</td>\n",
       "                        <td id=\"T_ac1a9_row15_col12\" class=\"data row15 col12\" >0.176</td>\n",
       "                        <td id=\"T_ac1a9_row15_col13\" class=\"data row15 col13\" >-0.156</td>\n",
       "                        <td id=\"T_ac1a9_row15_col14\" class=\"data row15 col14\" >-0.109</td>\n",
       "                        <td id=\"T_ac1a9_row15_col15\" class=\"data row15 col15\" >1.000</td>\n",
       "                        <td id=\"T_ac1a9_row15_col16\" class=\"data row15 col16\" >-0.056</td>\n",
       "                        <td id=\"T_ac1a9_row15_col17\" class=\"data row15 col17\" >-0.060</td>\n",
       "                        <td id=\"T_ac1a9_row15_col18\" class=\"data row15 col18\" >0.270</td>\n",
       "                        <td id=\"T_ac1a9_row15_col19\" class=\"data row15 col19\" >0.090</td>\n",
       "                        <td id=\"T_ac1a9_row15_col20\" class=\"data row15 col20\" >0.101</td>\n",
       "                        <td id=\"T_ac1a9_row15_col21\" class=\"data row15 col21\" >-0.125</td>\n",
       "                        <td id=\"T_ac1a9_row15_col22\" class=\"data row15 col22\" >-0.046</td>\n",
       "                        <td id=\"T_ac1a9_row15_col23\" class=\"data row15 col23\" >-0.068</td>\n",
       "                        <td id=\"T_ac1a9_row15_col24\" class=\"data row15 col24\" >-0.091</td>\n",
       "                        <td id=\"T_ac1a9_row15_col25\" class=\"data row15 col25\" >-0.053</td>\n",
       "                        <td id=\"T_ac1a9_row15_col26\" class=\"data row15 col26\" >0.139</td>\n",
       "                        <td id=\"T_ac1a9_row15_col27\" class=\"data row15 col27\" >-0.073</td>\n",
       "                        <td id=\"T_ac1a9_row15_col28\" class=\"data row15 col28\" >0.111</td>\n",
       "            </tr>\n",
       "            <tr>\n",
       "                        <th id=\"T_ac1a9_level0_row16\" class=\"row_heading level0 row16\" >month</th>\n",
       "                        <td id=\"T_ac1a9_row16_col0\" class=\"data row16 col0\" >-0.032</td>\n",
       "                        <td id=\"T_ac1a9_row16_col1\" class=\"data row16 col1\" >0.018</td>\n",
       "                        <td id=\"T_ac1a9_row16_col2\" class=\"data row16 col2\" >-0.013</td>\n",
       "                        <td id=\"T_ac1a9_row16_col3\" class=\"data row16 col3\" >-0.018</td>\n",
       "                        <td id=\"T_ac1a9_row16_col4\" class=\"data row16 col4\" >-0.024</td>\n",
       "                        <td id=\"T_ac1a9_row16_col5\" class=\"data row16 col5\" >0.011</td>\n",
       "                        <td id=\"T_ac1a9_row16_col6\" class=\"data row16 col6\" >-0.062</td>\n",
       "                        <td id=\"T_ac1a9_row16_col7\" class=\"data row16 col7\" >-0.011</td>\n",
       "                        <td id=\"T_ac1a9_row16_col8\" class=\"data row16 col8\" >0.012</td>\n",
       "                        <td id=\"T_ac1a9_row16_col9\" class=\"data row16 col9\" >0.130</td>\n",
       "                        <td id=\"T_ac1a9_row16_col10\" class=\"data row16 col10\" >0.137</td>\n",
       "                        <td id=\"T_ac1a9_row16_col11\" class=\"data row16 col11\" >0.008</td>\n",
       "                        <td id=\"T_ac1a9_row16_col12\" class=\"data row16 col12\" >-0.002</td>\n",
       "                        <td id=\"T_ac1a9_row16_col13\" class=\"data row16 col13\" >0.013</td>\n",
       "                        <td id=\"T_ac1a9_row16_col14\" class=\"data row16 col14\" >-0.006</td>\n",
       "                        <td id=\"T_ac1a9_row16_col15\" class=\"data row16 col15\" >-0.056</td>\n",
       "                        <td id=\"T_ac1a9_row16_col16\" class=\"data row16 col16\" >1.000</td>\n",
       "                        <td id=\"T_ac1a9_row16_col17\" class=\"data row16 col17\" >0.964</td>\n",
       "                        <td id=\"T_ac1a9_row16_col18\" class=\"data row16 col18\" >-0.049</td>\n",
       "                        <td id=\"T_ac1a9_row16_col19\" class=\"data row16 col19\" >-0.012</td>\n",
       "                        <td id=\"T_ac1a9_row16_col20\" class=\"data row16 col20\" >-0.054</td>\n",
       "                        <td id=\"T_ac1a9_row16_col21\" class=\"data row16 col21\" >-0.004</td>\n",
       "                        <td id=\"T_ac1a9_row16_col22\" class=\"data row16 col22\" >0.004</td>\n",
       "                        <td id=\"T_ac1a9_row16_col23\" class=\"data row16 col23\" >0.003</td>\n",
       "                        <td id=\"T_ac1a9_row16_col24\" class=\"data row16 col24\" >-0.006</td>\n",
       "                        <td id=\"T_ac1a9_row16_col25\" class=\"data row16 col25\" >-0.000</td>\n",
       "                        <td id=\"T_ac1a9_row16_col26\" class=\"data row16 col26\" >0.141</td>\n",
       "                        <td id=\"T_ac1a9_row16_col27\" class=\"data row16 col27\" >-0.014</td>\n",
       "                        <td id=\"T_ac1a9_row16_col28\" class=\"data row16 col28\" >-0.009</td>\n",
       "            </tr>\n",
       "            <tr>\n",
       "                        <th id=\"T_ac1a9_level0_row17\" class=\"row_heading level0 row17\" >days</th>\n",
       "                        <td id=\"T_ac1a9_row17_col0\" class=\"data row17 col0\" >-0.035</td>\n",
       "                        <td id=\"T_ac1a9_row17_col1\" class=\"data row17 col1\" >0.020</td>\n",
       "                        <td id=\"T_ac1a9_row17_col2\" class=\"data row17 col2\" >-0.016</td>\n",
       "                        <td id=\"T_ac1a9_row17_col3\" class=\"data row17 col3\" >-0.020</td>\n",
       "                        <td id=\"T_ac1a9_row17_col4\" class=\"data row17 col4\" >-0.025</td>\n",
       "                        <td id=\"T_ac1a9_row17_col5\" class=\"data row17 col5\" >0.010</td>\n",
       "                        <td id=\"T_ac1a9_row17_col6\" class=\"data row17 col6\" >-0.062</td>\n",
       "                        <td id=\"T_ac1a9_row17_col7\" class=\"data row17 col7\" >-0.010</td>\n",
       "                        <td id=\"T_ac1a9_row17_col8\" class=\"data row17 col8\" >0.016</td>\n",
       "                        <td id=\"T_ac1a9_row17_col9\" class=\"data row17 col9\" >0.126</td>\n",
       "                        <td id=\"T_ac1a9_row17_col10\" class=\"data row17 col10\" >0.131</td>\n",
       "                        <td id=\"T_ac1a9_row17_col11\" class=\"data row17 col11\" >0.006</td>\n",
       "                        <td id=\"T_ac1a9_row17_col12\" class=\"data row17 col12\" >-0.004</td>\n",
       "                        <td id=\"T_ac1a9_row17_col13\" class=\"data row17 col13\" >0.012</td>\n",
       "                        <td id=\"T_ac1a9_row17_col14\" class=\"data row17 col14\" >-0.005</td>\n",
       "                        <td id=\"T_ac1a9_row17_col15\" class=\"data row17 col15\" >-0.060</td>\n",
       "                        <td id=\"T_ac1a9_row17_col16\" class=\"data row17 col16\" >0.964</td>\n",
       "                        <td id=\"T_ac1a9_row17_col17\" class=\"data row17 col17\" >1.000</td>\n",
       "                        <td id=\"T_ac1a9_row17_col18\" class=\"data row17 col18\" >-0.053</td>\n",
       "                        <td id=\"T_ac1a9_row17_col19\" class=\"data row17 col19\" >-0.015</td>\n",
       "                        <td id=\"T_ac1a9_row17_col20\" class=\"data row17 col20\" >-0.055</td>\n",
       "                        <td id=\"T_ac1a9_row17_col21\" class=\"data row17 col21\" >-0.005</td>\n",
       "                        <td id=\"T_ac1a9_row17_col22\" class=\"data row17 col22\" >0.004</td>\n",
       "                        <td id=\"T_ac1a9_row17_col23\" class=\"data row17 col23\" >0.004</td>\n",
       "                        <td id=\"T_ac1a9_row17_col24\" class=\"data row17 col24\" >-0.006</td>\n",
       "                        <td id=\"T_ac1a9_row17_col25\" class=\"data row17 col25\" >-0.000</td>\n",
       "                        <td id=\"T_ac1a9_row17_col26\" class=\"data row17 col26\" >0.136</td>\n",
       "                        <td id=\"T_ac1a9_row17_col27\" class=\"data row17 col27\" >-0.014</td>\n",
       "                        <td id=\"T_ac1a9_row17_col28\" class=\"data row17 col28\" >-0.008</td>\n",
       "            </tr>\n",
       "            <tr>\n",
       "                        <th id=\"T_ac1a9_level0_row18\" class=\"row_heading level0 row18\" >bki_age_reg</th>\n",
       "                        <td id=\"T_ac1a9_row18_col0\" class=\"data row18 col0\" >-0.132</td>\n",
       "                        <td id=\"T_ac1a9_row18_col1\" class=\"data row18 col1\" >0.180</td>\n",
       "                        <td id=\"T_ac1a9_row18_col2\" class=\"data row18 col2\" >-0.076</td>\n",
       "                        <td id=\"T_ac1a9_row18_col3\" class=\"data row18 col3\" >-0.093</td>\n",
       "                        <td id=\"T_ac1a9_row18_col4\" class=\"data row18 col4\" >0.166</td>\n",
       "                        <td id=\"T_ac1a9_row18_col5\" class=\"data row18 col5\" >-0.049</td>\n",
       "                        <td id=\"T_ac1a9_row18_col6\" class=\"data row18 col6\" >0.732</td>\n",
       "                        <td id=\"T_ac1a9_row18_col7\" class=\"data row18 col7\" >0.125</td>\n",
       "                        <td id=\"T_ac1a9_row18_col8\" class=\"data row18 col8\" >-0.620</td>\n",
       "                        <td id=\"T_ac1a9_row18_col9\" class=\"data row18 col9\" >-0.091</td>\n",
       "                        <td id=\"T_ac1a9_row18_col10\" class=\"data row18 col10\" >-0.107</td>\n",
       "                        <td id=\"T_ac1a9_row18_col11\" class=\"data row18 col11\" >-0.196</td>\n",
       "                        <td id=\"T_ac1a9_row18_col12\" class=\"data row18 col12\" >0.080</td>\n",
       "                        <td id=\"T_ac1a9_row18_col13\" class=\"data row18 col13\" >-0.081</td>\n",
       "                        <td id=\"T_ac1a9_row18_col14\" class=\"data row18 col14\" >-0.177</td>\n",
       "                        <td id=\"T_ac1a9_row18_col15\" class=\"data row18 col15\" >0.270</td>\n",
       "                        <td id=\"T_ac1a9_row18_col16\" class=\"data row18 col16\" >-0.049</td>\n",
       "                        <td id=\"T_ac1a9_row18_col17\" class=\"data row18 col17\" >-0.053</td>\n",
       "                        <td id=\"T_ac1a9_row18_col18\" class=\"data row18 col18\" >1.000</td>\n",
       "                        <td id=\"T_ac1a9_row18_col19\" class=\"data row18 col19\" >0.037</td>\n",
       "                        <td id=\"T_ac1a9_row18_col20\" class=\"data row18 col20\" >0.059</td>\n",
       "                        <td id=\"T_ac1a9_row18_col21\" class=\"data row18 col21\" >-0.161</td>\n",
       "                        <td id=\"T_ac1a9_row18_col22\" class=\"data row18 col22\" >-0.078</td>\n",
       "                        <td id=\"T_ac1a9_row18_col23\" class=\"data row18 col23\" >-0.106</td>\n",
       "                        <td id=\"T_ac1a9_row18_col24\" class=\"data row18 col24\" >-0.131</td>\n",
       "                        <td id=\"T_ac1a9_row18_col25\" class=\"data row18 col25\" >-0.061</td>\n",
       "                        <td id=\"T_ac1a9_row18_col26\" class=\"data row18 col26\" >-0.101</td>\n",
       "                        <td id=\"T_ac1a9_row18_col27\" class=\"data row18 col27\" >-0.153</td>\n",
       "                        <td id=\"T_ac1a9_row18_col28\" class=\"data row18 col28\" >0.144</td>\n",
       "            </tr>\n",
       "            <tr>\n",
       "                        <th id=\"T_ac1a9_level0_row19\" class=\"row_heading level0 row19\" >mult_sna_ftime</th>\n",
       "                        <td id=\"T_ac1a9_row19_col0\" class=\"data row19 col0\" >0.018</td>\n",
       "                        <td id=\"T_ac1a9_row19_col1\" class=\"data row19 col1\" >-0.019</td>\n",
       "                        <td id=\"T_ac1a9_row19_col2\" class=\"data row19 col2\" >-0.000</td>\n",
       "                        <td id=\"T_ac1a9_row19_col3\" class=\"data row19 col3\" >-0.002</td>\n",
       "                        <td id=\"T_ac1a9_row19_col4\" class=\"data row19 col4\" >0.019</td>\n",
       "                        <td id=\"T_ac1a9_row19_col5\" class=\"data row19 col5\" >-0.020</td>\n",
       "                        <td id=\"T_ac1a9_row19_col6\" class=\"data row19 col6\" >0.037</td>\n",
       "                        <td id=\"T_ac1a9_row19_col7\" class=\"data row19 col7\" >0.026</td>\n",
       "                        <td id=\"T_ac1a9_row19_col8\" class=\"data row19 col8\" >-0.020</td>\n",
       "                        <td id=\"T_ac1a9_row19_col9\" class=\"data row19 col9\" >0.088</td>\n",
       "                        <td id=\"T_ac1a9_row19_col10\" class=\"data row19 col10\" >0.082</td>\n",
       "                        <td id=\"T_ac1a9_row19_col11\" class=\"data row19 col11\" >0.004</td>\n",
       "                        <td id=\"T_ac1a9_row19_col12\" class=\"data row19 col12\" >0.615</td>\n",
       "                        <td id=\"T_ac1a9_row19_col13\" class=\"data row19 col13\" >0.260</td>\n",
       "                        <td id=\"T_ac1a9_row19_col14\" class=\"data row19 col14\" >-0.060</td>\n",
       "                        <td id=\"T_ac1a9_row19_col15\" class=\"data row19 col15\" >0.090</td>\n",
       "                        <td id=\"T_ac1a9_row19_col16\" class=\"data row19 col16\" >-0.012</td>\n",
       "                        <td id=\"T_ac1a9_row19_col17\" class=\"data row19 col17\" >-0.015</td>\n",
       "                        <td id=\"T_ac1a9_row19_col18\" class=\"data row19 col18\" >0.037</td>\n",
       "                        <td id=\"T_ac1a9_row19_col19\" class=\"data row19 col19\" >1.000</td>\n",
       "                        <td id=\"T_ac1a9_row19_col20\" class=\"data row19 col20\" >0.026</td>\n",
       "                        <td id=\"T_ac1a9_row19_col21\" class=\"data row19 col21\" >-0.039</td>\n",
       "                        <td id=\"T_ac1a9_row19_col22\" class=\"data row19 col22\" >-0.017</td>\n",
       "                        <td id=\"T_ac1a9_row19_col23\" class=\"data row19 col23\" >-0.026</td>\n",
       "                        <td id=\"T_ac1a9_row19_col24\" class=\"data row19 col24\" >-0.034</td>\n",
       "                        <td id=\"T_ac1a9_row19_col25\" class=\"data row19 col25\" >-0.010</td>\n",
       "                        <td id=\"T_ac1a9_row19_col26\" class=\"data row19 col26\" >0.092</td>\n",
       "                        <td id=\"T_ac1a9_row19_col27\" class=\"data row19 col27\" >-0.038</td>\n",
       "                        <td id=\"T_ac1a9_row19_col28\" class=\"data row19 col28\" >0.025</td>\n",
       "            </tr>\n",
       "            <tr>\n",
       "                        <th id=\"T_ac1a9_level0_row20\" class=\"row_heading level0 row20\" >edu_and_income</th>\n",
       "                        <td id=\"T_ac1a9_row20_col0\" class=\"data row20 col0\" >0.024</td>\n",
       "                        <td id=\"T_ac1a9_row20_col1\" class=\"data row20 col1\" >0.132</td>\n",
       "                        <td id=\"T_ac1a9_row20_col2\" class=\"data row20 col2\" >-0.059</td>\n",
       "                        <td id=\"T_ac1a9_row20_col3\" class=\"data row20 col3\" >-0.084</td>\n",
       "                        <td id=\"T_ac1a9_row20_col4\" class=\"data row20 col4\" >0.008</td>\n",
       "                        <td id=\"T_ac1a9_row20_col5\" class=\"data row20 col5\" >-0.149</td>\n",
       "                        <td id=\"T_ac1a9_row20_col6\" class=\"data row20 col6\" >-0.006</td>\n",
       "                        <td id=\"T_ac1a9_row20_col7\" class=\"data row20 col7\" >0.007</td>\n",
       "                        <td id=\"T_ac1a9_row20_col8\" class=\"data row20 col8\" >-0.054</td>\n",
       "                        <td id=\"T_ac1a9_row20_col9\" class=\"data row20 col9\" >0.016</td>\n",
       "                        <td id=\"T_ac1a9_row20_col10\" class=\"data row20 col10\" >0.014</td>\n",
       "                        <td id=\"T_ac1a9_row20_col11\" class=\"data row20 col11\" >-0.092</td>\n",
       "                        <td id=\"T_ac1a9_row20_col12\" class=\"data row20 col12\" >0.074</td>\n",
       "                        <td id=\"T_ac1a9_row20_col13\" class=\"data row20 col13\" >-0.071</td>\n",
       "                        <td id=\"T_ac1a9_row20_col14\" class=\"data row20 col14\" >-0.107</td>\n",
       "                        <td id=\"T_ac1a9_row20_col15\" class=\"data row20 col15\" >0.101</td>\n",
       "                        <td id=\"T_ac1a9_row20_col16\" class=\"data row20 col16\" >-0.054</td>\n",
       "                        <td id=\"T_ac1a9_row20_col17\" class=\"data row20 col17\" >-0.055</td>\n",
       "                        <td id=\"T_ac1a9_row20_col18\" class=\"data row20 col18\" >0.059</td>\n",
       "                        <td id=\"T_ac1a9_row20_col19\" class=\"data row20 col19\" >0.026</td>\n",
       "                        <td id=\"T_ac1a9_row20_col20\" class=\"data row20 col20\" >1.000</td>\n",
       "                        <td id=\"T_ac1a9_row20_col21\" class=\"data row20 col21\" >-0.160</td>\n",
       "                        <td id=\"T_ac1a9_row20_col22\" class=\"data row20 col22\" >-0.066</td>\n",
       "                        <td id=\"T_ac1a9_row20_col23\" class=\"data row20 col23\" >-0.099</td>\n",
       "                        <td id=\"T_ac1a9_row20_col24\" class=\"data row20 col24\" >-0.081</td>\n",
       "                        <td id=\"T_ac1a9_row20_col25\" class=\"data row20 col25\" >-0.096</td>\n",
       "                        <td id=\"T_ac1a9_row20_col26\" class=\"data row20 col26\" >0.016</td>\n",
       "                        <td id=\"T_ac1a9_row20_col27\" class=\"data row20 col27\" >-0.069</td>\n",
       "                        <td id=\"T_ac1a9_row20_col28\" class=\"data row20 col28\" >0.022</td>\n",
       "            </tr>\n",
       "            <tr>\n",
       "                        <th id=\"T_ac1a9_level0_row21\" class=\"row_heading level0 row21\" >success_client</th>\n",
       "                        <td id=\"T_ac1a9_row21_col0\" class=\"data row21 col0\" >0.160</td>\n",
       "                        <td id=\"T_ac1a9_row21_col1\" class=\"data row21 col1\" >-0.060</td>\n",
       "                        <td id=\"T_ac1a9_row21_col2\" class=\"data row21 col2\" >0.611</td>\n",
       "                        <td id=\"T_ac1a9_row21_col3\" class=\"data row21 col3\" >0.474</td>\n",
       "                        <td id=\"T_ac1a9_row21_col4\" class=\"data row21 col4\" >-0.058</td>\n",
       "                        <td id=\"T_ac1a9_row21_col5\" class=\"data row21 col5\" >0.525</td>\n",
       "                        <td id=\"T_ac1a9_row21_col6\" class=\"data row21 col6\" >-0.043</td>\n",
       "                        <td id=\"T_ac1a9_row21_col7\" class=\"data row21 col7\" >-0.023</td>\n",
       "                        <td id=\"T_ac1a9_row21_col8\" class=\"data row21 col8\" >0.185</td>\n",
       "                        <td id=\"T_ac1a9_row21_col9\" class=\"data row21 col9\" >-0.015</td>\n",
       "                        <td id=\"T_ac1a9_row21_col10\" class=\"data row21 col10\" >-0.007</td>\n",
       "                        <td id=\"T_ac1a9_row21_col11\" class=\"data row21 col11\" >0.321</td>\n",
       "                        <td id=\"T_ac1a9_row21_col12\" class=\"data row21 col12\" >-0.153</td>\n",
       "                        <td id=\"T_ac1a9_row21_col13\" class=\"data row21 col13\" >0.169</td>\n",
       "                        <td id=\"T_ac1a9_row21_col14\" class=\"data row21 col14\" >0.580</td>\n",
       "                        <td id=\"T_ac1a9_row21_col15\" class=\"data row21 col15\" >-0.125</td>\n",
       "                        <td id=\"T_ac1a9_row21_col16\" class=\"data row21 col16\" >-0.004</td>\n",
       "                        <td id=\"T_ac1a9_row21_col17\" class=\"data row21 col17\" >-0.005</td>\n",
       "                        <td id=\"T_ac1a9_row21_col18\" class=\"data row21 col18\" >-0.161</td>\n",
       "                        <td id=\"T_ac1a9_row21_col19\" class=\"data row21 col19\" >-0.039</td>\n",
       "                        <td id=\"T_ac1a9_row21_col20\" class=\"data row21 col20\" >-0.160</td>\n",
       "                        <td id=\"T_ac1a9_row21_col21\" class=\"data row21 col21\" >1.000</td>\n",
       "                        <td id=\"T_ac1a9_row21_col22\" class=\"data row21 col22\" >0.597</td>\n",
       "                        <td id=\"T_ac1a9_row21_col23\" class=\"data row21 col23\" >0.583</td>\n",
       "                        <td id=\"T_ac1a9_row21_col24\" class=\"data row21 col24\" >0.668</td>\n",
       "                        <td id=\"T_ac1a9_row21_col25\" class=\"data row21 col25\" >0.647</td>\n",
       "                        <td id=\"T_ac1a9_row21_col26\" class=\"data row21 col26\" >-0.014</td>\n",
       "                        <td id=\"T_ac1a9_row21_col27\" class=\"data row21 col27\" >0.470</td>\n",
       "                        <td id=\"T_ac1a9_row21_col28\" class=\"data row21 col28\" >-0.030</td>\n",
       "            </tr>\n",
       "            <tr>\n",
       "                        <th id=\"T_ac1a9_level0_row22\" class=\"row_heading level0 row22\" >very_success_client</th>\n",
       "                        <td id=\"T_ac1a9_row22_col0\" class=\"data row22 col0\" >0.042</td>\n",
       "                        <td id=\"T_ac1a9_row22_col1\" class=\"data row22 col1\" >-0.019</td>\n",
       "                        <td id=\"T_ac1a9_row22_col2\" class=\"data row22 col2\" >0.157</td>\n",
       "                        <td id=\"T_ac1a9_row22_col3\" class=\"data row22 col3\" >0.166</td>\n",
       "                        <td id=\"T_ac1a9_row22_col4\" class=\"data row22 col4\" >-0.027</td>\n",
       "                        <td id=\"T_ac1a9_row22_col5\" class=\"data row22 col5\" >0.249</td>\n",
       "                        <td id=\"T_ac1a9_row22_col6\" class=\"data row22 col6\" >-0.018</td>\n",
       "                        <td id=\"T_ac1a9_row22_col7\" class=\"data row22 col7\" >-0.010</td>\n",
       "                        <td id=\"T_ac1a9_row22_col8\" class=\"data row22 col8\" >0.093</td>\n",
       "                        <td id=\"T_ac1a9_row22_col9\" class=\"data row22 col9\" >0.006</td>\n",
       "                        <td id=\"T_ac1a9_row22_col10\" class=\"data row22 col10\" >0.012</td>\n",
       "                        <td id=\"T_ac1a9_row22_col11\" class=\"data row22 col11\" >0.118</td>\n",
       "                        <td id=\"T_ac1a9_row22_col12\" class=\"data row22 col12\" >-0.057</td>\n",
       "                        <td id=\"T_ac1a9_row22_col13\" class=\"data row22 col13\" >0.065</td>\n",
       "                        <td id=\"T_ac1a9_row22_col14\" class=\"data row22 col14\" >0.276</td>\n",
       "                        <td id=\"T_ac1a9_row22_col15\" class=\"data row22 col15\" >-0.046</td>\n",
       "                        <td id=\"T_ac1a9_row22_col16\" class=\"data row22 col16\" >0.004</td>\n",
       "                        <td id=\"T_ac1a9_row22_col17\" class=\"data row22 col17\" >0.004</td>\n",
       "                        <td id=\"T_ac1a9_row22_col18\" class=\"data row22 col18\" >-0.078</td>\n",
       "                        <td id=\"T_ac1a9_row22_col19\" class=\"data row22 col19\" >-0.017</td>\n",
       "                        <td id=\"T_ac1a9_row22_col20\" class=\"data row22 col20\" >-0.066</td>\n",
       "                        <td id=\"T_ac1a9_row22_col21\" class=\"data row22 col21\" >0.597</td>\n",
       "                        <td id=\"T_ac1a9_row22_col22\" class=\"data row22 col22\" >1.000</td>\n",
       "                        <td id=\"T_ac1a9_row22_col23\" class=\"data row22 col23\" >0.670</td>\n",
       "                        <td id=\"T_ac1a9_row22_col24\" class=\"data row22 col24\" >0.443</td>\n",
       "                        <td id=\"T_ac1a9_row22_col25\" class=\"data row22 col25\" >0.473</td>\n",
       "                        <td id=\"T_ac1a9_row22_col26\" class=\"data row22 col26\" >0.008</td>\n",
       "                        <td id=\"T_ac1a9_row22_col27\" class=\"data row22 col27\" >0.242</td>\n",
       "                        <td id=\"T_ac1a9_row22_col28\" class=\"data row22 col28\" >-0.012</td>\n",
       "            </tr>\n",
       "            <tr>\n",
       "                        <th id=\"T_ac1a9_level0_row23\" class=\"row_heading level0 row23\" >fpassp_and_gwork</th>\n",
       "                        <td id=\"T_ac1a9_row23_col0\" class=\"data row23 col0\" >0.023</td>\n",
       "                        <td id=\"T_ac1a9_row23_col1\" class=\"data row23 col1\" >-0.038</td>\n",
       "                        <td id=\"T_ac1a9_row23_col2\" class=\"data row23 col2\" >0.051</td>\n",
       "                        <td id=\"T_ac1a9_row23_col3\" class=\"data row23 col3\" >0.076</td>\n",
       "                        <td id=\"T_ac1a9_row23_col4\" class=\"data row23 col4\" >-0.030</td>\n",
       "                        <td id=\"T_ac1a9_row23_col5\" class=\"data row23 col5\" >0.372</td>\n",
       "                        <td id=\"T_ac1a9_row23_col6\" class=\"data row23 col6\" >-0.014</td>\n",
       "                        <td id=\"T_ac1a9_row23_col7\" class=\"data row23 col7\" >-0.004</td>\n",
       "                        <td id=\"T_ac1a9_row23_col8\" class=\"data row23 col8\" >0.136</td>\n",
       "                        <td id=\"T_ac1a9_row23_col9\" class=\"data row23 col9\" >0.015</td>\n",
       "                        <td id=\"T_ac1a9_row23_col10\" class=\"data row23 col10\" >0.018</td>\n",
       "                        <td id=\"T_ac1a9_row23_col11\" class=\"data row23 col11\" >0.127</td>\n",
       "                        <td id=\"T_ac1a9_row23_col12\" class=\"data row23 col12\" >-0.083</td>\n",
       "                        <td id=\"T_ac1a9_row23_col13\" class=\"data row23 col13\" >0.091</td>\n",
       "                        <td id=\"T_ac1a9_row23_col14\" class=\"data row23 col14\" >0.412</td>\n",
       "                        <td id=\"T_ac1a9_row23_col15\" class=\"data row23 col15\" >-0.068</td>\n",
       "                        <td id=\"T_ac1a9_row23_col16\" class=\"data row23 col16\" >0.003</td>\n",
       "                        <td id=\"T_ac1a9_row23_col17\" class=\"data row23 col17\" >0.004</td>\n",
       "                        <td id=\"T_ac1a9_row23_col18\" class=\"data row23 col18\" >-0.106</td>\n",
       "                        <td id=\"T_ac1a9_row23_col19\" class=\"data row23 col19\" >-0.026</td>\n",
       "                        <td id=\"T_ac1a9_row23_col20\" class=\"data row23 col20\" >-0.099</td>\n",
       "                        <td id=\"T_ac1a9_row23_col21\" class=\"data row23 col21\" >0.583</td>\n",
       "                        <td id=\"T_ac1a9_row23_col22\" class=\"data row23 col22\" >0.670</td>\n",
       "                        <td id=\"T_ac1a9_row23_col23\" class=\"data row23 col23\" >1.000</td>\n",
       "                        <td id=\"T_ac1a9_row23_col24\" class=\"data row23 col24\" >0.281</td>\n",
       "                        <td id=\"T_ac1a9_row23_col25\" class=\"data row23 col25\" >0.302</td>\n",
       "                        <td id=\"T_ac1a9_row23_col26\" class=\"data row23 col26\" >0.017</td>\n",
       "                        <td id=\"T_ac1a9_row23_col27\" class=\"data row23 col27\" >0.280</td>\n",
       "                        <td id=\"T_ac1a9_row23_col28\" class=\"data row23 col28\" >-0.008</td>\n",
       "            </tr>\n",
       "            <tr>\n",
       "                        <th id=\"T_ac1a9_level0_row24\" class=\"row_heading level0 row24\" >fpassp_and_car</th>\n",
       "                        <td id=\"T_ac1a9_row24_col0\" class=\"data row24 col0\" >0.108</td>\n",
       "                        <td id=\"T_ac1a9_row24_col1\" class=\"data row24 col1\" >-0.007</td>\n",
       "                        <td id=\"T_ac1a9_row24_col2\" class=\"data row24 col2\" >0.355</td>\n",
       "                        <td id=\"T_ac1a9_row24_col3\" class=\"data row24 col3\" >0.338</td>\n",
       "                        <td id=\"T_ac1a9_row24_col4\" class=\"data row24 col4\" >-0.040</td>\n",
       "                        <td id=\"T_ac1a9_row24_col5\" class=\"data row24 col5\" >0.038</td>\n",
       "                        <td id=\"T_ac1a9_row24_col6\" class=\"data row24 col6\" >-0.038</td>\n",
       "                        <td id=\"T_ac1a9_row24_col7\" class=\"data row24 col7\" >-0.016</td>\n",
       "                        <td id=\"T_ac1a9_row24_col8\" class=\"data row24 col8\" >0.158</td>\n",
       "                        <td id=\"T_ac1a9_row24_col9\" class=\"data row24 col9\" >0.007</td>\n",
       "                        <td id=\"T_ac1a9_row24_col10\" class=\"data row24 col10\" >0.011</td>\n",
       "                        <td id=\"T_ac1a9_row24_col11\" class=\"data row24 col11\" >0.248</td>\n",
       "                        <td id=\"T_ac1a9_row24_col12\" class=\"data row24 col12\" >-0.119</td>\n",
       "                        <td id=\"T_ac1a9_row24_col13\" class=\"data row24 col13\" >0.134</td>\n",
       "                        <td id=\"T_ac1a9_row24_col14\" class=\"data row24 col14\" >0.623</td>\n",
       "                        <td id=\"T_ac1a9_row24_col15\" class=\"data row24 col15\" >-0.091</td>\n",
       "                        <td id=\"T_ac1a9_row24_col16\" class=\"data row24 col16\" >-0.006</td>\n",
       "                        <td id=\"T_ac1a9_row24_col17\" class=\"data row24 col17\" >-0.006</td>\n",
       "                        <td id=\"T_ac1a9_row24_col18\" class=\"data row24 col18\" >-0.131</td>\n",
       "                        <td id=\"T_ac1a9_row24_col19\" class=\"data row24 col19\" >-0.034</td>\n",
       "                        <td id=\"T_ac1a9_row24_col20\" class=\"data row24 col20\" >-0.081</td>\n",
       "                        <td id=\"T_ac1a9_row24_col21\" class=\"data row24 col21\" >0.668</td>\n",
       "                        <td id=\"T_ac1a9_row24_col22\" class=\"data row24 col22\" >0.443</td>\n",
       "                        <td id=\"T_ac1a9_row24_col23\" class=\"data row24 col23\" >0.281</td>\n",
       "                        <td id=\"T_ac1a9_row24_col24\" class=\"data row24 col24\" >1.000</td>\n",
       "                        <td id=\"T_ac1a9_row24_col25\" class=\"data row24 col25\" >0.178</td>\n",
       "                        <td id=\"T_ac1a9_row24_col26\" class=\"data row24 col26\" >0.007</td>\n",
       "                        <td id=\"T_ac1a9_row24_col27\" class=\"data row24 col27\" >0.571</td>\n",
       "                        <td id=\"T_ac1a9_row24_col28\" class=\"data row24 col28\" >-0.017</td>\n",
       "            </tr>\n",
       "            <tr>\n",
       "                        <th id=\"T_ac1a9_level0_row25\" class=\"row_heading level0 row25\" >gwork_and_car</th>\n",
       "                        <td id=\"T_ac1a9_row25_col0\" class=\"data row25 col0\" >0.057</td>\n",
       "                        <td id=\"T_ac1a9_row25_col1\" class=\"data row25 col1\" >-0.040</td>\n",
       "                        <td id=\"T_ac1a9_row25_col2\" class=\"data row25 col2\" >0.332</td>\n",
       "                        <td id=\"T_ac1a9_row25_col3\" class=\"data row25 col3\" >0.250</td>\n",
       "                        <td id=\"T_ac1a9_row25_col4\" class=\"data row25 col4\" >-0.027</td>\n",
       "                        <td id=\"T_ac1a9_row25_col5\" class=\"data row25 col5\" >0.527</td>\n",
       "                        <td id=\"T_ac1a9_row25_col6\" class=\"data row25 col6\" >-0.019</td>\n",
       "                        <td id=\"T_ac1a9_row25_col7\" class=\"data row25 col7\" >-0.008</td>\n",
       "                        <td id=\"T_ac1a9_row25_col8\" class=\"data row25 col8\" >0.058</td>\n",
       "                        <td id=\"T_ac1a9_row25_col9\" class=\"data row25 col9\" >-0.015</td>\n",
       "                        <td id=\"T_ac1a9_row25_col10\" class=\"data row25 col10\" >-0.007</td>\n",
       "                        <td id=\"T_ac1a9_row25_col11\" class=\"data row25 col11\" >0.112</td>\n",
       "                        <td id=\"T_ac1a9_row25_col12\" class=\"data row25 col12\" >-0.049</td>\n",
       "                        <td id=\"T_ac1a9_row25_col13\" class=\"data row25 col13\" >0.057</td>\n",
       "                        <td id=\"T_ac1a9_row25_col14\" class=\"data row25 col14\" >0.072</td>\n",
       "                        <td id=\"T_ac1a9_row25_col15\" class=\"data row25 col15\" >-0.053</td>\n",
       "                        <td id=\"T_ac1a9_row25_col16\" class=\"data row25 col16\" >-0.000</td>\n",
       "                        <td id=\"T_ac1a9_row25_col17\" class=\"data row25 col17\" >-0.000</td>\n",
       "                        <td id=\"T_ac1a9_row25_col18\" class=\"data row25 col18\" >-0.061</td>\n",
       "                        <td id=\"T_ac1a9_row25_col19\" class=\"data row25 col19\" >-0.010</td>\n",
       "                        <td id=\"T_ac1a9_row25_col20\" class=\"data row25 col20\" >-0.096</td>\n",
       "                        <td id=\"T_ac1a9_row25_col21\" class=\"data row25 col21\" >0.647</td>\n",
       "                        <td id=\"T_ac1a9_row25_col22\" class=\"data row25 col22\" >0.473</td>\n",
       "                        <td id=\"T_ac1a9_row25_col23\" class=\"data row25 col23\" >0.302</td>\n",
       "                        <td id=\"T_ac1a9_row25_col24\" class=\"data row25 col24\" >0.178</td>\n",
       "                        <td id=\"T_ac1a9_row25_col25\" class=\"data row25 col25\" >1.000</td>\n",
       "                        <td id=\"T_ac1a9_row25_col26\" class=\"data row25 col26\" >-0.013</td>\n",
       "                        <td id=\"T_ac1a9_row25_col27\" class=\"data row25 col27\" >0.073</td>\n",
       "                        <td id=\"T_ac1a9_row25_col28\" class=\"data row25 col28\" >-0.013</td>\n",
       "            </tr>\n",
       "            <tr>\n",
       "                        <th id=\"T_ac1a9_level0_row26\" class=\"row_heading level0 row26\" >home_and_work</th>\n",
       "                        <td id=\"T_ac1a9_row26_col0\" class=\"data row26 col0\" >0.051</td>\n",
       "                        <td id=\"T_ac1a9_row26_col1\" class=\"data row26 col1\" >0.003</td>\n",
       "                        <td id=\"T_ac1a9_row26_col2\" class=\"data row26 col2\" >-0.035</td>\n",
       "                        <td id=\"T_ac1a9_row26_col3\" class=\"data row26 col3\" >-0.027</td>\n",
       "                        <td id=\"T_ac1a9_row26_col4\" class=\"data row26 col4\" >0.031</td>\n",
       "                        <td id=\"T_ac1a9_row26_col5\" class=\"data row26 col5\" >-0.022</td>\n",
       "                        <td id=\"T_ac1a9_row26_col6\" class=\"data row26 col6\" >0.029</td>\n",
       "                        <td id=\"T_ac1a9_row26_col7\" class=\"data row26 col7\" >0.019</td>\n",
       "                        <td id=\"T_ac1a9_row26_col8\" class=\"data row26 col8\" >0.198</td>\n",
       "                        <td id=\"T_ac1a9_row26_col9\" class=\"data row26 col9\" >0.968</td>\n",
       "                        <td id=\"T_ac1a9_row26_col10\" class=\"data row26 col10\" >0.883</td>\n",
       "                        <td id=\"T_ac1a9_row26_col11\" class=\"data row26 col11\" >0.032</td>\n",
       "                        <td id=\"T_ac1a9_row26_col12\" class=\"data row26 col12\" >0.159</td>\n",
       "                        <td id=\"T_ac1a9_row26_col13\" class=\"data row26 col13\" >-0.087</td>\n",
       "                        <td id=\"T_ac1a9_row26_col14\" class=\"data row26 col14\" >0.017</td>\n",
       "                        <td id=\"T_ac1a9_row26_col15\" class=\"data row26 col15\" >0.139</td>\n",
       "                        <td id=\"T_ac1a9_row26_col16\" class=\"data row26 col16\" >0.141</td>\n",
       "                        <td id=\"T_ac1a9_row26_col17\" class=\"data row26 col17\" >0.136</td>\n",
       "                        <td id=\"T_ac1a9_row26_col18\" class=\"data row26 col18\" >-0.101</td>\n",
       "                        <td id=\"T_ac1a9_row26_col19\" class=\"data row26 col19\" >0.092</td>\n",
       "                        <td id=\"T_ac1a9_row26_col20\" class=\"data row26 col20\" >0.016</td>\n",
       "                        <td id=\"T_ac1a9_row26_col21\" class=\"data row26 col21\" >-0.014</td>\n",
       "                        <td id=\"T_ac1a9_row26_col22\" class=\"data row26 col22\" >0.008</td>\n",
       "                        <td id=\"T_ac1a9_row26_col23\" class=\"data row26 col23\" >0.017</td>\n",
       "                        <td id=\"T_ac1a9_row26_col24\" class=\"data row26 col24\" >0.007</td>\n",
       "                        <td id=\"T_ac1a9_row26_col25\" class=\"data row26 col25\" >-0.013</td>\n",
       "                        <td id=\"T_ac1a9_row26_col26\" class=\"data row26 col26\" >1.000</td>\n",
       "                        <td id=\"T_ac1a9_row26_col27\" class=\"data row26 col27\" >0.021</td>\n",
       "                        <td id=\"T_ac1a9_row26_col28\" class=\"data row26 col28\" >0.020</td>\n",
       "            </tr>\n",
       "            <tr>\n",
       "                        <th id=\"T_ac1a9_level0_row27\" class=\"row_heading level0 row27\" >sex_and_fpassp</th>\n",
       "                        <td id=\"T_ac1a9_row27_col0\" class=\"data row27 col0\" >0.298</td>\n",
       "                        <td id=\"T_ac1a9_row27_col1\" class=\"data row27 col1\" >-0.034</td>\n",
       "                        <td id=\"T_ac1a9_row27_col2\" class=\"data row27 col2\" >0.129</td>\n",
       "                        <td id=\"T_ac1a9_row27_col3\" class=\"data row27 col3\" >0.154</td>\n",
       "                        <td id=\"T_ac1a9_row27_col4\" class=\"data row27 col4\" >-0.024</td>\n",
       "                        <td id=\"T_ac1a9_row27_col5\" class=\"data row27 col5\" >0.026</td>\n",
       "                        <td id=\"T_ac1a9_row27_col6\" class=\"data row27 col6\" >-0.035</td>\n",
       "                        <td id=\"T_ac1a9_row27_col7\" class=\"data row27 col7\" >-0.010</td>\n",
       "                        <td id=\"T_ac1a9_row27_col8\" class=\"data row27 col8\" >0.192</td>\n",
       "                        <td id=\"T_ac1a9_row27_col9\" class=\"data row27 col9\" >0.020</td>\n",
       "                        <td id=\"T_ac1a9_row27_col10\" class=\"data row27 col10\" >0.025</td>\n",
       "                        <td id=\"T_ac1a9_row27_col11\" class=\"data row27 col11\" >0.242</td>\n",
       "                        <td id=\"T_ac1a9_row27_col12\" class=\"data row27 col12\" >-0.127</td>\n",
       "                        <td id=\"T_ac1a9_row27_col13\" class=\"data row27 col13\" >0.137</td>\n",
       "                        <td id=\"T_ac1a9_row27_col14\" class=\"data row27 col14\" >0.716</td>\n",
       "                        <td id=\"T_ac1a9_row27_col15\" class=\"data row27 col15\" >-0.073</td>\n",
       "                        <td id=\"T_ac1a9_row27_col16\" class=\"data row27 col16\" >-0.014</td>\n",
       "                        <td id=\"T_ac1a9_row27_col17\" class=\"data row27 col17\" >-0.014</td>\n",
       "                        <td id=\"T_ac1a9_row27_col18\" class=\"data row27 col18\" >-0.153</td>\n",
       "                        <td id=\"T_ac1a9_row27_col19\" class=\"data row27 col19\" >-0.038</td>\n",
       "                        <td id=\"T_ac1a9_row27_col20\" class=\"data row27 col20\" >-0.069</td>\n",
       "                        <td id=\"T_ac1a9_row27_col21\" class=\"data row27 col21\" >0.470</td>\n",
       "                        <td id=\"T_ac1a9_row27_col22\" class=\"data row27 col22\" >0.242</td>\n",
       "                        <td id=\"T_ac1a9_row27_col23\" class=\"data row27 col23\" >0.280</td>\n",
       "                        <td id=\"T_ac1a9_row27_col24\" class=\"data row27 col24\" >0.571</td>\n",
       "                        <td id=\"T_ac1a9_row27_col25\" class=\"data row27 col25\" >0.073</td>\n",
       "                        <td id=\"T_ac1a9_row27_col26\" class=\"data row27 col26\" >0.021</td>\n",
       "                        <td id=\"T_ac1a9_row27_col27\" class=\"data row27 col27\" >1.000</td>\n",
       "                        <td id=\"T_ac1a9_row27_col28\" class=\"data row27 col28\" >-0.014</td>\n",
       "            </tr>\n",
       "            <tr>\n",
       "                        <th id=\"T_ac1a9_level0_row28\" class=\"row_heading level0 row28\" >age_and_bkirc</th>\n",
       "                        <td id=\"T_ac1a9_row28_col0\" class=\"data row28 col0\" >-0.068</td>\n",
       "                        <td id=\"T_ac1a9_row28_col1\" class=\"data row28 col1\" >0.163</td>\n",
       "                        <td id=\"T_ac1a9_row28_col2\" class=\"data row28 col2\" >-0.055</td>\n",
       "                        <td id=\"T_ac1a9_row28_col3\" class=\"data row28 col3\" >-0.016</td>\n",
       "                        <td id=\"T_ac1a9_row28_col4\" class=\"data row28 col4\" >0.123</td>\n",
       "                        <td id=\"T_ac1a9_row28_col5\" class=\"data row28 col5\" >0.006</td>\n",
       "                        <td id=\"T_ac1a9_row28_col6\" class=\"data row28 col6\" >0.143</td>\n",
       "                        <td id=\"T_ac1a9_row28_col7\" class=\"data row28 col7\" >0.992</td>\n",
       "                        <td id=\"T_ac1a9_row28_col8\" class=\"data row28 col8\" >-0.015</td>\n",
       "                        <td id=\"T_ac1a9_row28_col9\" class=\"data row28 col9\" >0.019</td>\n",
       "                        <td id=\"T_ac1a9_row28_col10\" class=\"data row28 col10\" >0.014</td>\n",
       "                        <td id=\"T_ac1a9_row28_col11\" class=\"data row28 col11\" >0.085</td>\n",
       "                        <td id=\"T_ac1a9_row28_col12\" class=\"data row28 col12\" >0.003</td>\n",
       "                        <td id=\"T_ac1a9_row28_col13\" class=\"data row28 col13\" >0.022</td>\n",
       "                        <td id=\"T_ac1a9_row28_col14\" class=\"data row28 col14\" >-0.002</td>\n",
       "                        <td id=\"T_ac1a9_row28_col15\" class=\"data row28 col15\" >0.111</td>\n",
       "                        <td id=\"T_ac1a9_row28_col16\" class=\"data row28 col16\" >-0.009</td>\n",
       "                        <td id=\"T_ac1a9_row28_col17\" class=\"data row28 col17\" >-0.008</td>\n",
       "                        <td id=\"T_ac1a9_row28_col18\" class=\"data row28 col18\" >0.144</td>\n",
       "                        <td id=\"T_ac1a9_row28_col19\" class=\"data row28 col19\" >0.025</td>\n",
       "                        <td id=\"T_ac1a9_row28_col20\" class=\"data row28 col20\" >0.022</td>\n",
       "                        <td id=\"T_ac1a9_row28_col21\" class=\"data row28 col21\" >-0.030</td>\n",
       "                        <td id=\"T_ac1a9_row28_col22\" class=\"data row28 col22\" >-0.012</td>\n",
       "                        <td id=\"T_ac1a9_row28_col23\" class=\"data row28 col23\" >-0.008</td>\n",
       "                        <td id=\"T_ac1a9_row28_col24\" class=\"data row28 col24\" >-0.017</td>\n",
       "                        <td id=\"T_ac1a9_row28_col25\" class=\"data row28 col25\" >-0.013</td>\n",
       "                        <td id=\"T_ac1a9_row28_col26\" class=\"data row28 col26\" >0.020</td>\n",
       "                        <td id=\"T_ac1a9_row28_col27\" class=\"data row28 col27\" >-0.014</td>\n",
       "                        <td id=\"T_ac1a9_row28_col28\" class=\"data row28 col28\" >1.000</td>\n",
       "            </tr>\n",
       "    </tbody></table>"
      ],
      "text/plain": [
       "<pandas.io.formats.style.Styler at 0x121bc670>"
      ]
     },
     "execution_count": 61,
     "metadata": {},
     "output_type": "execute_result"
    }
   ],
   "source": [
    "corr_train = train.drop(['client_id', 'education'],axis = 1).corr()\n",
    "corr_train.style.background_gradient(cmap='coolwarm').set_precision(3)"
   ]
  },
  {
   "cell_type": "markdown",
   "id": "c2cd72f1",
   "metadata": {},
   "source": [
    "**УДАЛИМ ПРИЗНАКИ С ВЫСОКОЙ КОРРЕЛЯЦИЕЙ (ПО МОДУЛЮ > 0.8)**"
   ]
  },
  {
   "cell_type": "code",
   "execution_count": 62,
   "id": "8066c63a",
   "metadata": {},
   "outputs": [],
   "source": [
    "cat_cols.remove('month')"
   ]
  },
  {
   "cell_type": "markdown",
   "id": "92c79136",
   "metadata": {},
   "source": [
    "## ПОДГОТОВКА ДАННЫХ К МАШИННОМУ ОБУЧЕНИЮ"
   ]
  },
  {
   "cell_type": "markdown",
   "id": "42f0e95a",
   "metadata": {},
   "source": [
    "1. Сначала необходимо провести разделение на трейн и тест, а затем применять стандартизирование и все остальное. Перед обучением регрессии нам следует стандартизировать числовые признаки, а также воспользоваться dummy-кодированием для категориальных переменных, то есть создать отдельную бинарную переменную для каждой категории.\n",
    "2. Как вы уже поняли, LabelEncoder не совсем подходит для признаков с двумя и большим количеством категорий. Для того, чтобы мы смогли применять линейные модели на таких данных, нам необходим другой метод, который называется One-Hot Encoding. Смысл его точно такой же, как у dummy-кодирования.\n",
    "3. Предположим, что некоторый признак может принимать пять разных значений. В этом случае One Hot Encoding подразумевает создание пяти новых признаков, все из которых равны нулю, за исключением одного. На позицию, соответствующую численному значению признака, мы помещаем .\n",
    "4. Эта техника реализована в sklearn.preprocessing в классе OneHotEncoder. По умолчанию OneHotEncoder преобразует данные в разреженную матрицу, чтобы не расходовать память на хранение многочисленных нулей."
   ]
  },
  {
   "cell_type": "code",
   "execution_count": 63,
   "id": "36c63868",
   "metadata": {},
   "outputs": [
    {
     "data": {
      "text/plain": [
       "array([[0., 1., 0., ..., 0., 0., 0.],\n",
       "       [0., 1., 0., ..., 0., 0., 0.],\n",
       "       [0., 1., 0., ..., 1., 0., 0.],\n",
       "       ...,\n",
       "       [0., 1., 0., ..., 0., 0., 0.],\n",
       "       [1., 0., 0., ..., 0., 0., 0.],\n",
       "       [0., 1., 0., ..., 0., 0., 0.]])"
      ]
     },
     "execution_count": 63,
     "metadata": {},
     "output_type": "execute_result"
    }
   ],
   "source": [
    "X_cat = OneHotEncoder(sparse = False).fit_transform(train[cat_cols].values)\n",
    "X_cat"
   ]
  },
  {
   "cell_type": "code",
   "execution_count": 64,
   "id": "7a678de6",
   "metadata": {},
   "outputs": [
    {
     "data": {
      "text/plain": [
       "array([[1., 0., 0., ..., 0., 0., 0.],\n",
       "       [0., 1., 0., ..., 0., 0., 1.],\n",
       "       [1., 0., 0., ..., 0., 0., 0.],\n",
       "       ...,\n",
       "       [1., 0., 0., ..., 1., 0., 0.],\n",
       "       [1., 0., 0., ..., 0., 0., 0.],\n",
       "       [0., 1., 0., ..., 0., 0., 0.]])"
      ]
     },
     "execution_count": 64,
     "metadata": {},
     "output_type": "execute_result"
    }
   ],
   "source": [
    "Y_cat = OneHotEncoder(sparse = False).fit_transform(test[cat_cols].values)\n",
    "Y_cat"
   ]
  },
  {
   "cell_type": "markdown",
   "id": "7a47bd0c",
   "metadata": {},
   "source": [
    "**СТАНДАРТИЗАЦИЯ ЧИСЛОВЫХ ПЕРЕМЕННЫХ**"
   ]
  },
  {
   "cell_type": "code",
   "execution_count": 65,
   "id": "2ccd521e",
   "metadata": {},
   "outputs": [
    {
     "data": {
      "text/plain": [
       "array([[ 1.73772057, -0.36512832, -0.74164399, ..., -0.14062024,\n",
       "         0.70828325, -0.22421206],\n",
       "       [ 1.56687038,  0.67457309, -0.66225864, ..., -0.14062024,\n",
       "         0.73023514,  0.90850507],\n",
       "       [-1.36144801, -0.36512832,  0.00839451, ..., -0.14062024,\n",
       "         0.9156863 , -0.47201442],\n",
       "       ...,\n",
       "       [ 0.40028705,  0.67457309,  0.75844606, ...,  4.26531311,\n",
       "         1.12309295,  0.72195045],\n",
       "       [ 1.06576925,  1.00928218, -1.00933965, ..., -0.50778135,\n",
       "        -1.31792159,  1.18452389],\n",
       "       [-0.86034688,  0.67457309, -1.2194468 , ...,  0.59370198,\n",
       "         0.57615969,  0.5203557 ]])"
      ]
     },
     "execution_count": 65,
     "metadata": {},
     "output_type": "execute_result"
    }
   ],
   "source": [
    "X_num = StandardScaler().fit_transform(train[num_cols].values)\n",
    "X_num"
   ]
  },
  {
   "cell_type": "code",
   "execution_count": 66,
   "id": "5f0e70f3",
   "metadata": {},
   "outputs": [
    {
     "data": {
      "text/plain": [
       "array([[-0.88473151,  0.42909592,  0.20922178, ..., -0.07356829,\n",
       "        -0.13382952,  0.06826015],\n",
       "       [-0.01615572, -0.00630055, -0.81813846, ...,  3.20908805,\n",
       "        -0.80203706, -0.02234634],\n",
       "       [ 0.93927766, -0.44169701, -0.24738277, ..., -0.48390034,\n",
       "        -0.46793329, -0.30423318],\n",
       "       ...,\n",
       "       [-0.71101635, -0.44169701,  0.43752406, ...,  1.56775988,\n",
       "         0.03322236, -0.49551353],\n",
       "       [-1.05844667, -0.00630055, -0.24738277, ..., -1.30456442,\n",
       "        -0.46793329, -0.26396363],\n",
       "       [-0.10301329, -0.00630055, -0.58983618, ...,  1.56775988,\n",
       "        -0.46793329, -0.04248111]])"
      ]
     },
     "execution_count": 66,
     "metadata": {},
     "output_type": "execute_result"
    }
   ],
   "source": [
    "Y_num = StandardScaler().fit_transform(test[num_cols].values)\n",
    "Y_num"
   ]
  },
  {
   "cell_type": "markdown",
   "id": "1e28a466",
   "metadata": {},
   "source": [
    "**ОБЪЕДИНЯЕМ ПЕРЕМЕННЫЕ**"
   ]
  },
  {
   "cell_type": "markdown",
   "id": "a8f87e98",
   "metadata": {},
   "source": [
    "#### ОБЪЕДИНИМ СТАНДАРТИЗОВАННЫЕ ЧИСЛОВЫЕ, БИНАРНЫЕ И ЗАКОДИРОВАННЫЕ КАТЕГОРИАЛЬНЫЕ ПЕРЕМЕННЫЕ В ОДНО ПРИЗНАКОВОЕ ПРОСТРАНСТВО, РАЗДЕЛИВ ПРИ ЭТОМ ПРИЗНАКИ И ЦЕЛЕВУЮ ПЕРЕМЕННУЮ."
   ]
  },
  {
   "cell_type": "code",
   "execution_count": 67,
   "id": "a100c6c8",
   "metadata": {},
   "outputs": [],
   "source": [
    "X = np.hstack([X_num, train[bin_cols].values, X_cat])\n",
    "Y = train['default'].values\n",
    "\n",
    "id_test = test['client_id']\n",
    "test = np.hstack([Y_num, test[bin_cols].values, Y_cat])"
   ]
  },
  {
   "cell_type": "markdown",
   "id": "d8e84c22",
   "metadata": {},
   "source": [
    "**РАЗДЕЛЯЕМ ОБУЧАЮЩУЮ ВЫБОРКУ НА ТРЕНИРОВОЧНУЮ И ВАЛИДАЦИОННУЮ**"
   ]
  },
  {
   "cell_type": "code",
   "execution_count": 68,
   "id": "f3bd251d",
   "metadata": {},
   "outputs": [],
   "source": [
    "X_train, X_valid, y_train, y_valid = train_test_split(X, Y, test_size=0.2, random_state=42, shuffle = True)"
   ]
  },
  {
   "cell_type": "markdown",
   "id": "e75a8aa7",
   "metadata": {},
   "source": [
    "### ПОДБОР ЛУЧШИХ ГИПЕРПАРАМЕТРОВ ДЛЯ МОДЕЛИ"
   ]
  },
  {
   "cell_type": "code",
   "execution_count": 69,
   "id": "24ffcb67",
   "metadata": {},
   "outputs": [],
   "source": [
    "from sklearn.model_selection import GridSearchCV"
   ]
  },
  {
   "cell_type": "markdown",
   "id": "d6be7142",
   "metadata": {},
   "source": [
    "**ДОБАВИМ ТИП РЕГУЛЯРИЗАЦИИ**"
   ]
  },
  {
   "cell_type": "code",
   "execution_count": 70,
   "id": "2678ffd7",
   "metadata": {},
   "outputs": [],
   "source": [
    "penalty = ['l1', 'l2']"
   ]
  },
  {
   "cell_type": "markdown",
   "id": "edf57392",
   "metadata": {},
   "source": [
    "**ЗАДАДИМ ОГРАНИЧЕНИЯ ДЛЯ ПАРАМЕТРА РЕГУЛЯРИЗАЦИИ**"
   ]
  },
  {
   "cell_type": "code",
   "execution_count": 71,
   "id": "ebae1419",
   "metadata": {},
   "outputs": [],
   "source": [
    "C = np.logspace(0, 4, 10)"
   ]
  },
  {
   "cell_type": "markdown",
   "id": "556acbab",
   "metadata": {},
   "source": [
    "**СОЗДАДИМ ГИПЕРПАРАМЕТРЫ**"
   ]
  },
  {
   "cell_type": "code",
   "execution_count": 72,
   "id": "efdc0b65",
   "metadata": {},
   "outputs": [
    {
     "data": {
      "text/plain": [
       "LogisticRegression(max_iter=190)"
      ]
     },
     "execution_count": 72,
     "metadata": {},
     "output_type": "execute_result"
    }
   ],
   "source": [
    "hyperparameters = dict(C=C, penalty=penalty)\n",
    "\n",
    "model = LogisticRegression(max_iter=190)\n",
    "model.fit(X_train, y_train)"
   ]
  },
  {
   "cell_type": "markdown",
   "id": "6271437d",
   "metadata": {},
   "source": [
    "**СОЗДАДИМ СЕТКУ ПОИСКА С ИСПОЛЬЗОВАНИЕМ 5-КРАТНОЙ ПЕРЕКРЕСТНОЙ ПРОВЕРКИ**"
   ]
  },
  {
   "cell_type": "code",
   "execution_count": 73,
   "id": "e1d50377",
   "metadata": {
    "scrolled": false
   },
   "outputs": [
    {
     "name": "stderr",
     "output_type": "stream",
     "text": [
      "C:\\Users\\volodin\\Anaconda3\\lib\\site-packages\\sklearn\\model_selection\\_validation.py:610: FitFailedWarning: Estimator fit failed. The score on this train-test partition for these parameters will be set to nan. Details: \n",
      "Traceback (most recent call last):\n",
      "  File \"C:\\Users\\volodin\\Anaconda3\\lib\\site-packages\\sklearn\\model_selection\\_validation.py\", line 593, in _fit_and_score\n",
      "    estimator.fit(X_train, y_train, **fit_params)\n",
      "  File \"C:\\Users\\volodin\\Anaconda3\\lib\\site-packages\\sklearn\\linear_model\\_logistic.py\", line 1306, in fit\n",
      "    solver = _check_solver(self.solver, self.penalty, self.dual)\n",
      "  File \"C:\\Users\\volodin\\Anaconda3\\lib\\site-packages\\sklearn\\linear_model\\_logistic.py\", line 443, in _check_solver\n",
      "    raise ValueError(\"Solver %s supports only 'l2' or 'none' penalties, \"\n",
      "ValueError: Solver lbfgs supports only 'l2' or 'none' penalties, got l1 penalty.\n",
      "\n",
      "  warnings.warn(\"Estimator fit failed. The score on this train-test\"\n",
      "C:\\Users\\volodin\\Anaconda3\\lib\\site-packages\\sklearn\\model_selection\\_validation.py:610: FitFailedWarning: Estimator fit failed. The score on this train-test partition for these parameters will be set to nan. Details: \n",
      "Traceback (most recent call last):\n",
      "  File \"C:\\Users\\volodin\\Anaconda3\\lib\\site-packages\\sklearn\\model_selection\\_validation.py\", line 593, in _fit_and_score\n",
      "    estimator.fit(X_train, y_train, **fit_params)\n",
      "  File \"C:\\Users\\volodin\\Anaconda3\\lib\\site-packages\\sklearn\\linear_model\\_logistic.py\", line 1306, in fit\n",
      "    solver = _check_solver(self.solver, self.penalty, self.dual)\n",
      "  File \"C:\\Users\\volodin\\Anaconda3\\lib\\site-packages\\sklearn\\linear_model\\_logistic.py\", line 443, in _check_solver\n",
      "    raise ValueError(\"Solver %s supports only 'l2' or 'none' penalties, \"\n",
      "ValueError: Solver lbfgs supports only 'l2' or 'none' penalties, got l1 penalty.\n",
      "\n",
      "  warnings.warn(\"Estimator fit failed. The score on this train-test\"\n",
      "C:\\Users\\volodin\\Anaconda3\\lib\\site-packages\\sklearn\\model_selection\\_validation.py:610: FitFailedWarning: Estimator fit failed. The score on this train-test partition for these parameters will be set to nan. Details: \n",
      "Traceback (most recent call last):\n",
      "  File \"C:\\Users\\volodin\\Anaconda3\\lib\\site-packages\\sklearn\\model_selection\\_validation.py\", line 593, in _fit_and_score\n",
      "    estimator.fit(X_train, y_train, **fit_params)\n",
      "  File \"C:\\Users\\volodin\\Anaconda3\\lib\\site-packages\\sklearn\\linear_model\\_logistic.py\", line 1306, in fit\n",
      "    solver = _check_solver(self.solver, self.penalty, self.dual)\n",
      "  File \"C:\\Users\\volodin\\Anaconda3\\lib\\site-packages\\sklearn\\linear_model\\_logistic.py\", line 443, in _check_solver\n",
      "    raise ValueError(\"Solver %s supports only 'l2' or 'none' penalties, \"\n",
      "ValueError: Solver lbfgs supports only 'l2' or 'none' penalties, got l1 penalty.\n",
      "\n",
      "  warnings.warn(\"Estimator fit failed. The score on this train-test\"\n",
      "C:\\Users\\volodin\\Anaconda3\\lib\\site-packages\\sklearn\\model_selection\\_validation.py:610: FitFailedWarning: Estimator fit failed. The score on this train-test partition for these parameters will be set to nan. Details: \n",
      "Traceback (most recent call last):\n",
      "  File \"C:\\Users\\volodin\\Anaconda3\\lib\\site-packages\\sklearn\\model_selection\\_validation.py\", line 593, in _fit_and_score\n",
      "    estimator.fit(X_train, y_train, **fit_params)\n",
      "  File \"C:\\Users\\volodin\\Anaconda3\\lib\\site-packages\\sklearn\\linear_model\\_logistic.py\", line 1306, in fit\n",
      "    solver = _check_solver(self.solver, self.penalty, self.dual)\n",
      "  File \"C:\\Users\\volodin\\Anaconda3\\lib\\site-packages\\sklearn\\linear_model\\_logistic.py\", line 443, in _check_solver\n",
      "    raise ValueError(\"Solver %s supports only 'l2' or 'none' penalties, \"\n",
      "ValueError: Solver lbfgs supports only 'l2' or 'none' penalties, got l1 penalty.\n",
      "\n",
      "  warnings.warn(\"Estimator fit failed. The score on this train-test\"\n",
      "C:\\Users\\volodin\\Anaconda3\\lib\\site-packages\\sklearn\\model_selection\\_validation.py:610: FitFailedWarning: Estimator fit failed. The score on this train-test partition for these parameters will be set to nan. Details: \n",
      "Traceback (most recent call last):\n",
      "  File \"C:\\Users\\volodin\\Anaconda3\\lib\\site-packages\\sklearn\\model_selection\\_validation.py\", line 593, in _fit_and_score\n",
      "    estimator.fit(X_train, y_train, **fit_params)\n",
      "  File \"C:\\Users\\volodin\\Anaconda3\\lib\\site-packages\\sklearn\\linear_model\\_logistic.py\", line 1306, in fit\n",
      "    solver = _check_solver(self.solver, self.penalty, self.dual)\n",
      "  File \"C:\\Users\\volodin\\Anaconda3\\lib\\site-packages\\sklearn\\linear_model\\_logistic.py\", line 443, in _check_solver\n",
      "    raise ValueError(\"Solver %s supports only 'l2' or 'none' penalties, \"\n",
      "ValueError: Solver lbfgs supports only 'l2' or 'none' penalties, got l1 penalty.\n",
      "\n",
      "  warnings.warn(\"Estimator fit failed. The score on this train-test\"\n",
      "C:\\Users\\volodin\\Anaconda3\\lib\\site-packages\\sklearn\\model_selection\\_validation.py:610: FitFailedWarning: Estimator fit failed. The score on this train-test partition for these parameters will be set to nan. Details: \n",
      "Traceback (most recent call last):\n",
      "  File \"C:\\Users\\volodin\\Anaconda3\\lib\\site-packages\\sklearn\\model_selection\\_validation.py\", line 593, in _fit_and_score\n",
      "    estimator.fit(X_train, y_train, **fit_params)\n",
      "  File \"C:\\Users\\volodin\\Anaconda3\\lib\\site-packages\\sklearn\\linear_model\\_logistic.py\", line 1306, in fit\n",
      "    solver = _check_solver(self.solver, self.penalty, self.dual)\n",
      "  File \"C:\\Users\\volodin\\Anaconda3\\lib\\site-packages\\sklearn\\linear_model\\_logistic.py\", line 443, in _check_solver\n",
      "    raise ValueError(\"Solver %s supports only 'l2' or 'none' penalties, \"\n",
      "ValueError: Solver lbfgs supports only 'l2' or 'none' penalties, got l1 penalty.\n",
      "\n",
      "  warnings.warn(\"Estimator fit failed. The score on this train-test\"\n",
      "C:\\Users\\volodin\\Anaconda3\\lib\\site-packages\\sklearn\\model_selection\\_validation.py:610: FitFailedWarning: Estimator fit failed. The score on this train-test partition for these parameters will be set to nan. Details: \n",
      "Traceback (most recent call last):\n",
      "  File \"C:\\Users\\volodin\\Anaconda3\\lib\\site-packages\\sklearn\\model_selection\\_validation.py\", line 593, in _fit_and_score\n",
      "    estimator.fit(X_train, y_train, **fit_params)\n",
      "  File \"C:\\Users\\volodin\\Anaconda3\\lib\\site-packages\\sklearn\\linear_model\\_logistic.py\", line 1306, in fit\n",
      "    solver = _check_solver(self.solver, self.penalty, self.dual)\n",
      "  File \"C:\\Users\\volodin\\Anaconda3\\lib\\site-packages\\sklearn\\linear_model\\_logistic.py\", line 443, in _check_solver\n",
      "    raise ValueError(\"Solver %s supports only 'l2' or 'none' penalties, \"\n",
      "ValueError: Solver lbfgs supports only 'l2' or 'none' penalties, got l1 penalty.\n",
      "\n",
      "  warnings.warn(\"Estimator fit failed. The score on this train-test\"\n",
      "C:\\Users\\volodin\\Anaconda3\\lib\\site-packages\\sklearn\\model_selection\\_validation.py:610: FitFailedWarning: Estimator fit failed. The score on this train-test partition for these parameters will be set to nan. Details: \n",
      "Traceback (most recent call last):\n",
      "  File \"C:\\Users\\volodin\\Anaconda3\\lib\\site-packages\\sklearn\\model_selection\\_validation.py\", line 593, in _fit_and_score\n",
      "    estimator.fit(X_train, y_train, **fit_params)\n",
      "  File \"C:\\Users\\volodin\\Anaconda3\\lib\\site-packages\\sklearn\\linear_model\\_logistic.py\", line 1306, in fit\n",
      "    solver = _check_solver(self.solver, self.penalty, self.dual)\n",
      "  File \"C:\\Users\\volodin\\Anaconda3\\lib\\site-packages\\sklearn\\linear_model\\_logistic.py\", line 443, in _check_solver\n",
      "    raise ValueError(\"Solver %s supports only 'l2' or 'none' penalties, \"\n",
      "ValueError: Solver lbfgs supports only 'l2' or 'none' penalties, got l1 penalty.\n",
      "\n",
      "  warnings.warn(\"Estimator fit failed. The score on this train-test\"\n",
      "C:\\Users\\volodin\\Anaconda3\\lib\\site-packages\\sklearn\\model_selection\\_validation.py:610: FitFailedWarning: Estimator fit failed. The score on this train-test partition for these parameters will be set to nan. Details: \n",
      "Traceback (most recent call last):\n",
      "  File \"C:\\Users\\volodin\\Anaconda3\\lib\\site-packages\\sklearn\\model_selection\\_validation.py\", line 593, in _fit_and_score\n",
      "    estimator.fit(X_train, y_train, **fit_params)\n",
      "  File \"C:\\Users\\volodin\\Anaconda3\\lib\\site-packages\\sklearn\\linear_model\\_logistic.py\", line 1306, in fit\n",
      "    solver = _check_solver(self.solver, self.penalty, self.dual)\n",
      "  File \"C:\\Users\\volodin\\Anaconda3\\lib\\site-packages\\sklearn\\linear_model\\_logistic.py\", line 443, in _check_solver\n",
      "    raise ValueError(\"Solver %s supports only 'l2' or 'none' penalties, \"\n",
      "ValueError: Solver lbfgs supports only 'l2' or 'none' penalties, got l1 penalty.\n",
      "\n",
      "  warnings.warn(\"Estimator fit failed. The score on this train-test\"\n",
      "C:\\Users\\volodin\\Anaconda3\\lib\\site-packages\\sklearn\\model_selection\\_validation.py:610: FitFailedWarning: Estimator fit failed. The score on this train-test partition for these parameters will be set to nan. Details: \n",
      "Traceback (most recent call last):\n",
      "  File \"C:\\Users\\volodin\\Anaconda3\\lib\\site-packages\\sklearn\\model_selection\\_validation.py\", line 593, in _fit_and_score\n",
      "    estimator.fit(X_train, y_train, **fit_params)\n",
      "  File \"C:\\Users\\volodin\\Anaconda3\\lib\\site-packages\\sklearn\\linear_model\\_logistic.py\", line 1306, in fit\n",
      "    solver = _check_solver(self.solver, self.penalty, self.dual)\n",
      "  File \"C:\\Users\\volodin\\Anaconda3\\lib\\site-packages\\sklearn\\linear_model\\_logistic.py\", line 443, in _check_solver\n",
      "    raise ValueError(\"Solver %s supports only 'l2' or 'none' penalties, \"\n",
      "ValueError: Solver lbfgs supports only 'l2' or 'none' penalties, got l1 penalty.\n",
      "\n",
      "  warnings.warn(\"Estimator fit failed. The score on this train-test\"\n",
      "C:\\Users\\volodin\\Anaconda3\\lib\\site-packages\\sklearn\\model_selection\\_validation.py:610: FitFailedWarning: Estimator fit failed. The score on this train-test partition for these parameters will be set to nan. Details: \n",
      "Traceback (most recent call last):\n",
      "  File \"C:\\Users\\volodin\\Anaconda3\\lib\\site-packages\\sklearn\\model_selection\\_validation.py\", line 593, in _fit_and_score\n",
      "    estimator.fit(X_train, y_train, **fit_params)\n",
      "  File \"C:\\Users\\volodin\\Anaconda3\\lib\\site-packages\\sklearn\\linear_model\\_logistic.py\", line 1306, in fit\n",
      "    solver = _check_solver(self.solver, self.penalty, self.dual)\n",
      "  File \"C:\\Users\\volodin\\Anaconda3\\lib\\site-packages\\sklearn\\linear_model\\_logistic.py\", line 443, in _check_solver\n",
      "    raise ValueError(\"Solver %s supports only 'l2' or 'none' penalties, \"\n",
      "ValueError: Solver lbfgs supports only 'l2' or 'none' penalties, got l1 penalty.\n",
      "\n",
      "  warnings.warn(\"Estimator fit failed. The score on this train-test\"\n",
      "C:\\Users\\volodin\\Anaconda3\\lib\\site-packages\\sklearn\\model_selection\\_validation.py:610: FitFailedWarning: Estimator fit failed. The score on this train-test partition for these parameters will be set to nan. Details: \n",
      "Traceback (most recent call last):\n",
      "  File \"C:\\Users\\volodin\\Anaconda3\\lib\\site-packages\\sklearn\\model_selection\\_validation.py\", line 593, in _fit_and_score\n",
      "    estimator.fit(X_train, y_train, **fit_params)\n",
      "  File \"C:\\Users\\volodin\\Anaconda3\\lib\\site-packages\\sklearn\\linear_model\\_logistic.py\", line 1306, in fit\n",
      "    solver = _check_solver(self.solver, self.penalty, self.dual)\n",
      "  File \"C:\\Users\\volodin\\Anaconda3\\lib\\site-packages\\sklearn\\linear_model\\_logistic.py\", line 443, in _check_solver\n",
      "    raise ValueError(\"Solver %s supports only 'l2' or 'none' penalties, \"\n",
      "ValueError: Solver lbfgs supports only 'l2' or 'none' penalties, got l1 penalty.\n",
      "\n",
      "  warnings.warn(\"Estimator fit failed. The score on this train-test\"\n",
      "C:\\Users\\volodin\\Anaconda3\\lib\\site-packages\\sklearn\\model_selection\\_validation.py:610: FitFailedWarning: Estimator fit failed. The score on this train-test partition for these parameters will be set to nan. Details: \n",
      "Traceback (most recent call last):\n",
      "  File \"C:\\Users\\volodin\\Anaconda3\\lib\\site-packages\\sklearn\\model_selection\\_validation.py\", line 593, in _fit_and_score\n",
      "    estimator.fit(X_train, y_train, **fit_params)\n",
      "  File \"C:\\Users\\volodin\\Anaconda3\\lib\\site-packages\\sklearn\\linear_model\\_logistic.py\", line 1306, in fit\n",
      "    solver = _check_solver(self.solver, self.penalty, self.dual)\n",
      "  File \"C:\\Users\\volodin\\Anaconda3\\lib\\site-packages\\sklearn\\linear_model\\_logistic.py\", line 443, in _check_solver\n",
      "    raise ValueError(\"Solver %s supports only 'l2' or 'none' penalties, \"\n",
      "ValueError: Solver lbfgs supports only 'l2' or 'none' penalties, got l1 penalty.\n",
      "\n",
      "  warnings.warn(\"Estimator fit failed. The score on this train-test\"\n",
      "C:\\Users\\volodin\\Anaconda3\\lib\\site-packages\\sklearn\\model_selection\\_validation.py:610: FitFailedWarning: Estimator fit failed. The score on this train-test partition for these parameters will be set to nan. Details: \n",
      "Traceback (most recent call last):\n",
      "  File \"C:\\Users\\volodin\\Anaconda3\\lib\\site-packages\\sklearn\\model_selection\\_validation.py\", line 593, in _fit_and_score\n",
      "    estimator.fit(X_train, y_train, **fit_params)\n",
      "  File \"C:\\Users\\volodin\\Anaconda3\\lib\\site-packages\\sklearn\\linear_model\\_logistic.py\", line 1306, in fit\n",
      "    solver = _check_solver(self.solver, self.penalty, self.dual)\n",
      "  File \"C:\\Users\\volodin\\Anaconda3\\lib\\site-packages\\sklearn\\linear_model\\_logistic.py\", line 443, in _check_solver\n",
      "    raise ValueError(\"Solver %s supports only 'l2' or 'none' penalties, \"\n",
      "ValueError: Solver lbfgs supports only 'l2' or 'none' penalties, got l1 penalty.\n",
      "\n",
      "  warnings.warn(\"Estimator fit failed. The score on this train-test\"\n",
      "C:\\Users\\volodin\\Anaconda3\\lib\\site-packages\\sklearn\\model_selection\\_validation.py:610: FitFailedWarning: Estimator fit failed. The score on this train-test partition for these parameters will be set to nan. Details: \n",
      "Traceback (most recent call last):\n",
      "  File \"C:\\Users\\volodin\\Anaconda3\\lib\\site-packages\\sklearn\\model_selection\\_validation.py\", line 593, in _fit_and_score\n",
      "    estimator.fit(X_train, y_train, **fit_params)\n",
      "  File \"C:\\Users\\volodin\\Anaconda3\\lib\\site-packages\\sklearn\\linear_model\\_logistic.py\", line 1306, in fit\n",
      "    solver = _check_solver(self.solver, self.penalty, self.dual)\n",
      "  File \"C:\\Users\\volodin\\Anaconda3\\lib\\site-packages\\sklearn\\linear_model\\_logistic.py\", line 443, in _check_solver\n",
      "    raise ValueError(\"Solver %s supports only 'l2' or 'none' penalties, \"\n",
      "ValueError: Solver lbfgs supports only 'l2' or 'none' penalties, got l1 penalty.\n",
      "\n",
      "  warnings.warn(\"Estimator fit failed. The score on this train-test\"\n",
      "C:\\Users\\volodin\\Anaconda3\\lib\\site-packages\\sklearn\\model_selection\\_validation.py:610: FitFailedWarning: Estimator fit failed. The score on this train-test partition for these parameters will be set to nan. Details: \n",
      "Traceback (most recent call last):\n",
      "  File \"C:\\Users\\volodin\\Anaconda3\\lib\\site-packages\\sklearn\\model_selection\\_validation.py\", line 593, in _fit_and_score\n",
      "    estimator.fit(X_train, y_train, **fit_params)\n",
      "  File \"C:\\Users\\volodin\\Anaconda3\\lib\\site-packages\\sklearn\\linear_model\\_logistic.py\", line 1306, in fit\n",
      "    solver = _check_solver(self.solver, self.penalty, self.dual)\n",
      "  File \"C:\\Users\\volodin\\Anaconda3\\lib\\site-packages\\sklearn\\linear_model\\_logistic.py\", line 443, in _check_solver\n",
      "    raise ValueError(\"Solver %s supports only 'l2' or 'none' penalties, \"\n",
      "ValueError: Solver lbfgs supports only 'l2' or 'none' penalties, got l1 penalty.\n",
      "\n",
      "  warnings.warn(\"Estimator fit failed. The score on this train-test\"\n",
      "C:\\Users\\volodin\\Anaconda3\\lib\\site-packages\\sklearn\\model_selection\\_validation.py:610: FitFailedWarning: Estimator fit failed. The score on this train-test partition for these parameters will be set to nan. Details: \n",
      "Traceback (most recent call last):\n",
      "  File \"C:\\Users\\volodin\\Anaconda3\\lib\\site-packages\\sklearn\\model_selection\\_validation.py\", line 593, in _fit_and_score\n",
      "    estimator.fit(X_train, y_train, **fit_params)\n",
      "  File \"C:\\Users\\volodin\\Anaconda3\\lib\\site-packages\\sklearn\\linear_model\\_logistic.py\", line 1306, in fit\n",
      "    solver = _check_solver(self.solver, self.penalty, self.dual)\n",
      "  File \"C:\\Users\\volodin\\Anaconda3\\lib\\site-packages\\sklearn\\linear_model\\_logistic.py\", line 443, in _check_solver\n",
      "    raise ValueError(\"Solver %s supports only 'l2' or 'none' penalties, \"\n",
      "ValueError: Solver lbfgs supports only 'l2' or 'none' penalties, got l1 penalty.\n",
      "\n",
      "  warnings.warn(\"Estimator fit failed. The score on this train-test\"\n",
      "C:\\Users\\volodin\\Anaconda3\\lib\\site-packages\\sklearn\\model_selection\\_validation.py:610: FitFailedWarning: Estimator fit failed. The score on this train-test partition for these parameters will be set to nan. Details: \n",
      "Traceback (most recent call last):\n",
      "  File \"C:\\Users\\volodin\\Anaconda3\\lib\\site-packages\\sklearn\\model_selection\\_validation.py\", line 593, in _fit_and_score\n",
      "    estimator.fit(X_train, y_train, **fit_params)\n",
      "  File \"C:\\Users\\volodin\\Anaconda3\\lib\\site-packages\\sklearn\\linear_model\\_logistic.py\", line 1306, in fit\n",
      "    solver = _check_solver(self.solver, self.penalty, self.dual)\n",
      "  File \"C:\\Users\\volodin\\Anaconda3\\lib\\site-packages\\sklearn\\linear_model\\_logistic.py\", line 443, in _check_solver\n",
      "    raise ValueError(\"Solver %s supports only 'l2' or 'none' penalties, \"\n",
      "ValueError: Solver lbfgs supports only 'l2' or 'none' penalties, got l1 penalty.\n",
      "\n",
      "  warnings.warn(\"Estimator fit failed. The score on this train-test\"\n",
      "C:\\Users\\volodin\\Anaconda3\\lib\\site-packages\\sklearn\\model_selection\\_validation.py:610: FitFailedWarning: Estimator fit failed. The score on this train-test partition for these parameters will be set to nan. Details: \n",
      "Traceback (most recent call last):\n",
      "  File \"C:\\Users\\volodin\\Anaconda3\\lib\\site-packages\\sklearn\\model_selection\\_validation.py\", line 593, in _fit_and_score\n",
      "    estimator.fit(X_train, y_train, **fit_params)\n",
      "  File \"C:\\Users\\volodin\\Anaconda3\\lib\\site-packages\\sklearn\\linear_model\\_logistic.py\", line 1306, in fit\n",
      "    solver = _check_solver(self.solver, self.penalty, self.dual)\n",
      "  File \"C:\\Users\\volodin\\Anaconda3\\lib\\site-packages\\sklearn\\linear_model\\_logistic.py\", line 443, in _check_solver\n",
      "    raise ValueError(\"Solver %s supports only 'l2' or 'none' penalties, \"\n",
      "ValueError: Solver lbfgs supports only 'l2' or 'none' penalties, got l1 penalty.\n",
      "\n",
      "  warnings.warn(\"Estimator fit failed. The score on this train-test\"\n",
      "C:\\Users\\volodin\\Anaconda3\\lib\\site-packages\\sklearn\\model_selection\\_validation.py:610: FitFailedWarning: Estimator fit failed. The score on this train-test partition for these parameters will be set to nan. Details: \n",
      "Traceback (most recent call last):\n",
      "  File \"C:\\Users\\volodin\\Anaconda3\\lib\\site-packages\\sklearn\\model_selection\\_validation.py\", line 593, in _fit_and_score\n",
      "    estimator.fit(X_train, y_train, **fit_params)\n",
      "  File \"C:\\Users\\volodin\\Anaconda3\\lib\\site-packages\\sklearn\\linear_model\\_logistic.py\", line 1306, in fit\n",
      "    solver = _check_solver(self.solver, self.penalty, self.dual)\n",
      "  File \"C:\\Users\\volodin\\Anaconda3\\lib\\site-packages\\sklearn\\linear_model\\_logistic.py\", line 443, in _check_solver\n",
      "    raise ValueError(\"Solver %s supports only 'l2' or 'none' penalties, \"\n",
      "ValueError: Solver lbfgs supports only 'l2' or 'none' penalties, got l1 penalty.\n",
      "\n",
      "  warnings.warn(\"Estimator fit failed. The score on this train-test\"\n",
      "C:\\Users\\volodin\\Anaconda3\\lib\\site-packages\\sklearn\\model_selection\\_validation.py:610: FitFailedWarning: Estimator fit failed. The score on this train-test partition for these parameters will be set to nan. Details: \n",
      "Traceback (most recent call last):\n",
      "  File \"C:\\Users\\volodin\\Anaconda3\\lib\\site-packages\\sklearn\\model_selection\\_validation.py\", line 593, in _fit_and_score\n",
      "    estimator.fit(X_train, y_train, **fit_params)\n",
      "  File \"C:\\Users\\volodin\\Anaconda3\\lib\\site-packages\\sklearn\\linear_model\\_logistic.py\", line 1306, in fit\n",
      "    solver = _check_solver(self.solver, self.penalty, self.dual)\n",
      "  File \"C:\\Users\\volodin\\Anaconda3\\lib\\site-packages\\sklearn\\linear_model\\_logistic.py\", line 443, in _check_solver\n",
      "    raise ValueError(\"Solver %s supports only 'l2' or 'none' penalties, \"\n",
      "ValueError: Solver lbfgs supports only 'l2' or 'none' penalties, got l1 penalty.\n",
      "\n",
      "  warnings.warn(\"Estimator fit failed. The score on this train-test\"\n",
      "C:\\Users\\volodin\\Anaconda3\\lib\\site-packages\\sklearn\\model_selection\\_validation.py:610: FitFailedWarning: Estimator fit failed. The score on this train-test partition for these parameters will be set to nan. Details: \n",
      "Traceback (most recent call last):\n",
      "  File \"C:\\Users\\volodin\\Anaconda3\\lib\\site-packages\\sklearn\\model_selection\\_validation.py\", line 593, in _fit_and_score\n",
      "    estimator.fit(X_train, y_train, **fit_params)\n",
      "  File \"C:\\Users\\volodin\\Anaconda3\\lib\\site-packages\\sklearn\\linear_model\\_logistic.py\", line 1306, in fit\n",
      "    solver = _check_solver(self.solver, self.penalty, self.dual)\n",
      "  File \"C:\\Users\\volodin\\Anaconda3\\lib\\site-packages\\sklearn\\linear_model\\_logistic.py\", line 443, in _check_solver\n",
      "    raise ValueError(\"Solver %s supports only 'l2' or 'none' penalties, \"\n",
      "ValueError: Solver lbfgs supports only 'l2' or 'none' penalties, got l1 penalty.\n",
      "\n",
      "  warnings.warn(\"Estimator fit failed. The score on this train-test\"\n",
      "C:\\Users\\volodin\\Anaconda3\\lib\\site-packages\\sklearn\\model_selection\\_validation.py:610: FitFailedWarning: Estimator fit failed. The score on this train-test partition for these parameters will be set to nan. Details: \n",
      "Traceback (most recent call last):\n",
      "  File \"C:\\Users\\volodin\\Anaconda3\\lib\\site-packages\\sklearn\\model_selection\\_validation.py\", line 593, in _fit_and_score\n",
      "    estimator.fit(X_train, y_train, **fit_params)\n",
      "  File \"C:\\Users\\volodin\\Anaconda3\\lib\\site-packages\\sklearn\\linear_model\\_logistic.py\", line 1306, in fit\n",
      "    solver = _check_solver(self.solver, self.penalty, self.dual)\n",
      "  File \"C:\\Users\\volodin\\Anaconda3\\lib\\site-packages\\sklearn\\linear_model\\_logistic.py\", line 443, in _check_solver\n",
      "    raise ValueError(\"Solver %s supports only 'l2' or 'none' penalties, \"\n",
      "ValueError: Solver lbfgs supports only 'l2' or 'none' penalties, got l1 penalty.\n",
      "\n",
      "  warnings.warn(\"Estimator fit failed. The score on this train-test\"\n",
      "C:\\Users\\volodin\\Anaconda3\\lib\\site-packages\\sklearn\\model_selection\\_validation.py:610: FitFailedWarning: Estimator fit failed. The score on this train-test partition for these parameters will be set to nan. Details: \n",
      "Traceback (most recent call last):\n",
      "  File \"C:\\Users\\volodin\\Anaconda3\\lib\\site-packages\\sklearn\\model_selection\\_validation.py\", line 593, in _fit_and_score\n",
      "    estimator.fit(X_train, y_train, **fit_params)\n",
      "  File \"C:\\Users\\volodin\\Anaconda3\\lib\\site-packages\\sklearn\\linear_model\\_logistic.py\", line 1306, in fit\n",
      "    solver = _check_solver(self.solver, self.penalty, self.dual)\n",
      "  File \"C:\\Users\\volodin\\Anaconda3\\lib\\site-packages\\sklearn\\linear_model\\_logistic.py\", line 443, in _check_solver\n",
      "    raise ValueError(\"Solver %s supports only 'l2' or 'none' penalties, \"\n",
      "ValueError: Solver lbfgs supports only 'l2' or 'none' penalties, got l1 penalty.\n",
      "\n",
      "  warnings.warn(\"Estimator fit failed. The score on this train-test\"\n",
      "C:\\Users\\volodin\\Anaconda3\\lib\\site-packages\\sklearn\\model_selection\\_validation.py:610: FitFailedWarning: Estimator fit failed. The score on this train-test partition for these parameters will be set to nan. Details: \n",
      "Traceback (most recent call last):\n",
      "  File \"C:\\Users\\volodin\\Anaconda3\\lib\\site-packages\\sklearn\\model_selection\\_validation.py\", line 593, in _fit_and_score\n",
      "    estimator.fit(X_train, y_train, **fit_params)\n",
      "  File \"C:\\Users\\volodin\\Anaconda3\\lib\\site-packages\\sklearn\\linear_model\\_logistic.py\", line 1306, in fit\n",
      "    solver = _check_solver(self.solver, self.penalty, self.dual)\n",
      "  File \"C:\\Users\\volodin\\Anaconda3\\lib\\site-packages\\sklearn\\linear_model\\_logistic.py\", line 443, in _check_solver\n",
      "    raise ValueError(\"Solver %s supports only 'l2' or 'none' penalties, \"\n",
      "ValueError: Solver lbfgs supports only 'l2' or 'none' penalties, got l1 penalty.\n",
      "\n",
      "  warnings.warn(\"Estimator fit failed. The score on this train-test\"\n",
      "C:\\Users\\volodin\\Anaconda3\\lib\\site-packages\\sklearn\\model_selection\\_validation.py:610: FitFailedWarning: Estimator fit failed. The score on this train-test partition for these parameters will be set to nan. Details: \n",
      "Traceback (most recent call last):\n",
      "  File \"C:\\Users\\volodin\\Anaconda3\\lib\\site-packages\\sklearn\\model_selection\\_validation.py\", line 593, in _fit_and_score\n",
      "    estimator.fit(X_train, y_train, **fit_params)\n",
      "  File \"C:\\Users\\volodin\\Anaconda3\\lib\\site-packages\\sklearn\\linear_model\\_logistic.py\", line 1306, in fit\n",
      "    solver = _check_solver(self.solver, self.penalty, self.dual)\n",
      "  File \"C:\\Users\\volodin\\Anaconda3\\lib\\site-packages\\sklearn\\linear_model\\_logistic.py\", line 443, in _check_solver\n",
      "    raise ValueError(\"Solver %s supports only 'l2' or 'none' penalties, \"\n",
      "ValueError: Solver lbfgs supports only 'l2' or 'none' penalties, got l1 penalty.\n",
      "\n",
      "  warnings.warn(\"Estimator fit failed. The score on this train-test\"\n",
      "C:\\Users\\volodin\\Anaconda3\\lib\\site-packages\\sklearn\\model_selection\\_validation.py:610: FitFailedWarning: Estimator fit failed. The score on this train-test partition for these parameters will be set to nan. Details: \n",
      "Traceback (most recent call last):\n",
      "  File \"C:\\Users\\volodin\\Anaconda3\\lib\\site-packages\\sklearn\\model_selection\\_validation.py\", line 593, in _fit_and_score\n",
      "    estimator.fit(X_train, y_train, **fit_params)\n",
      "  File \"C:\\Users\\volodin\\Anaconda3\\lib\\site-packages\\sklearn\\linear_model\\_logistic.py\", line 1306, in fit\n",
      "    solver = _check_solver(self.solver, self.penalty, self.dual)\n",
      "  File \"C:\\Users\\volodin\\Anaconda3\\lib\\site-packages\\sklearn\\linear_model\\_logistic.py\", line 443, in _check_solver\n",
      "    raise ValueError(\"Solver %s supports only 'l2' or 'none' penalties, \"\n",
      "ValueError: Solver lbfgs supports only 'l2' or 'none' penalties, got l1 penalty.\n",
      "\n",
      "  warnings.warn(\"Estimator fit failed. The score on this train-test\"\n",
      "C:\\Users\\volodin\\Anaconda3\\lib\\site-packages\\sklearn\\model_selection\\_validation.py:610: FitFailedWarning: Estimator fit failed. The score on this train-test partition for these parameters will be set to nan. Details: \n",
      "Traceback (most recent call last):\n",
      "  File \"C:\\Users\\volodin\\Anaconda3\\lib\\site-packages\\sklearn\\model_selection\\_validation.py\", line 593, in _fit_and_score\n",
      "    estimator.fit(X_train, y_train, **fit_params)\n",
      "  File \"C:\\Users\\volodin\\Anaconda3\\lib\\site-packages\\sklearn\\linear_model\\_logistic.py\", line 1306, in fit\n",
      "    solver = _check_solver(self.solver, self.penalty, self.dual)\n",
      "  File \"C:\\Users\\volodin\\Anaconda3\\lib\\site-packages\\sklearn\\linear_model\\_logistic.py\", line 443, in _check_solver\n",
      "    raise ValueError(\"Solver %s supports only 'l2' or 'none' penalties, \"\n",
      "ValueError: Solver lbfgs supports only 'l2' or 'none' penalties, got l1 penalty.\n",
      "\n",
      "  warnings.warn(\"Estimator fit failed. The score on this train-test\"\n",
      "C:\\Users\\volodin\\Anaconda3\\lib\\site-packages\\sklearn\\model_selection\\_validation.py:610: FitFailedWarning: Estimator fit failed. The score on this train-test partition for these parameters will be set to nan. Details: \n",
      "Traceback (most recent call last):\n",
      "  File \"C:\\Users\\volodin\\Anaconda3\\lib\\site-packages\\sklearn\\model_selection\\_validation.py\", line 593, in _fit_and_score\n",
      "    estimator.fit(X_train, y_train, **fit_params)\n",
      "  File \"C:\\Users\\volodin\\Anaconda3\\lib\\site-packages\\sklearn\\linear_model\\_logistic.py\", line 1306, in fit\n",
      "    solver = _check_solver(self.solver, self.penalty, self.dual)\n",
      "  File \"C:\\Users\\volodin\\Anaconda3\\lib\\site-packages\\sklearn\\linear_model\\_logistic.py\", line 443, in _check_solver\n",
      "    raise ValueError(\"Solver %s supports only 'l2' or 'none' penalties, \"\n",
      "ValueError: Solver lbfgs supports only 'l2' or 'none' penalties, got l1 penalty.\n",
      "\n",
      "  warnings.warn(\"Estimator fit failed. The score on this train-test\"\n",
      "C:\\Users\\volodin\\Anaconda3\\lib\\site-packages\\sklearn\\model_selection\\_validation.py:610: FitFailedWarning: Estimator fit failed. The score on this train-test partition for these parameters will be set to nan. Details: \n",
      "Traceback (most recent call last):\n",
      "  File \"C:\\Users\\volodin\\Anaconda3\\lib\\site-packages\\sklearn\\model_selection\\_validation.py\", line 593, in _fit_and_score\n",
      "    estimator.fit(X_train, y_train, **fit_params)\n",
      "  File \"C:\\Users\\volodin\\Anaconda3\\lib\\site-packages\\sklearn\\linear_model\\_logistic.py\", line 1306, in fit\n",
      "    solver = _check_solver(self.solver, self.penalty, self.dual)\n",
      "  File \"C:\\Users\\volodin\\Anaconda3\\lib\\site-packages\\sklearn\\linear_model\\_logistic.py\", line 443, in _check_solver\n",
      "    raise ValueError(\"Solver %s supports only 'l2' or 'none' penalties, \"\n",
      "ValueError: Solver lbfgs supports only 'l2' or 'none' penalties, got l1 penalty.\n",
      "\n",
      "  warnings.warn(\"Estimator fit failed. The score on this train-test\"\n",
      "C:\\Users\\volodin\\Anaconda3\\lib\\site-packages\\sklearn\\model_selection\\_validation.py:610: FitFailedWarning: Estimator fit failed. The score on this train-test partition for these parameters will be set to nan. Details: \n",
      "Traceback (most recent call last):\n",
      "  File \"C:\\Users\\volodin\\Anaconda3\\lib\\site-packages\\sklearn\\model_selection\\_validation.py\", line 593, in _fit_and_score\n",
      "    estimator.fit(X_train, y_train, **fit_params)\n",
      "  File \"C:\\Users\\volodin\\Anaconda3\\lib\\site-packages\\sklearn\\linear_model\\_logistic.py\", line 1306, in fit\n",
      "    solver = _check_solver(self.solver, self.penalty, self.dual)\n",
      "  File \"C:\\Users\\volodin\\Anaconda3\\lib\\site-packages\\sklearn\\linear_model\\_logistic.py\", line 443, in _check_solver\n",
      "    raise ValueError(\"Solver %s supports only 'l2' or 'none' penalties, \"\n",
      "ValueError: Solver lbfgs supports only 'l2' or 'none' penalties, got l1 penalty.\n",
      "\n",
      "  warnings.warn(\"Estimator fit failed. The score on this train-test\"\n",
      "C:\\Users\\volodin\\Anaconda3\\lib\\site-packages\\sklearn\\model_selection\\_validation.py:610: FitFailedWarning: Estimator fit failed. The score on this train-test partition for these parameters will be set to nan. Details: \n",
      "Traceback (most recent call last):\n",
      "  File \"C:\\Users\\volodin\\Anaconda3\\lib\\site-packages\\sklearn\\model_selection\\_validation.py\", line 593, in _fit_and_score\n",
      "    estimator.fit(X_train, y_train, **fit_params)\n",
      "  File \"C:\\Users\\volodin\\Anaconda3\\lib\\site-packages\\sklearn\\linear_model\\_logistic.py\", line 1306, in fit\n",
      "    solver = _check_solver(self.solver, self.penalty, self.dual)\n",
      "  File \"C:\\Users\\volodin\\Anaconda3\\lib\\site-packages\\sklearn\\linear_model\\_logistic.py\", line 443, in _check_solver\n",
      "    raise ValueError(\"Solver %s supports only 'l2' or 'none' penalties, \"\n",
      "ValueError: Solver lbfgs supports only 'l2' or 'none' penalties, got l1 penalty.\n",
      "\n",
      "  warnings.warn(\"Estimator fit failed. The score on this train-test\"\n",
      "C:\\Users\\volodin\\Anaconda3\\lib\\site-packages\\sklearn\\model_selection\\_validation.py:610: FitFailedWarning: Estimator fit failed. The score on this train-test partition for these parameters will be set to nan. Details: \n",
      "Traceback (most recent call last):\n",
      "  File \"C:\\Users\\volodin\\Anaconda3\\lib\\site-packages\\sklearn\\model_selection\\_validation.py\", line 593, in _fit_and_score\n",
      "    estimator.fit(X_train, y_train, **fit_params)\n",
      "  File \"C:\\Users\\volodin\\Anaconda3\\lib\\site-packages\\sklearn\\linear_model\\_logistic.py\", line 1306, in fit\n",
      "    solver = _check_solver(self.solver, self.penalty, self.dual)\n",
      "  File \"C:\\Users\\volodin\\Anaconda3\\lib\\site-packages\\sklearn\\linear_model\\_logistic.py\", line 443, in _check_solver\n",
      "    raise ValueError(\"Solver %s supports only 'l2' or 'none' penalties, \"\n",
      "ValueError: Solver lbfgs supports only 'l2' or 'none' penalties, got l1 penalty.\n",
      "\n",
      "  warnings.warn(\"Estimator fit failed. The score on this train-test\"\n",
      "C:\\Users\\volodin\\Anaconda3\\lib\\site-packages\\sklearn\\model_selection\\_validation.py:610: FitFailedWarning: Estimator fit failed. The score on this train-test partition for these parameters will be set to nan. Details: \n",
      "Traceback (most recent call last):\n",
      "  File \"C:\\Users\\volodin\\Anaconda3\\lib\\site-packages\\sklearn\\model_selection\\_validation.py\", line 593, in _fit_and_score\n",
      "    estimator.fit(X_train, y_train, **fit_params)\n",
      "  File \"C:\\Users\\volodin\\Anaconda3\\lib\\site-packages\\sklearn\\linear_model\\_logistic.py\", line 1306, in fit\n",
      "    solver = _check_solver(self.solver, self.penalty, self.dual)\n",
      "  File \"C:\\Users\\volodin\\Anaconda3\\lib\\site-packages\\sklearn\\linear_model\\_logistic.py\", line 443, in _check_solver\n",
      "    raise ValueError(\"Solver %s supports only 'l2' or 'none' penalties, \"\n",
      "ValueError: Solver lbfgs supports only 'l2' or 'none' penalties, got l1 penalty.\n",
      "\n",
      "  warnings.warn(\"Estimator fit failed. The score on this train-test\"\n",
      "C:\\Users\\volodin\\Anaconda3\\lib\\site-packages\\sklearn\\model_selection\\_validation.py:610: FitFailedWarning: Estimator fit failed. The score on this train-test partition for these parameters will be set to nan. Details: \n",
      "Traceback (most recent call last):\n",
      "  File \"C:\\Users\\volodin\\Anaconda3\\lib\\site-packages\\sklearn\\model_selection\\_validation.py\", line 593, in _fit_and_score\n",
      "    estimator.fit(X_train, y_train, **fit_params)\n",
      "  File \"C:\\Users\\volodin\\Anaconda3\\lib\\site-packages\\sklearn\\linear_model\\_logistic.py\", line 1306, in fit\n",
      "    solver = _check_solver(self.solver, self.penalty, self.dual)\n",
      "  File \"C:\\Users\\volodin\\Anaconda3\\lib\\site-packages\\sklearn\\linear_model\\_logistic.py\", line 443, in _check_solver\n",
      "    raise ValueError(\"Solver %s supports only 'l2' or 'none' penalties, \"\n",
      "ValueError: Solver lbfgs supports only 'l2' or 'none' penalties, got l1 penalty.\n",
      "\n",
      "  warnings.warn(\"Estimator fit failed. The score on this train-test\"\n",
      "C:\\Users\\volodin\\Anaconda3\\lib\\site-packages\\sklearn\\model_selection\\_validation.py:610: FitFailedWarning: Estimator fit failed. The score on this train-test partition for these parameters will be set to nan. Details: \n",
      "Traceback (most recent call last):\n",
      "  File \"C:\\Users\\volodin\\Anaconda3\\lib\\site-packages\\sklearn\\model_selection\\_validation.py\", line 593, in _fit_and_score\n",
      "    estimator.fit(X_train, y_train, **fit_params)\n",
      "  File \"C:\\Users\\volodin\\Anaconda3\\lib\\site-packages\\sklearn\\linear_model\\_logistic.py\", line 1306, in fit\n",
      "    solver = _check_solver(self.solver, self.penalty, self.dual)\n",
      "  File \"C:\\Users\\volodin\\Anaconda3\\lib\\site-packages\\sklearn\\linear_model\\_logistic.py\", line 443, in _check_solver\n",
      "    raise ValueError(\"Solver %s supports only 'l2' or 'none' penalties, \"\n",
      "ValueError: Solver lbfgs supports only 'l2' or 'none' penalties, got l1 penalty.\n",
      "\n",
      "  warnings.warn(\"Estimator fit failed. The score on this train-test\"\n",
      "C:\\Users\\volodin\\Anaconda3\\lib\\site-packages\\sklearn\\model_selection\\_validation.py:610: FitFailedWarning: Estimator fit failed. The score on this train-test partition for these parameters will be set to nan. Details: \n",
      "Traceback (most recent call last):\n",
      "  File \"C:\\Users\\volodin\\Anaconda3\\lib\\site-packages\\sklearn\\model_selection\\_validation.py\", line 593, in _fit_and_score\n",
      "    estimator.fit(X_train, y_train, **fit_params)\n",
      "  File \"C:\\Users\\volodin\\Anaconda3\\lib\\site-packages\\sklearn\\linear_model\\_logistic.py\", line 1306, in fit\n",
      "    solver = _check_solver(self.solver, self.penalty, self.dual)\n",
      "  File \"C:\\Users\\volodin\\Anaconda3\\lib\\site-packages\\sklearn\\linear_model\\_logistic.py\", line 443, in _check_solver\n",
      "    raise ValueError(\"Solver %s supports only 'l2' or 'none' penalties, \"\n",
      "ValueError: Solver lbfgs supports only 'l2' or 'none' penalties, got l1 penalty.\n",
      "\n",
      "  warnings.warn(\"Estimator fit failed. The score on this train-test\"\n",
      "C:\\Users\\volodin\\Anaconda3\\lib\\site-packages\\sklearn\\model_selection\\_validation.py:610: FitFailedWarning: Estimator fit failed. The score on this train-test partition for these parameters will be set to nan. Details: \n",
      "Traceback (most recent call last):\n",
      "  File \"C:\\Users\\volodin\\Anaconda3\\lib\\site-packages\\sklearn\\model_selection\\_validation.py\", line 593, in _fit_and_score\n",
      "    estimator.fit(X_train, y_train, **fit_params)\n",
      "  File \"C:\\Users\\volodin\\Anaconda3\\lib\\site-packages\\sklearn\\linear_model\\_logistic.py\", line 1306, in fit\n",
      "    solver = _check_solver(self.solver, self.penalty, self.dual)\n",
      "  File \"C:\\Users\\volodin\\Anaconda3\\lib\\site-packages\\sklearn\\linear_model\\_logistic.py\", line 443, in _check_solver\n",
      "    raise ValueError(\"Solver %s supports only 'l2' or 'none' penalties, \"\n",
      "ValueError: Solver lbfgs supports only 'l2' or 'none' penalties, got l1 penalty.\n",
      "\n",
      "  warnings.warn(\"Estimator fit failed. The score on this train-test\"\n",
      "C:\\Users\\volodin\\Anaconda3\\lib\\site-packages\\sklearn\\model_selection\\_validation.py:610: FitFailedWarning: Estimator fit failed. The score on this train-test partition for these parameters will be set to nan. Details: \n",
      "Traceback (most recent call last):\n",
      "  File \"C:\\Users\\volodin\\Anaconda3\\lib\\site-packages\\sklearn\\model_selection\\_validation.py\", line 593, in _fit_and_score\n",
      "    estimator.fit(X_train, y_train, **fit_params)\n",
      "  File \"C:\\Users\\volodin\\Anaconda3\\lib\\site-packages\\sklearn\\linear_model\\_logistic.py\", line 1306, in fit\n",
      "    solver = _check_solver(self.solver, self.penalty, self.dual)\n",
      "  File \"C:\\Users\\volodin\\Anaconda3\\lib\\site-packages\\sklearn\\linear_model\\_logistic.py\", line 443, in _check_solver\n",
      "    raise ValueError(\"Solver %s supports only 'l2' or 'none' penalties, \"\n",
      "ValueError: Solver lbfgs supports only 'l2' or 'none' penalties, got l1 penalty.\n",
      "\n",
      "  warnings.warn(\"Estimator fit failed. The score on this train-test\"\n",
      "C:\\Users\\volodin\\Anaconda3\\lib\\site-packages\\sklearn\\model_selection\\_validation.py:610: FitFailedWarning: Estimator fit failed. The score on this train-test partition for these parameters will be set to nan. Details: \n",
      "Traceback (most recent call last):\n",
      "  File \"C:\\Users\\volodin\\Anaconda3\\lib\\site-packages\\sklearn\\model_selection\\_validation.py\", line 593, in _fit_and_score\n",
      "    estimator.fit(X_train, y_train, **fit_params)\n",
      "  File \"C:\\Users\\volodin\\Anaconda3\\lib\\site-packages\\sklearn\\linear_model\\_logistic.py\", line 1306, in fit\n",
      "    solver = _check_solver(self.solver, self.penalty, self.dual)\n",
      "  File \"C:\\Users\\volodin\\Anaconda3\\lib\\site-packages\\sklearn\\linear_model\\_logistic.py\", line 443, in _check_solver\n",
      "    raise ValueError(\"Solver %s supports only 'l2' or 'none' penalties, \"\n",
      "ValueError: Solver lbfgs supports only 'l2' or 'none' penalties, got l1 penalty.\n",
      "\n",
      "  warnings.warn(\"Estimator fit failed. The score on this train-test\"\n",
      "C:\\Users\\volodin\\Anaconda3\\lib\\site-packages\\sklearn\\model_selection\\_validation.py:610: FitFailedWarning: Estimator fit failed. The score on this train-test partition for these parameters will be set to nan. Details: \n",
      "Traceback (most recent call last):\n",
      "  File \"C:\\Users\\volodin\\Anaconda3\\lib\\site-packages\\sklearn\\model_selection\\_validation.py\", line 593, in _fit_and_score\n",
      "    estimator.fit(X_train, y_train, **fit_params)\n",
      "  File \"C:\\Users\\volodin\\Anaconda3\\lib\\site-packages\\sklearn\\linear_model\\_logistic.py\", line 1306, in fit\n",
      "    solver = _check_solver(self.solver, self.penalty, self.dual)\n",
      "  File \"C:\\Users\\volodin\\Anaconda3\\lib\\site-packages\\sklearn\\linear_model\\_logistic.py\", line 443, in _check_solver\n",
      "    raise ValueError(\"Solver %s supports only 'l2' or 'none' penalties, \"\n",
      "ValueError: Solver lbfgs supports only 'l2' or 'none' penalties, got l1 penalty.\n",
      "\n",
      "  warnings.warn(\"Estimator fit failed. The score on this train-test\"\n",
      "C:\\Users\\volodin\\Anaconda3\\lib\\site-packages\\sklearn\\model_selection\\_validation.py:610: FitFailedWarning: Estimator fit failed. The score on this train-test partition for these parameters will be set to nan. Details: \n",
      "Traceback (most recent call last):\n",
      "  File \"C:\\Users\\volodin\\Anaconda3\\lib\\site-packages\\sklearn\\model_selection\\_validation.py\", line 593, in _fit_and_score\n",
      "    estimator.fit(X_train, y_train, **fit_params)\n",
      "  File \"C:\\Users\\volodin\\Anaconda3\\lib\\site-packages\\sklearn\\linear_model\\_logistic.py\", line 1306, in fit\n",
      "    solver = _check_solver(self.solver, self.penalty, self.dual)\n",
      "  File \"C:\\Users\\volodin\\Anaconda3\\lib\\site-packages\\sklearn\\linear_model\\_logistic.py\", line 443, in _check_solver\n",
      "    raise ValueError(\"Solver %s supports only 'l2' or 'none' penalties, \"\n",
      "ValueError: Solver lbfgs supports only 'l2' or 'none' penalties, got l1 penalty.\n",
      "\n",
      "  warnings.warn(\"Estimator fit failed. The score on this train-test\"\n",
      "C:\\Users\\volodin\\Anaconda3\\lib\\site-packages\\sklearn\\model_selection\\_validation.py:610: FitFailedWarning: Estimator fit failed. The score on this train-test partition for these parameters will be set to nan. Details: \n",
      "Traceback (most recent call last):\n",
      "  File \"C:\\Users\\volodin\\Anaconda3\\lib\\site-packages\\sklearn\\model_selection\\_validation.py\", line 593, in _fit_and_score\n",
      "    estimator.fit(X_train, y_train, **fit_params)\n",
      "  File \"C:\\Users\\volodin\\Anaconda3\\lib\\site-packages\\sklearn\\linear_model\\_logistic.py\", line 1306, in fit\n",
      "    solver = _check_solver(self.solver, self.penalty, self.dual)\n",
      "  File \"C:\\Users\\volodin\\Anaconda3\\lib\\site-packages\\sklearn\\linear_model\\_logistic.py\", line 443, in _check_solver\n",
      "    raise ValueError(\"Solver %s supports only 'l2' or 'none' penalties, \"\n",
      "ValueError: Solver lbfgs supports only 'l2' or 'none' penalties, got l1 penalty.\n",
      "\n",
      "  warnings.warn(\"Estimator fit failed. The score on this train-test\"\n",
      "C:\\Users\\volodin\\Anaconda3\\lib\\site-packages\\sklearn\\model_selection\\_validation.py:610: FitFailedWarning: Estimator fit failed. The score on this train-test partition for these parameters will be set to nan. Details: \n",
      "Traceback (most recent call last):\n",
      "  File \"C:\\Users\\volodin\\Anaconda3\\lib\\site-packages\\sklearn\\model_selection\\_validation.py\", line 593, in _fit_and_score\n",
      "    estimator.fit(X_train, y_train, **fit_params)\n",
      "  File \"C:\\Users\\volodin\\Anaconda3\\lib\\site-packages\\sklearn\\linear_model\\_logistic.py\", line 1306, in fit\n",
      "    solver = _check_solver(self.solver, self.penalty, self.dual)\n",
      "  File \"C:\\Users\\volodin\\Anaconda3\\lib\\site-packages\\sklearn\\linear_model\\_logistic.py\", line 443, in _check_solver\n",
      "    raise ValueError(\"Solver %s supports only 'l2' or 'none' penalties, \"\n",
      "ValueError: Solver lbfgs supports only 'l2' or 'none' penalties, got l1 penalty.\n",
      "\n",
      "  warnings.warn(\"Estimator fit failed. The score on this train-test\"\n",
      "C:\\Users\\volodin\\Anaconda3\\lib\\site-packages\\sklearn\\model_selection\\_validation.py:610: FitFailedWarning: Estimator fit failed. The score on this train-test partition for these parameters will be set to nan. Details: \n",
      "Traceback (most recent call last):\n",
      "  File \"C:\\Users\\volodin\\Anaconda3\\lib\\site-packages\\sklearn\\model_selection\\_validation.py\", line 593, in _fit_and_score\n",
      "    estimator.fit(X_train, y_train, **fit_params)\n",
      "  File \"C:\\Users\\volodin\\Anaconda3\\lib\\site-packages\\sklearn\\linear_model\\_logistic.py\", line 1306, in fit\n",
      "    solver = _check_solver(self.solver, self.penalty, self.dual)\n",
      "  File \"C:\\Users\\volodin\\Anaconda3\\lib\\site-packages\\sklearn\\linear_model\\_logistic.py\", line 443, in _check_solver\n",
      "    raise ValueError(\"Solver %s supports only 'l2' or 'none' penalties, \"\n",
      "ValueError: Solver lbfgs supports only 'l2' or 'none' penalties, got l1 penalty.\n",
      "\n",
      "  warnings.warn(\"Estimator fit failed. The score on this train-test\"\n",
      "C:\\Users\\volodin\\Anaconda3\\lib\\site-packages\\sklearn\\model_selection\\_validation.py:610: FitFailedWarning: Estimator fit failed. The score on this train-test partition for these parameters will be set to nan. Details: \n",
      "Traceback (most recent call last):\n",
      "  File \"C:\\Users\\volodin\\Anaconda3\\lib\\site-packages\\sklearn\\model_selection\\_validation.py\", line 593, in _fit_and_score\n",
      "    estimator.fit(X_train, y_train, **fit_params)\n",
      "  File \"C:\\Users\\volodin\\Anaconda3\\lib\\site-packages\\sklearn\\linear_model\\_logistic.py\", line 1306, in fit\n",
      "    solver = _check_solver(self.solver, self.penalty, self.dual)\n",
      "  File \"C:\\Users\\volodin\\Anaconda3\\lib\\site-packages\\sklearn\\linear_model\\_logistic.py\", line 443, in _check_solver\n",
      "    raise ValueError(\"Solver %s supports only 'l2' or 'none' penalties, \"\n",
      "ValueError: Solver lbfgs supports only 'l2' or 'none' penalties, got l1 penalty.\n",
      "\n",
      "  warnings.warn(\"Estimator fit failed. The score on this train-test\"\n",
      "C:\\Users\\volodin\\Anaconda3\\lib\\site-packages\\sklearn\\model_selection\\_validation.py:610: FitFailedWarning: Estimator fit failed. The score on this train-test partition for these parameters will be set to nan. Details: \n",
      "Traceback (most recent call last):\n",
      "  File \"C:\\Users\\volodin\\Anaconda3\\lib\\site-packages\\sklearn\\model_selection\\_validation.py\", line 593, in _fit_and_score\n",
      "    estimator.fit(X_train, y_train, **fit_params)\n",
      "  File \"C:\\Users\\volodin\\Anaconda3\\lib\\site-packages\\sklearn\\linear_model\\_logistic.py\", line 1306, in fit\n",
      "    solver = _check_solver(self.solver, self.penalty, self.dual)\n",
      "  File \"C:\\Users\\volodin\\Anaconda3\\lib\\site-packages\\sklearn\\linear_model\\_logistic.py\", line 443, in _check_solver\n",
      "    raise ValueError(\"Solver %s supports only 'l2' or 'none' penalties, \"\n",
      "ValueError: Solver lbfgs supports only 'l2' or 'none' penalties, got l1 penalty.\n",
      "\n",
      "  warnings.warn(\"Estimator fit failed. The score on this train-test\"\n",
      "C:\\Users\\volodin\\Anaconda3\\lib\\site-packages\\sklearn\\model_selection\\_validation.py:610: FitFailedWarning: Estimator fit failed. The score on this train-test partition for these parameters will be set to nan. Details: \n",
      "Traceback (most recent call last):\n",
      "  File \"C:\\Users\\volodin\\Anaconda3\\lib\\site-packages\\sklearn\\model_selection\\_validation.py\", line 593, in _fit_and_score\n",
      "    estimator.fit(X_train, y_train, **fit_params)\n",
      "  File \"C:\\Users\\volodin\\Anaconda3\\lib\\site-packages\\sklearn\\linear_model\\_logistic.py\", line 1306, in fit\n",
      "    solver = _check_solver(self.solver, self.penalty, self.dual)\n",
      "  File \"C:\\Users\\volodin\\Anaconda3\\lib\\site-packages\\sklearn\\linear_model\\_logistic.py\", line 443, in _check_solver\n",
      "    raise ValueError(\"Solver %s supports only 'l2' or 'none' penalties, \"\n",
      "ValueError: Solver lbfgs supports only 'l2' or 'none' penalties, got l1 penalty.\n",
      "\n",
      "  warnings.warn(\"Estimator fit failed. The score on this train-test\"\n",
      "C:\\Users\\volodin\\Anaconda3\\lib\\site-packages\\sklearn\\model_selection\\_validation.py:610: FitFailedWarning: Estimator fit failed. The score on this train-test partition for these parameters will be set to nan. Details: \n",
      "Traceback (most recent call last):\n",
      "  File \"C:\\Users\\volodin\\Anaconda3\\lib\\site-packages\\sklearn\\model_selection\\_validation.py\", line 593, in _fit_and_score\n",
      "    estimator.fit(X_train, y_train, **fit_params)\n",
      "  File \"C:\\Users\\volodin\\Anaconda3\\lib\\site-packages\\sklearn\\linear_model\\_logistic.py\", line 1306, in fit\n",
      "    solver = _check_solver(self.solver, self.penalty, self.dual)\n",
      "  File \"C:\\Users\\volodin\\Anaconda3\\lib\\site-packages\\sklearn\\linear_model\\_logistic.py\", line 443, in _check_solver\n",
      "    raise ValueError(\"Solver %s supports only 'l2' or 'none' penalties, \"\n",
      "ValueError: Solver lbfgs supports only 'l2' or 'none' penalties, got l1 penalty.\n",
      "\n",
      "  warnings.warn(\"Estimator fit failed. The score on this train-test\"\n",
      "C:\\Users\\volodin\\Anaconda3\\lib\\site-packages\\sklearn\\model_selection\\_validation.py:610: FitFailedWarning: Estimator fit failed. The score on this train-test partition for these parameters will be set to nan. Details: \n",
      "Traceback (most recent call last):\n",
      "  File \"C:\\Users\\volodin\\Anaconda3\\lib\\site-packages\\sklearn\\model_selection\\_validation.py\", line 593, in _fit_and_score\n",
      "    estimator.fit(X_train, y_train, **fit_params)\n",
      "  File \"C:\\Users\\volodin\\Anaconda3\\lib\\site-packages\\sklearn\\linear_model\\_logistic.py\", line 1306, in fit\n",
      "    solver = _check_solver(self.solver, self.penalty, self.dual)\n",
      "  File \"C:\\Users\\volodin\\Anaconda3\\lib\\site-packages\\sklearn\\linear_model\\_logistic.py\", line 443, in _check_solver\n",
      "    raise ValueError(\"Solver %s supports only 'l2' or 'none' penalties, \"\n",
      "ValueError: Solver lbfgs supports only 'l2' or 'none' penalties, got l1 penalty.\n",
      "\n",
      "  warnings.warn(\"Estimator fit failed. The score on this train-test\"\n",
      "C:\\Users\\volodin\\Anaconda3\\lib\\site-packages\\sklearn\\model_selection\\_search.py:918: UserWarning: One or more of the test scores are non-finite: [       nan 0.67147969        nan 0.67147969        nan 0.67147008\n",
      "        nan 0.67145085        nan 0.67146046        nan 0.67147969\n",
      "        nan 0.67147969        nan 0.67145085        nan 0.67147969\n",
      "        nan 0.67147008]\n",
      "  warnings.warn(\n"
     ]
    },
    {
     "name": "stdout",
     "output_type": "stream",
     "text": [
      "Лучшее Penalty: l2\n",
      "Лучшее C: 464.15888336127773\n"
     ]
    }
   ],
   "source": [
    "clf = GridSearchCV(model, hyperparameters, cv=5, verbose=0)\n",
    "\n",
    "best_model = clf.fit(X_train, y_train)\n",
    "\n",
    "best_p = best_model.best_estimator_.get_params()['penalty']\n",
    "best_C = best_model.best_estimator_.get_params()['C']\n",
    "\n",
    "\n",
    "print('Лучшее Penalty:', best_p)\n",
    "print('Лучшее C:', best_C)"
   ]
  },
  {
   "cell_type": "markdown",
   "id": "62c5a55b",
   "metadata": {},
   "source": [
    "**ОПИСЫВАЕМ И ОБУЧАЕМ МОДЕЛЬ**"
   ]
  },
  {
   "cell_type": "code",
   "execution_count": 75,
   "id": "a361da26",
   "metadata": {},
   "outputs": [
    {
     "data": {
      "text/plain": [
       "LogisticRegression(C=464.15888336127773, class_weight='balanced', max_iter=1000,\n",
       "                   solver='liblinear')"
      ]
     },
     "execution_count": 75,
     "metadata": {},
     "output_type": "execute_result"
    }
   ],
   "source": [
    "model = LogisticRegression( \n",
    "                           C=best_C, \n",
    "                           class_weight='balanced', \n",
    "                           dual=False, \n",
    "                           fit_intercept=True, \n",
    "                           intercept_scaling=1, \n",
    "                           l1_ratio=None, \n",
    "                           multi_class='auto', \n",
    "                           n_jobs=None, \n",
    "                           penalty='l2', \n",
    "                           solver='liblinear', \n",
    "                           verbose=0, \n",
    "                           max_iter=1000)\n",
    "\n",
    "model.fit(X_train, y_train)"
   ]
  },
  {
   "cell_type": "markdown",
   "id": "c5d5ba43",
   "metadata": {},
   "source": [
    "**ПРЕДСКАЗЫВАЕМ ЗНАЧЕНИЯ ВАЛИДАЦИОННОЙ БАЗЫ**"
   ]
  },
  {
   "cell_type": "code",
   "execution_count": 76,
   "id": "b3782dd0",
   "metadata": {},
   "outputs": [],
   "source": [
    "Y_predict = model.predict(X_valid)\n",
    "Y_predict_prob = model.predict_proba(X_valid)[:,1]"
   ]
  },
  {
   "cell_type": "code",
   "execution_count": 77,
   "id": "3eae46b1",
   "metadata": {
    "scrolled": true
   },
   "outputs": [
    {
     "data": {
      "text/plain": [
       "array([0.83703872, 0.22733058, 0.68994322, ..., 0.51158698, 0.42891952,\n",
       "       0.76976184])"
      ]
     },
     "execution_count": 77,
     "metadata": {},
     "output_type": "execute_result"
    }
   ],
   "source": [
    "Y_predict_prob"
   ]
  },
  {
   "cell_type": "markdown",
   "id": "08ea3d76",
   "metadata": {},
   "source": [
    "**ПРЕДСКАЗЫВАЕМ ЗНАЧЕНИЯ ТЕСТОВОЙ БАЗЫ**"
   ]
  },
  {
   "cell_type": "code",
   "execution_count": 78,
   "id": "9e9b90e8",
   "metadata": {},
   "outputs": [],
   "source": [
    "# Предсказываем значения тестовой базы\n",
    "y_pred_test = model.predict(test)\n",
    "y_pred_prob_test = model.predict_proba(test)[:,1]"
   ]
  },
  {
   "cell_type": "code",
   "execution_count": 79,
   "id": "fc0e34cd",
   "metadata": {},
   "outputs": [
    {
     "data": {
      "text/plain": [
       "array([0.25424814, 0.81158898, 0.29464233, ..., 0.84965034, 0.71019469,\n",
       "       0.71832711])"
      ]
     },
     "execution_count": 79,
     "metadata": {},
     "output_type": "execute_result"
    }
   ],
   "source": [
    "y_pred_prob_test"
   ]
  },
  {
   "cell_type": "markdown",
   "id": "680539f3",
   "metadata": {},
   "source": [
    "**ФУНКЦИЯ ДЛЯ ВЫВОДА МЕТРИК ДЛЯ ОЦЕНКИ КАЧЕСТВА МОДЕЛИ**"
   ]
  },
  {
   "cell_type": "code",
   "execution_count": 80,
   "id": "924b7885",
   "metadata": {},
   "outputs": [],
   "source": [
    "def all_metrics(y_true, y_pred, y_pred_prob):\n",
    "    dict_metric = {}\n",
    "    P = np.sum(y_true==1)\n",
    "    N = np.sum(y_true==0)\n",
    "    TP = np.sum((y_true==1)&(y_pred==1))\n",
    "    TN = np.sum((y_true==0)&(y_pred==0))\n",
    "    FP = np.sum((y_true==0)&(y_pred==1))\n",
    "    FN = np.sum((y_true==1)&(y_pred==0))\n",
    "    \n",
    "    dict_metric['Positive, P'] = [P,'default']\n",
    "    dict_metric['Negative, N'] = [N,'non-default']\n",
    "    dict_metric['True Positive, TP'] = [TP,'correctly identified default']\n",
    "    dict_metric['True Negative, TN'] = [TN,'correctly identified non-default']\n",
    "    dict_metric['False Positive, FP'] = [FP,'incorrectly identified default']\n",
    "    dict_metric['False Negative, FN'] = [FN,'incorrectly identified non-default']\n",
    "    dict_metric['Accuracy'] = [accuracy_score(y_true, y_pred),'Accuracy=(TP+TN)/(P+N)']\n",
    "    dict_metric['Precision'] = [precision_score(y_true, y_pred),'Precision = TP/(TP+FP)'] \n",
    "    dict_metric['Recall'] = [recall_score(y_true, y_pred),'Recall = TP/P']\n",
    "    dict_metric['F1-score'] = [f1_score(y_true, y_pred),'Harmonical mean of Precision и Recall']\n",
    "    dict_metric['ROC_AUC'] = [roc_auc_score(y_true, y_pred_prob),'ROC AUC Score']    \n",
    "\n",
    "    temp_df = pd.DataFrame.from_dict(dict_metric, orient='index', columns=['Value', 'Description'])\n",
    "    display(temp_df)"
   ]
  },
  {
   "cell_type": "markdown",
   "id": "c8e5749a",
   "metadata": {},
   "source": [
    "**ПОСТРОИМ ROC-КРИВУЮ**"
   ]
  },
  {
   "cell_type": "code",
   "execution_count": 81,
   "id": "efd08109",
   "metadata": {},
   "outputs": [
    {
     "data": {
      "image/png": "[encoded data removed]",
      "text/plain": [
       "<Figure size 432x288 with 1 Axes>"
      ]
     },
     "metadata": {
      "needs_background": "light"
     },
     "output_type": "display_data"
    }
   ],
   "source": [
    "fpr, tpr, threshold = roc_curve(y_valid, Y_predict_prob)\n",
    "roc_auc = roc_auc_score(y_valid, Y_predict_prob)\n",
    "\n",
    "plt.figure()\n",
    "plt.plot([0, 1], label='Baseline', linestyle='--')\n",
    "plt.plot(fpr, tpr, label = 'Regression')\n",
    "plt.title('Logistic Regression ROC AUC = %0.3f' % roc_auc)\n",
    "plt.ylabel('True Positive Rate')\n",
    "plt.xlabel('False Positive Rate')\n",
    "plt.legend(loc = 'lower right')\n",
    "plt.show()"
   ]
  },
  {
   "cell_type": "markdown",
   "id": "241245d1",
   "metadata": {},
   "source": [
    "**ФУНКЦИЯ ДЛЯ ВИЗУАЛИЗАЦИИ CONFUSION MATRIX**"
   ]
  },
  {
   "cell_type": "code",
   "execution_count": 82,
   "id": "81bee63f",
   "metadata": {},
   "outputs": [],
   "source": [
    "def show_confusion_matrix(y_true, y_pred):\n",
    "    color_text = plt.get_cmap('PuBu')(0.95)\n",
    "    class_names = ['Default', 'Non-Default']\n",
    "    cm = confusion_matrix(y_true, y_pred)\n",
    "    cm[0,0], cm[1,1] = cm[1,1], cm[0,0]\n",
    "    df = pd.DataFrame(cm, index=class_names, columns=class_names)\n",
    "    \n",
    "    fig, ax = plt.subplots(figsize=(6, 6))\n",
    "    ax.set(xticks=np.arange(cm.shape[1]), yticks=np.arange(cm.shape[0]), title=\"Confusion Matrix\")\n",
    "    ax.title.set_fontsize(15)\n",
    "    sns.heatmap(df, square=True, annot=True, fmt=\"d\", linewidths=1, cmap=\"PuBu\")\n",
    "    plt.setp(ax.get_yticklabels(), rotation=0, ha=\"right\", rotation_mode=\"anchor\", fontsize=12)\n",
    "    plt.setp(ax.get_xticklabels(), rotation=0, ha=\"center\", rotation_mode=\"anchor\", fontsize=12)\n",
    "    ax.set_ylabel('Predicted Values', fontsize=14, color = color_text)\n",
    "    ax.set_xlabel('Real Values', fontsize=14, color = color_text)\n",
    "    b, t = plt.ylim()\n",
    "    plt.ylim(b+0.5, t-0.5)\n",
    "    fig.tight_layout()\n",
    "    plt.show()"
   ]
  },
  {
   "cell_type": "markdown",
   "id": "62af736b",
   "metadata": {},
   "source": [
    "**ВЫВЕДЕМ CONFUSION MATRIX**"
   ]
  },
  {
   "cell_type": "code",
   "execution_count": 83,
   "id": "9e1dbc9d",
   "metadata": {},
   "outputs": [
    {
     "data": {
      "image/png": "[encoded data removed]",
      "text/plain": [
       "<Figure size 432x432 with 2 Axes>"
      ]
     },
     "metadata": {
      "needs_background": "light"
     },
     "output_type": "display_data"
    }
   ],
   "source": [
    "show_confusion_matrix(y_valid, Y_predict)"
   ]
  },
  {
   "cell_type": "markdown",
   "id": "bf9d2069",
   "metadata": {},
   "source": [
    "**МЕТРИКИ КАЧЕСТВА МОДЕЛИ**"
   ]
  },
  {
   "cell_type": "code",
   "execution_count": 84,
   "id": "af783407",
   "metadata": {},
   "outputs": [
    {
     "data": {
      "text/html": [
       "<div>\n",
       "<style scoped>\n",
       "    .dataframe tbody tr th:only-of-type {\n",
       "        vertical-align: middle;\n",
       "    }\n",
       "\n",
       "    .dataframe tbody tr th {\n",
       "        vertical-align: top;\n",
       "    }\n",
       "\n",
       "    .dataframe thead th {\n",
       "        text-align: right;\n",
       "    }\n",
       "</style>\n",
       "<table border=\"1\" class=\"dataframe\">\n",
       "  <thead>\n",
       "    <tr style=\"text-align: right;\">\n",
       "      <th></th>\n",
       "      <th>Value</th>\n",
       "      <th>Description</th>\n",
       "    </tr>\n",
       "  </thead>\n",
       "  <tbody>\n",
       "    <tr>\n",
       "      <th>Positive, P</th>\n",
       "      <td>13022.000000</td>\n",
       "      <td>default</td>\n",
       "    </tr>\n",
       "    <tr>\n",
       "      <th>Negative, N</th>\n",
       "      <td>12985.000000</td>\n",
       "      <td>non-default</td>\n",
       "    </tr>\n",
       "    <tr>\n",
       "      <th>True Positive, TP</th>\n",
       "      <td>8769.000000</td>\n",
       "      <td>correctly identified default</td>\n",
       "    </tr>\n",
       "    <tr>\n",
       "      <th>True Negative, TN</th>\n",
       "      <td>8755.000000</td>\n",
       "      <td>correctly identified non-default</td>\n",
       "    </tr>\n",
       "    <tr>\n",
       "      <th>False Positive, FP</th>\n",
       "      <td>4230.000000</td>\n",
       "      <td>incorrectly identified default</td>\n",
       "    </tr>\n",
       "    <tr>\n",
       "      <th>False Negative, FN</th>\n",
       "      <td>4253.000000</td>\n",
       "      <td>incorrectly identified non-default</td>\n",
       "    </tr>\n",
       "    <tr>\n",
       "      <th>Accuracy</th>\n",
       "      <td>0.673819</td>\n",
       "      <td>Accuracy=(TP+TN)/(P+N)</td>\n",
       "    </tr>\n",
       "    <tr>\n",
       "      <th>Precision</th>\n",
       "      <td>0.674590</td>\n",
       "      <td>Precision = TP/(TP+FP)</td>\n",
       "    </tr>\n",
       "    <tr>\n",
       "      <th>Recall</th>\n",
       "      <td>0.673399</td>\n",
       "      <td>Recall = TP/P</td>\n",
       "    </tr>\n",
       "    <tr>\n",
       "      <th>F1-score</th>\n",
       "      <td>0.673994</td>\n",
       "      <td>Harmonical mean of Precision и Recall</td>\n",
       "    </tr>\n",
       "    <tr>\n",
       "      <th>ROC_AUC</th>\n",
       "      <td>0.739470</td>\n",
       "      <td>ROC AUC Score</td>\n",
       "    </tr>\n",
       "  </tbody>\n",
       "</table>\n",
       "</div>"
      ],
      "text/plain": [
       "                           Value                            Description\n",
       "Positive, P         13022.000000                                default\n",
       "Negative, N         12985.000000                            non-default\n",
       "True Positive, TP    8769.000000           correctly identified default\n",
       "True Negative, TN    8755.000000       correctly identified non-default\n",
       "False Positive, FP   4230.000000         incorrectly identified default\n",
       "False Negative, FN   4253.000000     incorrectly identified non-default\n",
       "Accuracy                0.673819                 Accuracy=(TP+TN)/(P+N)\n",
       "Precision               0.674590                 Precision = TP/(TP+FP)\n",
       "Recall                  0.673399                          Recall = TP/P\n",
       "F1-score                0.673994  Harmonical mean of Precision и Recall\n",
       "ROC_AUC                 0.739470                          ROC AUC Score"
      ]
     },
     "metadata": {},
     "output_type": "display_data"
    }
   ],
   "source": [
    "all_metrics(y_valid, Y_predict, Y_predict_prob)"
   ]
  },
  {
   "cell_type": "markdown",
   "id": "6bbb6af8",
   "metadata": {},
   "source": [
    "**ОБУЧАЕМ МОДЕЛЬ НА ВСЕЙ ОБУЧАЮЩЕЙ БАЗЕ**"
   ]
  },
  {
   "cell_type": "code",
   "execution_count": null,
   "id": "9bbd9444",
   "metadata": {},
   "outputs": [],
   "source": [
    "main_model = LogisticRegression( \n",
    "                           C=2.7825594022071245, \n",
    "                           class_weight='balanced', \n",
    "                           dual=False, \n",
    "                           fit_intercept=True, \n",
    "                           intercept_scaling=1, \n",
    "                           l1_ratio=None, \n",
    "                           multi_class='auto', \n",
    "                           n_jobs=None, \n",
    "                           penalty='l2', \n",
    "                           solver='liblinear', \n",
    "                           verbose=0, \n",
    "                           max_iter=1000)\n",
    "main_model.fit(X, Y)"
   ]
  },
  {
   "cell_type": "markdown",
   "id": "720abe49",
   "metadata": {},
   "source": [
    "**ПРЕДСКАЗЫВАЕМ ЗНАЧЕНИЯ ДЛЯ ТЕСТОВОЙ БАЗЫ**"
   ]
  },
  {
   "cell_type": "code",
   "execution_count": 85,
   "id": "7b9ba58f",
   "metadata": {},
   "outputs": [
    {
     "ename": "NameError",
     "evalue": "name 'main_model' is not defined",
     "output_type": "error",
     "traceback": [
      "\u001b[1;31m---------------------------------------------------------------------------\u001b[0m",
      "\u001b[1;31mNameError\u001b[0m                                 Traceback (most recent call last)",
      "\u001b[1;32m<ipython-input-85-5138e4cc6812>\u001b[0m in \u001b[0;36m<module>\u001b[1;34m\u001b[0m\n\u001b[1;32m----> 1\u001b[1;33m \u001b[0my_pred_test\u001b[0m \u001b[1;33m=\u001b[0m \u001b[0mmain_model\u001b[0m\u001b[1;33m.\u001b[0m\u001b[0mpredict\u001b[0m\u001b[1;33m(\u001b[0m\u001b[0mtest\u001b[0m\u001b[1;33m)\u001b[0m\u001b[1;33m\u001b[0m\u001b[1;33m\u001b[0m\u001b[0m\n\u001b[0m\u001b[0;32m      2\u001b[0m \u001b[0my_pred_prob_test\u001b[0m \u001b[1;33m=\u001b[0m \u001b[0mmain_model\u001b[0m\u001b[1;33m.\u001b[0m\u001b[0mpredict_proba\u001b[0m\u001b[1;33m(\u001b[0m\u001b[0mtest\u001b[0m\u001b[1;33m)\u001b[0m\u001b[1;33m[\u001b[0m\u001b[1;33m:\u001b[0m\u001b[1;33m,\u001b[0m\u001b[1;36m1\u001b[0m\u001b[1;33m]\u001b[0m\u001b[1;33m\u001b[0m\u001b[1;33m\u001b[0m\u001b[0m\n",
      "\u001b[1;31mNameError\u001b[0m: name 'main_model' is not defined"
     ]
    }
   ],
   "source": [
    "y_pred_test = main_model.predict(test)\n",
    "y_pred_prob_test = main_model.predict_proba(test)[:,1]"
   ]
  },
  {
   "cell_type": "markdown",
   "id": "61470e18",
   "metadata": {},
   "source": [
    "**ЗАПИСЫВАЕМ ПРЕДСКАЗАННЫЕ МОДЕЛЬЮ ВЕРОЯТНОСТИ ДЕФОЛТА ЗАЁМЩИКОВ ИЗ ТЕСТОВОЙ БАЗЫ В ОТДЕЛЬНЫЙ ФАЙЛ**"
   ]
  },
  {
   "cell_type": "code",
   "execution_count": null,
   "id": "0195a534",
   "metadata": {},
   "outputs": [],
   "source": [
    "new_sample_submission = pd.DataFrame({'client_id': id_test,\n",
    "                              'default': y_pred_prob_test})\n",
    "new_sample_submission.to_csv('submission.csv', index=False)\n",
    "\n",
    "new_sample_submission.head(10)"
   ]
  },
  {
   "cell_type": "code",
   "execution_count": null,
   "id": "4c9dbe0f",
   "metadata": {},
   "outputs": [],
   "source": []
  }
 ],
 "metadata": {
  "kernelspec": {
   "display_name": "Python 3",
   "language": "python",
   "name": "python3"
  },
  "language_info": {
   "codemirror_mode": {
    "name": "ipython",
    "version": 3
   },
   "file_extension": ".py",
   "mimetype": "text/x-python",
   "name": "python",
   "nbconvert_exporter": "python",
   "pygments_lexer": "ipython3",
   "version": "3.8.8"
  }
 },
 "nbformat": 4,
 "nbformat_minor": 5
}
